{
 "cells": [
  {
   "cell_type": "markdown",
   "metadata": {
    "id": "8L33m5E2PzNX"
   },
   "source": [
    "# Job Shop Scheduling by AI Planning: State Space Search\n",
    "\n",
    "---\n",
    "\n",
    "The **job shop scheduling** problem is a classic AI planning, scheduling and combinatorial optimisation problem. It has many real-world applications in Industry 4.0, such as intelligent supply chain management, manufacturing and cloud computing. \n",
    "\n",
    "In this tutorial, we will introduce how to solve job shop scheduling through AI planning, specifically using **state space search**."
   ]
  },
  {
   "cell_type": "markdown",
   "metadata": {
    "id": "MZiJGnUdPzNc"
   },
   "source": [
    "## Car Manufacturing <a name = \"problem\"></a>\n",
    "\n",
    "---\n",
    "\n",
    "Let's consider a car manufacturing factory. It receives **jobs** to build cars. For the sake of simplicity, we consider that building a car consists of the following a **sequence** of three main **operations**:\n",
    "\n",
    "1. **Add Engine**: This is to add the engine to the car by an **Engine Hoist**;\n",
    "2. **Add Wheels**: This is to add the wheels to the car by a **Wheel Station**;\n",
    "3. **Inspect**: After the car has been built, it has to be inspected by an **Inspector**.\n",
    "\n",
    "<img src=\"img/car-manufacturing.png\" width=400 />\n",
    "\n",
    "Each operation of each job has a **duration (processing time)**, and the required **machine** to process it. There are two constraints that a job shop schedule must satisfy:\n",
    "\n",
    "1. **Resource Constraint**: each machine can process at most one operation at a time.\n",
    "2. **Precedence Constraint**: each operation cannot start processing until its precedent operation in the same job has been completed (e.g., `add_wheels` cannot start until `add_engine` is completed). The first operation of a job can be started at time 0 (the job is already at the shop floor).\n",
    "\n",
    "The goal of job shop scheduling is to find a schedule with the minimal **makespan** (the completion time of the last completed job), subject to the above resource and precedence constraints.\n",
    "\n",
    "Assuming that there are two jobs described as follows:\n",
    "\n",
    "| Job | Operation | Machine |  Duration |\n",
    "| --- | --------- | ------- |  --------- |\n",
    "| 1   | `add_engine_1` | `engine_hoist` | 30 |\n",
    "|     | `add_wheels_1` | `wheel_station` | 30 |\n",
    "|     | `inspect_1` |    `inspector` | 10 |\n",
    "| 2   | `add_engine_2` | `engine_hoist` | 60 |\n",
    "|     | `add_wheels_2` | `wheel_station` | 15 |\n",
    "|     | `inspect_2` |    `inspector` | 10 |\n",
    "\n",
    "We create the machines and jobs in Python as follows. The operations are linked through the `next` variable."
   ]
  },
  {
   "cell_type": "code",
   "execution_count": 1,
   "metadata": {},
   "outputs": [],
   "source": [
    "machines = ['engine_hoist', 'wheel_station', 'inspector']\n",
    "\n",
    "job_1 = [\n",
    "    {'name': 'add_engine_1', 'machine': 'engine_hoist', 'duration': 30, 'next': 'add_wheels_1'},\n",
    "    {'name': 'add_wheels_1', 'machine': 'wheel_station', 'duration': 30, 'next': 'inspect_1'},\n",
    "    {'name': 'inspect_1', 'machine': 'inspector', 'duration': 10, 'next': None}\n",
    "]\n",
    "\n",
    "job_2 = [\n",
    "    {'name': 'add_engine_2', 'machine': 'engine_hoist', 'duration': 60, 'next': 'add_wheels_2'},\n",
    "    {'name': 'add_wheels_2', 'machine': 'wheel_station', 'duration': 15, 'next': 'inspect_2'},\n",
    "    {'name': 'inspect_2', 'machine': 'inspector', 'duration': 10, 'next': None}\n",
    "]\n",
    "\n",
    "jobs = [job_1, job_2]"
   ]
  },
  {
   "cell_type": "markdown",
   "metadata": {},
   "source": [
    "Let's print the second operation of the second job, i.e., `add_wheels_2`."
   ]
  },
  {
   "cell_type": "code",
   "execution_count": 2,
   "metadata": {},
   "outputs": [
    {
     "name": "stdout",
     "output_type": "stream",
     "text": [
      "{'name': 'add_wheels_2', 'machine': 'wheel_station', 'duration': 15, 'next': 'inspect_2'}\n"
     ]
    }
   ],
   "source": [
    "print(job_2[1])"
   ]
  },
  {
   "cell_type": "markdown",
   "metadata": {
    "id": "tYK9G0mePzNd"
   },
   "source": [
    "Below shows the gantt chart of two possible feasible schedules. We can observe that the first schedule has a makespan of 115, while the second one has a makespan of 130.\n",
    "\n",
    "<img src=\"img/schedule1.png\" width=600 />\n",
    "\n",
    "<img src=\"img/schedule2.png\" width=600 />\n",
    "\n",
    "The two schedules can be represented as follows. Each schedule consists of a sequence of operations with their start time for each machine."
   ]
  },
  {
   "cell_type": "code",
   "execution_count": 3,
   "metadata": {},
   "outputs": [],
   "source": [
    "schedule_1 = {\n",
    "    'engine_hoist': [(job_1[0], 0), (job_2[0], 30)],\n",
    "    'wheel_station': [(job_1[1], 30), (job_2[1], 90)],\n",
    "    'inspector': [(job_1[2], 60), (job_2[2], 105)]\n",
    "}\n",
    "\n",
    "schedule_2 = {\n",
    "    'engine_hoist': [(job_2[0], 0), (job_1[0], 60)],\n",
    "    'wheel_station': [(job_2[1], 60), (job_1[1], 90)],\n",
    "    'inspector': [(job_2[2], 75), (job_1[2], 120)]\n",
    "}"
   ]
  },
  {
   "cell_type": "markdown",
   "metadata": {},
   "source": [
    "The **makespan** of a schedule can be easily calculated by the completion time of the last operation of the last job. In this case, it is the last operation on `inspector`, since `inspect` is the last operation of each job."
   ]
  },
  {
   "cell_type": "code",
   "execution_count": 4,
   "metadata": {},
   "outputs": [],
   "source": [
    "# Calculate the makespan of a schedule\n",
    "def makespan(schedule):\n",
    "    last_finish_time = 0\n",
    "    for machine_schedule in schedule.values():\n",
    "        last_processing = machine_schedule[-1]\n",
    "        machine_finish_time = last_processing[1] + last_processing[0]['duration']\n",
    "        \n",
    "        if machine_finish_time > last_finish_time:\n",
    "            last_finish_time = machine_finish_time\n",
    "            \n",
    "    return last_finish_time"
   ]
  },
  {
   "cell_type": "markdown",
   "metadata": {},
   "source": [
    "Let's calculate the makespan of `schedule_1` and `schedule_2`."
   ]
  },
  {
   "cell_type": "code",
   "execution_count": 5,
   "metadata": {},
   "outputs": [
    {
     "name": "stdout",
     "output_type": "stream",
     "text": [
      "Schedule 1 makespan = 115\n",
      "Schedule 2 makespan = 130\n"
     ]
    }
   ],
   "source": [
    "print(f'Schedule 1 makespan = {makespan(schedule_1)}')\n",
    "print(f'Schedule 2 makespan = {makespan(schedule_2)}')"
   ]
  },
  {
   "cell_type": "markdown",
   "metadata": {
    "id": "EBMXm42VPzNg"
   },
   "source": [
    "## State Space Search <a name=\"search\"></a>\n",
    "\n",
    "---\n",
    "\n",
    "Following the AI planning paradigm, the **state space search** for schedules needs to define the (1) initial state, (2) goal states, and (3) set of actions. In addition, the search is in a job shop environment with a number of machines and jobs to be processed. To this end, we need to define **environment**, **state** and **action** for the state space search."
   ]
  },
  {
   "cell_type": "markdown",
   "metadata": {},
   "source": [
    "### Environment <a name='env'></a>\n",
    "\n",
    "The job shop environment consists of the `machines` and `jobs` information. This is the static information that remain unchanged during the search. In other words, the environment stores the attributes that are not changed by the actions."
   ]
  },
  {
   "cell_type": "markdown",
   "metadata": {},
   "source": [
    "### State <a name=\"state\"></a>\n",
    "\n",
    "A job shop **state** should include the temporal states of each operation and each machine during the search, such as whether a machine is busy or idle, and when it will complete the current operation if it's busy, whether an operation is ready to be processed (i.e., its precedent operation has been completed) or not, etc. It should also include the current time and the schedule so far.\n",
    "\n",
    "Here, we define the job shop **state** with the following attributes:\n",
    "\n",
    "1. `machine_idle_time`: **the idle time of each machine**. If the idle time of a machine is earlier than the current time, then the machine is idle. Otherwise, the machine is busy with processing some operation. It will complete its operation and become idle again at its `machine_idle_time`. Initially, all the machines are idle, and their idle time are 0.\n",
    "2. `operation_ready_time`: **the ready time of each operation**. Initially, the first operation of each job is ready, i.e., its ready time is 0. Other operations are not ready yet. Then, once an operation has been completed, the ready time of its next operation is updated with the completion time of the operation.\n",
    "3. `schedule`: **the schedule so far**. Initially, the schedule is empty (no operation has been processed). A complete schedule includes the start and finish time of all the operations.\n",
    "4. `completed`: **the list of completed operations**. Initially, no operation is completed. In a goal state, all the operations are completed.\n",
    "\n",
    "For the above car manufacturing problem, we create the initial state as follows."
   ]
  },
  {
   "cell_type": "code",
   "execution_count": 6,
   "metadata": {},
   "outputs": [],
   "source": [
    "def create_init_state(machines, jobs):\n",
    "    init_state = {\n",
    "        \"machine_idle_time\": {},\n",
    "        \"operation_ready_time\": {},\n",
    "        \"schedule\": {},\n",
    "        \"completed\": [] # no operation is completed initially\n",
    "    }\n",
    "\n",
    "    # Initially, the idle time of all the machines are 0.\n",
    "    for m in machines:\n",
    "        init_state[\"machine_idle_time\"][m] = 0\n",
    "\n",
    "    # Initially, only the first operation of each job is ready at time 0\n",
    "    for job in jobs:\n",
    "        init_state[\"operation_ready_time\"][job[0][\"name\"]] = 0\n",
    "\n",
    "    # Initially, the machine schedules are empty\n",
    "    for m in machines:\n",
    "        init_state[\"schedule\"][m] = []\n",
    "    \n",
    "    return init_state"
   ]
  },
  {
   "cell_type": "markdown",
   "metadata": {},
   "source": [
    "Let's generate an initial state and print the initial machine idle time and operation ready time."
   ]
  },
  {
   "cell_type": "code",
   "execution_count": 7,
   "metadata": {},
   "outputs": [
    {
     "name": "stdout",
     "output_type": "stream",
     "text": [
      "Initial machine idle time: {'engine_hoist': 0, 'wheel_station': 0, 'inspector': 0}\n",
      "Initial operation ready time: {'add_engine_1': 0, 'add_engine_2': 0}\n"
     ]
    }
   ],
   "source": [
    "init_state = create_init_state(machines, jobs)\n",
    "\n",
    "print(f'Initial machine idle time: {init_state[\"machine_idle_time\"]}')\n",
    "print(f'Initial operation ready time: {init_state[\"operation_ready_time\"]}')"
   ]
  },
  {
   "cell_type": "markdown",
   "metadata": {},
   "source": [
    "We can see that initially all the three machines are idle at time 0, and only the first operations `add_engine` of the two jobs are ready at time 0."
   ]
  },
  {
   "cell_type": "markdown",
   "metadata": {
    "id": "sDMDJ4vUPzNi"
   },
   "source": [
    "### Action <a name=\"action\"></a>\n",
    "\n",
    "An **action** in the state space search is to **start processing** an `operation` by a `machine` at a specific `time`. \n",
    "\n",
    "For each action, the **precondition** (i.e., in which states the action is applicable) and **effect** (i.e., how the action updates the state when being applied) are given as follows.\n",
    "\n",
    "#### Precondition\n",
    "\n",
    "- `operation` is uncompleted, and is ready at `time`, i.e., `operation_ready_time[operation] <= time`.\n",
    "- `machine` is idle at `time`, i.e., `machine_idle_time[machine] <= time`.\n",
    "\n",
    "#### Effect\n",
    "\n",
    "- `operation` becomes completed, i.e., `completed[operation] = True`.\n",
    "- `machine` becomes busy, and its idle time is updated to `machine_idle_time[machine] = time + duration[operation]`.\n",
    "- If `operation` is not the last operation in the job, then its next operation becomes ready once it is completed, i.e., `operation_ready_time[next[operation]] = time + duration[operation]`."
   ]
  },
  {
   "cell_type": "markdown",
   "metadata": {
    "id": "fH0NGSVbPzNk"
   },
   "source": [
    "### Overall Search Algorithm <a name=\"overall\"></a>\n",
    "\n",
    "After designing the **state** and **action**, we now describe how to search for the best schedule in the state space.\n",
    "\n",
    "Note that the space space can be seen as a graph, where each state is a node, and each action is an edge/link to connect the nodes/states. Here, we follow the general **graph search** process which maintains a **fringe** of states that represents the current frontier during the search process. At each step, we pick one state from the fringe (i.e., visit a branch) to continue the search. The search stops after all the possible solutions have been found, and the fringe becomes empty. \n",
    "\n",
    "<img src=\"img/jss-state-search.png\" width=600 />\n",
    "\n",
    "The pseudo code of the state space search can be described as follows."
   ]
  },
  {
   "cell_type": "markdown",
   "metadata": {},
   "source": [
    "```python\n",
    "Create an initial state, best_state = None, best_makespan = infinity\n",
    "# Initialise the fringe with the initial state\n",
    "fringe = [initial_state]\n",
    "\n",
    "# Search by expanding a branch at each step\n",
    "while fringe is not empty:\n",
    "    Pick a state from fringe\n",
    "    \n",
    "    if state is a goal state:\n",
    "        if the schedule of state has a smaller makespan than best_makespan:\n",
    "            best_state = state, best_makespan = makespan\n",
    "    \n",
    "    Find the applicable actions in state\n",
    "    \n",
    "    for action in applicable_actions:\n",
    "        Apply action to state to create next_state\n",
    "        Add next_state into fringe\n",
    "\n",
    "    remove state from fringe\n",
    "    \n",
    "return the schedule of best_state\n",
    "```"
   ]
  },
  {
   "cell_type": "markdown",
   "metadata": {},
   "source": [
    "### Find Applicable Actions in a State\n",
    "\n",
    "During the search process, an important step is to find the applicable actions in a state. By definition, a process action includes three components: `operation`, `machine` and `time`. While the first two components `operation` and `machine` are relatively straightforward from the ready operations and idle machines, the processing start `time` is not trivially defined. Specifically, we can start processing an operation with a machine any time after the operation is ready and the machine is idle. For example, if `operation` is ready at time 30 and `machine` is idle at time 40, then we can start processing `operation` by `machine` any time after time 40 (e.g., 50, 60, etc). This leads to infinite number of applicable actions. \n",
    "\n",
    "To address this issue, we follow the common **non-delay** scheme, which means that no delay is allowed to process operations. In the above example where `operation` is ready at time 30 and `machine` is idle at time 40, there is ONLY one action starting at time 40 under the non-delay scheme.\n",
    "\n",
    "> In a state, there is one applicable non-delay action for each ready operation, and its starting time is the maximum of the operation ready time and the machine idle time."
   ]
  },
  {
   "cell_type": "markdown",
   "metadata": {},
   "source": [
    "The code of the overall **state space search** algorithm is shown below."
   ]
  },
  {
   "cell_type": "code",
   "execution_count": 8,
   "metadata": {},
   "outputs": [],
   "source": [
    "# Import the copy library to generate new states conveniently\n",
    "import copy\n",
    "\n",
    "def state_space_search(machines, jobs):\n",
    "    # Create the operation dictionary for state space search\n",
    "    operations = {}\n",
    "    for job in jobs:\n",
    "        for op in job:\n",
    "            operations[op['name']] = op\n",
    "\n",
    "    # Initially, the best schedule is None (no schedule is found), and best makespan is infinity\n",
    "    best_schedule = None\n",
    "    best_makespan = float('inf')\n",
    "\n",
    "    # Initially, the fringe has the initial state only\n",
    "    init_state = create_init_state(machines, jobs)\n",
    "    fringe = [init_state]\n",
    "\n",
    "    while len(fringe) > 0:\n",
    "        # Arbitrarily pick the first state in the fringe\n",
    "        state = fringe[0] \n",
    "\n",
    "        # Check if the current state is a goal state\n",
    "        if len(state[\"completed\"]) == len(operations):\n",
    "            # Calculate the makespan of the complete schedule\n",
    "            new_makespan = makespan(state[\"schedule\"])\n",
    "\n",
    "            if new_makespan < best_makespan:\n",
    "                best_schedule = state[\"schedule\"]\n",
    "                best_makespan = new_makespan\n",
    "\n",
    "        # Each ready operation has a non-delay applicable action to process it.\n",
    "        # Its start time is max[operation_ready_time, machine_idle_time].\n",
    "        applicable_actions = []\n",
    "        for opname in state[\"operation_ready_time\"].keys():\n",
    "            op = operations[opname]\n",
    "            machine = op['machine']        \n",
    "            time = state[\"operation_ready_time\"][opname]        \n",
    "            if time < state[\"machine_idle_time\"][machine]:\n",
    "                time = state[\"machine_idle_time\"][machine]\n",
    "\n",
    "            applicable_actions.append((op, time))\n",
    "\n",
    "        # Expand the branches, each by an applicable action\n",
    "        for a in applicable_actions:\n",
    "            op = a[0] # action operation\n",
    "            machine = op['machine'] # action machine\n",
    "            time = a[1] # action start time\n",
    "            finish_time = time + op[\"duration\"] # action finish time\n",
    "\n",
    "            # Apply the action to the current state, create the next state\n",
    "            next_state = copy.deepcopy(state) # deep copy\n",
    "            next_state[\"schedule\"][machine].append(a) # add action to corresponding machine schedule sequence\n",
    "            next_state[\"completed\"].append(op['name']) # add operation name to completed\n",
    "            next_state[\"operation_ready_time\"].pop(op['name']) # delete completed operation name from ready time\n",
    "            next_state[\"machine_idle_time\"][machine] = finish_time # machine will become idle after completion\n",
    "\n",
    "            # If the operation is not the last operation of the job, then its next operation becomes ready\n",
    "            if op['next'] != None:\n",
    "                next_op = operations[op['next']]\n",
    "                next_state[\"operation_ready_time\"][next_op['name']] = finish_time\n",
    "\n",
    "            fringe.append(next_state)\n",
    "        fringe.remove(state)\n",
    "    \n",
    "    return best_schedule"
   ]
  },
  {
   "cell_type": "markdown",
   "metadata": {},
   "source": [
    "Now, let's visualise the obtained best schedule by **gantt chart**. To this end, we need the `pandas` library to convert the schedule into a `DataFrame`, and the `matplotlib` to plot the gantt chart. The visualisation functions are shown as follows."
   ]
  },
  {
   "cell_type": "code",
   "execution_count": 9,
   "metadata": {},
   "outputs": [],
   "source": [
    "import pandas as pd\n",
    "import matplotlib.pyplot as plt\n",
    "import matplotlib as mpl\n",
    "\n",
    "# Convert schedule into DataFrame\n",
    "def schedule_data_frame(schedule):\n",
    "    schedule_dict = []\n",
    "    for machine_schedule in schedule.values():\n",
    "        for action in machine_schedule:\n",
    "            a_dict = {\n",
    "                'Operation': action[0]['name'],\n",
    "                'Machine': action[0]['machine'],\n",
    "                'Start': action[1],\n",
    "                'Duration': action[0]['duration'],\n",
    "                'Finish': action[1] + action[0]['duration']\n",
    "            }\n",
    "            schedule_dict.append(a_dict)\n",
    "    \n",
    "    return pd.DataFrame(schedule_dict)\n",
    "\n",
    "# Plot gantt chart from schedule\n",
    "def gantt_chart(schedule):\n",
    "    schedule = schedule_data_frame(schedule)\n",
    "    \n",
    "    JOBS = sorted(list(schedule['Operation'].unique()))\n",
    "    MACHINES = sorted(list(schedule['Machine'].unique()))\n",
    "    makespan = schedule['Finish'].max()\n",
    "    \n",
    "    bar_style = {'alpha':1.0, 'lw':25, 'solid_capstyle':'butt'}\n",
    "    text_style = {'color':'white', 'weight':'bold', 'ha':'center', 'va':'center'}\n",
    "    colors = mpl.cm.Dark2.colors\n",
    "\n",
    "    schedule.sort_values(by=['Operation', 'Start'])\n",
    "    schedule.set_index(['Operation', 'Machine'], inplace=True)\n",
    "\n",
    "    fig, ax = plt.subplots(2,1, figsize=(12, 5+(len(JOBS)+len(MACHINES))/4))\n",
    "\n",
    "    for jdx, j in enumerate(JOBS, 1):\n",
    "        for mdx, m in enumerate(MACHINES, 1):\n",
    "            if (j,m) in schedule.index:\n",
    "                xs = schedule.loc[(j,m), 'Start']\n",
    "                xf = schedule.loc[(j,m), 'Finish']\n",
    "                ax[0].plot([xs, xf], [jdx]*2, c=colors[mdx%7], **bar_style)\n",
    "                ax[0].text((xs + xf)/2, jdx, m, **text_style)\n",
    "                ax[1].plot([xs, xf], [mdx]*2, c=colors[jdx%7], **bar_style)\n",
    "                ax[1].text((xs + xf)/2, mdx, j, **text_style)\n",
    "                \n",
    "    ax[0].set_title('Job Schedule')\n",
    "    ax[0].set_ylabel('Operation')\n",
    "    ax[1].set_title('Machine Schedule')\n",
    "    ax[1].set_ylabel('Machine')\n",
    "    \n",
    "    for idx, s in enumerate([JOBS, MACHINES]):\n",
    "        ax[idx].set_ylim(0.5, len(s) + 0.5)\n",
    "        ax[idx].set_yticks(range(1, 1 + len(s)))\n",
    "        ax[idx].set_yticklabels(s)\n",
    "        ax[idx].text(makespan, ax[idx].get_ylim()[0]-0.2, \"{0:0.1f}\".format(makespan), ha='center', va='top')\n",
    "        ax[idx].plot([makespan]*2, ax[idx].get_ylim(), 'r--')\n",
    "        ax[idx].set_xlabel('Time')\n",
    "        ax[idx].grid(True)\n",
    "        \n",
    "    fig.tight_layout()"
   ]
  },
  {
   "cell_type": "markdown",
   "metadata": {},
   "source": [
    "Let's search for the best schedule by the state space search and plot the gantt chart for it."
   ]
  },
  {
   "cell_type": "code",
   "execution_count": 10,
   "metadata": {
    "scrolled": false
   },
   "outputs": [
    {
     "data": {
      "image/png": "[encoded data removed]",
      "text/plain": [
       "<Figure size 864x522 with 2 Axes>"
      ]
     },
     "metadata": {
      "needs_background": "light"
     },
     "output_type": "display_data"
    }
   ],
   "source": [
    "best_schedule = state_space_search(machines, jobs)\n",
    "gantt_chart(best_schedule)"
   ]
  },
  {
   "cell_type": "markdown",
   "metadata": {},
   "source": [
    "We can see that the best schedule is the `schedule_1` with the makespan of 115."
   ]
  },
  {
   "cell_type": "markdown",
   "metadata": {
    "id": "jwVYDzKuyGh2"
   },
   "source": [
    "## Computational Complexity <a name='complexity'></a>\n",
    "\n",
    "---\n",
    "\n",
    "Assume that there are $N$ jobs and $M$ machines. Each job has $M$ operations, each to be processed by a different machine. There are $NM$ operations in total.\n",
    "\n",
    "At each state, there can be at most $N$ applicable actions, as each job can have a ready operation. In other words, each node in the search tree has $O(N)$ branches. \n",
    "\n",
    "Each action completes an operation. Thus, it takes $NM$ actions from the initial state to a goal state. In other words, the depth of the tree is $NM$.\n",
    "\n",
    "<img src=\"img/jss-state-search.png\" width=600 />\n",
    "\n",
    "Therefore, to enumerate all the leaf nodes (goal states) of the search tree, one has to visit all the nodes in the search tree, which has a computational complexity of \n",
    "\n",
    "$$\n",
    "O(1 + N + N^2 + \\dots + N^{NM}) \\approx O(N^{NM}).\n",
    "$$\n",
    "\n",
    "> **NOTE**: Different states and actions can lead to the same resultant state, as shown in the figure above. Therefore, if we can avoid expanding the same state repetitively, the computational complexity can be greatly reduced.\n",
    "\n"
   ]
  },
  {
   "cell_type": "markdown",
   "metadata": {
    "id": "JFElKdmEPzNr"
   },
   "source": [
    "## Jobs with Different Operation Sequences <a name='diffop'></a>\n",
    "\n",
    "---\n",
    "\n",
    "In job shop scheduling, different jobs can have different operation sequences. For example, in the car manufacturing problem, we can have one job with the sequence of [`add_engine` $\\rightarrow$ `add_wheels` $\\rightarrow$ `inspect`], and another job with [`add_wheels` $\\rightarrow$ `add_engine` $\\rightarrow$ `inspect`].\n",
    "\n",
    "The state space search can be directly applied to job shop scheduling with any operation sequences.\n",
    "\n",
    "To show an example, we create a second job shop scheduling instance with different operation sequences in different jobs (i.e., `add_engine_2` and `add_wheels_2` are swapped in job 2):\n",
    "\n",
    "\n",
    "| Job | Operation | Machine |  Duration |\n",
    "| --- | --------- | ------- |  --------- |\n",
    "| 1   | `add_engine_1` | `engine_hoist` | 30 |\n",
    "|     | `add_wheels_1` | `wheel_station` | 30 |\n",
    "|     | `inspect_1` |    `inspector` | 10 |\n",
    "| 2   | `add_wheels_2` | `wheel_station` | 15 |\n",
    "|     | `add_engine_2` | `engine_hoist` | 60 |\n",
    "|     | `inspect_2` |    `inspector` | 10 |\n",
    "\n",
    "We create the second job shop as follows."
   ]
  },
  {
   "cell_type": "code",
   "execution_count": 11,
   "metadata": {
    "executionInfo": {
     "elapsed": 8,
     "status": "ok",
     "timestamp": 1646728809850,
     "user": {
      "displayName": "Yi Mei",
      "photoUrl": "https://lh3.googleusercontent.com/a-/AOh14GhjbsloGGj8mKvkgwfMTyhu9iqFZUz599lVh7y-zA=s64",
      "userId": "14923329265121969261"
     },
     "user_tz": -780
    },
    "id": "IOIf1TFAPzNr"
   },
   "outputs": [],
   "source": [
    "machines = ['engine_hoist', 'wheel_station', 'inspector']\n",
    "\n",
    "job_1 = [\n",
    "    {'name': 'add_engine_1', 'machine': 'engine_hoist', 'duration': 30, 'next': 'add_wheels_1'},\n",
    "    {'name': 'add_wheels_1', 'machine': 'wheel_station', 'duration': 30, 'next': 'inspect_1'},\n",
    "    {'name': 'inspect_1', 'machine': 'inspector', 'duration': 10, 'next': None}\n",
    "]\n",
    "\n",
    "job_2 = [\n",
    "    {'name': 'add_wheels_2', 'machine': 'wheel_station', 'duration': 15, 'next': 'add_engine_2'},\n",
    "    {'name': 'add_engine_2', 'machine': 'engine_hoist', 'duration': 60, 'next': 'inspect_2'},    \n",
    "    {'name': 'inspect_2', 'machine': 'inspector', 'duration': 10, 'next': None}\n",
    "]\n",
    "\n",
    "jobs = [job_1, job_2]"
   ]
  },
  {
   "cell_type": "markdown",
   "metadata": {
    "id": "5O3zTcIdPzNr"
   },
   "source": [
    "We can directly use the state space search algorithm to find the best schedule for the second job shop, and visualise its gantt chart."
   ]
  },
  {
   "cell_type": "code",
   "execution_count": 12,
   "metadata": {
    "colab": {
     "base_uri": "https://localhost:8080/",
     "height": 531
    },
    "executionInfo": {
     "elapsed": 892,
     "status": "ok",
     "timestamp": 1646728810735,
     "user": {
      "displayName": "Yi Mei",
      "photoUrl": "https://lh3.googleusercontent.com/a-/AOh14GhjbsloGGj8mKvkgwfMTyhu9iqFZUz599lVh7y-zA=s64",
      "userId": "14923329265121969261"
     },
     "user_tz": -780
    },
    "id": "Jdx2OQtnPzNr",
    "outputId": "53617c72-b66d-431f-f23e-45bd91346560"
   },
   "outputs": [
    {
     "data": {
      "image/png": "[encoded data removed]",
      "text/plain": [
       "<Figure size 864x522 with 2 Axes>"
      ]
     },
     "metadata": {
      "needs_background": "light"
     },
     "output_type": "display_data"
    }
   ],
   "source": [
    "schedule_2 = state_space_search(machines, jobs)\n",
    "gantt_chart(schedule_2)"
   ]
  },
  {
   "cell_type": "markdown",
   "metadata": {},
   "source": [
    "We can see that the best schedule of the second job shop has a smaller makespan than the first one (100 vs 115). This is because the machines can be utilised better (e.g., `engine_hoist` and `wheel_station` can start processing at the beginning) due to the different operation sequences."
   ]
  },
  {
   "cell_type": "markdown",
   "metadata": {
    "id": "7MoVlTLkPzNr"
   },
   "source": [
    "----\n",
    "\n",
    "- More tutorials can be found [here](https://github.com/meiyi1986/tutorials).\n",
    "- [Yi Mei's homepage](https://meiyi1986.github.io/)"
   ]
  }
 ],
 "metadata": {
  "colab": {
   "name": "job-shop-scheduling-state-space-search.ipynb",
   "provenance": []
  },
  "kernelspec": {
   "display_name": "Python 3 (ipykernel)",
   "language": "python",
   "name": "python3"
  },
  "language_info": {
   "codemirror_mode": {
    "name": "ipython",
    "version": 3
   },
   "file_extension": ".py",
   "mimetype": "text/x-python",
   "name": "python",
   "nbconvert_exporter": "python",
   "pygments_lexer": "ipython3",
   "version": "3.9.6"
  }
 },
 "nbformat": 4,
 "nbformat_minor": 1
}
