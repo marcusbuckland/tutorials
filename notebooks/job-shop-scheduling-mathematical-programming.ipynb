{
 "cells": [
  {
   "cell_type": "markdown",
   "metadata": {},
   "source": [
    "# Job Shop Scheduling by Mathematical Programming\n",
    "\n",
    "---\n",
    "\n",
    "*This tutorial is adapted from the tutorial on [Google OR-Tools for job shop scheduling](https://developers.google.com/optimization/scheduling/job_shop#python)*.\n",
    "\n",
    "The **job shop scheduling** problem is a classic AI planning, scheduling and combinatorial optimisation problem. It has many real-world applications in Industry 4.0, such as intelligent supply chain management, manufacturing and cloud computing.\n",
    "\n",
    "In a previous [tutorial](https://github.com/meiyi1986/tutorials/blob/master/notebooks/job-shop-scheduling-state-space-search.ipynb), we have introduced how to solve job shop scheduling from AI planning perspective. Specifically, we define the **environment**, **state**, **action** and **schedule/plan**, and use the **state space search** that enumerates all the goal states (complete schedules) to find the best schedule with the minimal makespan.\n",
    "\n",
    "In this tutorial, we introduce how to solve job shop scheduling from traditional **optimisation** (**operations research**) perspective."
   ]
  },
  {
   "cell_type": "markdown",
   "metadata": {},
   "source": [
    "## Car Manufacturing Scheduling\n",
    "\n",
    "---\n",
    "\n",
    "Let's consider a car manufacturing factory. It receives **jobs** to build cars. For the sake of simplicity, we consider that building a car consists of a sequence of the following three **operations** (different jobs can have different sequences):\n",
    "\n",
    "1. **Add Engine**: This is to add the engine to the car by an **Engine Hoist**;\n",
    "2. **Add Wheels**: This is to add the wheels to the car by a **Wheel Station**;\n",
    "3. **Inspect**: After the car has been built, it has to be inspected by an **Inspector**.\n",
    "\n",
    "<img src=\"img/car-manufacturing.png\" width=400 />\n",
    "\n",
    "Each operation of each job has a **duration (processing time)**, and the required **machine** to process it. There are two constraints that a job shop schedule must satisfy:\n",
    "\n",
    "1. **Resource Constraint**: each machine can process at most one operation at a time.\n",
    "2. **Precedence Constraint**: each operation cannot start processing until its precedent operation in the same job has been completed. The first operation of a job can be started at time 0 (the job is already at the shop floor).\n",
    "\n",
    "The goal of job shop scheduling is to find a schedule with the minimal **makespan** (the completion time of the last completed job), subject to the above resource and precedence constraints.\n",
    "\n",
    "Assuming that there are five jobs described as follows:\n",
    "\n",
    "| Job | Operation | Machine |  Duration |\n",
    "| --- | --------- | ------- |  --------- |\n",
    "| 1   | `add_engine_1` | `engine_hoist` | 30 |\n",
    "|     | `add_wheels_1` | `wheel_station` | 30 |\n",
    "|     | `inspect_1` |    `inspector` | 10 |\n",
    "| 2   | `add_engine_2` | `engine_hoist` | 60 |\n",
    "|     | `add_wheels_2` | `wheel_station` | 15 |\n",
    "|     | `inspect_2` |    `inspector` | 10 |\n",
    "| 3   | `add_wheels_3` | `wheel_station` | 20 |\n",
    "|     | `add_engine_3` | `engine_hoist` | 30 |\n",
    "|     | `inspect_3` |    `inspector` | 20 |\n",
    "| 4   | `add_engine_4` | `engine_hoist` | 35 |\n",
    "|     | `add_wheels_4` | `wheel_station` | 40 |\n",
    "|     | `inspect_4` |    `inspector` | 15 |\n",
    "| 5   | `add_wheels_5` | `wheel_station` | 45 |\n",
    "|     | `add_engine_5` | `engine_hoist` | 20 |\n",
    "|     | `inspect_5` |    `inspector` | 30 |\n",
    "\n",
    "We create the machines and jobs in Python as follows. The operations are linked through the `next` variable."
   ]
  },
  {
   "cell_type": "code",
   "execution_count": 53,
   "metadata": {},
   "outputs": [],
   "source": [
    "machines = ['engine_hoist', 'wheel_station', 'inspector']\n",
    "\n",
    "job_1 = [\n",
    "    {'name': 'add_engine_1', 'machine': 'engine_hoist', 'duration': 30, 'next': 'add_wheels_1'},\n",
    "    {'name': 'add_wheels_1', 'machine': 'wheel_station', 'duration': 30, 'next': 'inspect_1'},\n",
    "    {'name': 'inspect_1', 'machine': 'inspector', 'duration': 10, 'next': None}\n",
    "]\n",
    "\n",
    "job_2 = [\n",
    "    {'name': 'add_engine_2', 'machine': 'engine_hoist', 'duration': 60, 'next': 'add_wheels_2'},\n",
    "    {'name': 'add_wheels_2', 'machine': 'wheel_station', 'duration': 15, 'next': 'inspect_2'},\n",
    "    {'name': 'inspect_2', 'machine': 'inspector', 'duration': 10, 'next': None}\n",
    "]\n",
    "\n",
    "job_3 = [\n",
    "    {'name': 'add_wheels_3', 'machine': 'wheel_station', 'duration': 20, 'next': 'add_engine_3'},\n",
    "    {'name': 'add_engine_3', 'machine': 'engine_hoist', 'duration': 30, 'next': 'inspect_3'},    \n",
    "    {'name': 'inspect_3', 'machine': 'inspector', 'duration': 20, 'next': None}\n",
    "]\n",
    "\n",
    "job_4 = [\n",
    "    {'name': 'add_engine_4', 'machine': 'engine_hoist', 'duration': 35, 'next': 'add_wheels_4'},\n",
    "    {'name': 'add_wheels_4', 'machine': 'wheel_station', 'duration': 40, 'next': 'inspect_4'},\n",
    "    {'name': 'inspect_4', 'machine': 'inspector', 'duration': 15, 'next': None}\n",
    "]\n",
    "\n",
    "job_5 = [\n",
    "    {'name': 'add_wheels_5', 'machine': 'wheel_station', 'duration': 45, 'next': 'add_engine_5'},\n",
    "    {'name': 'add_engine_5', 'machine': 'engine_hoist', 'duration': 20, 'next': 'inspect_5'},\n",
    "    {'name': 'inspect_5', 'machine': 'inspector', 'duration': 30, 'next': None}\n",
    "]\n",
    "\n",
    "jobs = [job_1, job_2, job_3, job_4, job_5]"
   ]
  },
  {
   "cell_type": "markdown",
   "metadata": {},
   "source": [
    "## Solving Job Shop Scheduling by Mathematical Optimisation\n",
    "\n",
    "---\n",
    "\n",
    "As an optimisation problem, job shop scheduling is to find the best **start time** of each operation, so that the **makespan is minimised**, subject to the **resource and precedence constraints**.\n",
    "\n",
    "In general, an optimisation problem includes the following four components:\n",
    "\n",
    "1. **Problem parameters/inputs**\n",
    "2. **Decision variables**\n",
    "3. **Objective function**\n",
    "4. **Constraints**\n",
    "\n",
    "In the following, we will introduce the mathematical model for job shop scheduling from the above four aspects."
   ]
  },
  {
   "cell_type": "markdown",
   "metadata": {},
   "source": [
    "### Problem Parameters/Inputs\n",
    "\n",
    "In job shop scheduling, the **problem parameters/inputs** include the duration of each operation and the machine to process it. Let $O_{ij}$ be the $j$th operation in the $i$th job, then its duration $t_{ij}$ and machine $m_{ij}$ are the problem inputs. "
   ]
  },
  {
   "cell_type": "markdown",
   "metadata": {},
   "source": [
    "### Decision Variables\n",
    "\n",
    "In job shop scheduling, the **decision variables** are the start time of each operation $O_{ij}$, denoted as $x_{ij}$.\n",
    "\n",
    "> **NOTE**: we will introduce some extra auxiliary variables in the model to facilitate computation."
   ]
  },
  {
   "cell_type": "markdown",
   "metadata": {},
   "source": [
    "### Objective Function\n",
    "\n",
    "The **objective function** (minimise makespan) can be written as\n",
    "\n",
    "$$\n",
    "\\min \\;\\; z = \\max_{i,j} \\{x_{ij} + t_{ij}\\}.\n",
    "$$\n",
    "\n",
    "We can also write it by a set of **linear functions**.\n",
    "\n",
    "$$\n",
    "\\begin{aligned}\n",
    "\\min \\;\\; z & \\\\\n",
    "\\text{subject to:} \\;\\; z & \\geq x_{ij} + t_{ij}, \\;\\; i = 1, \\dots, N, \\;\\; j = 1, \\dots, L_{i}.\n",
    "\\end{aligned}\n",
    "$$"
   ]
  },
  {
   "cell_type": "markdown",
   "metadata": {},
   "source": [
    "### Constraints\n",
    "\n",
    "The **precedence constraint** can be written as the following **linear functions**.\n",
    "\n",
    "$$\n",
    "x_{i,j+1} - x_{ij} \\geq t_{ij}, \\;\\; i = 1, \\dots, N, \\;\\; j = 1, \\dots, L_{i}-1,\n",
    "$$\n",
    "\n",
    "where $N$ is the number of jobs, and $L_{i}$ is the number of operations in job $i$."
   ]
  },
  {
   "cell_type": "markdown",
   "metadata": {},
   "source": [
    "The **resource constraint** is a bit more complex. It requires that the processing of the operations on the same machine cannot overlap with each other. To this end, we can first group the operations for different machines based on their $m_{ij}$ information. \n",
    "\n",
    "After the grouping, let $\\mathbb{O}_k$ be the group of operations to be processed by machine $k$. Then for each pair of operations $O_{i_1j_1}$ and $O_{i_2j_2}$ in $\\mathbb{O}_k$, their processing cannot overlap. That is,\n",
    "\n",
    "$$\n",
    "x_{i_2j_2} - x_{i_1j_1} \\geq t_{i_1j_1} \\hspace{20pt} \\text{(if $O_{i_1j_1}$ is before $O_{i_2j_2}$)}\n",
    "$$\n",
    "\n",
    "or\n",
    "\n",
    "$$\n",
    "x_{i_1j_1} - x_{i_2j_2} \\geq t_{i_2j_2}  \\hspace{20pt} \\text{(if $O_{i_1j_1}$ is after $O_{i_2j_2}$)}\n",
    "$$\n",
    "\n",
    "The above constraints are also called **either-or** constraints. We can convert them into the following linear functions.\n",
    "\n",
    "$$\n",
    "\\begin{aligned}\n",
    "M \\cdot y_{i_1j_1i_2j_2} + x_{i_2j_2} - x_{i_1j_1} & \\geq t_{i_1j_1}, \\\\\n",
    "M \\cdot (1-y_{i_1j_1i_2j_2}) + x_{i_1j_1} - x_{i_2j_2} & \\geq t_{i_2j_2},\n",
    "\\end{aligned}\n",
    "$$\n",
    "\n",
    "where $M$ is a large enough constant, and $y_{i_1j_1i_2j_2}$ is a 0-1 auxiliary variable. $y_{i_1j_1i_2j_2} = 0$ means that $O_{i_1j_1}$ is before $O_{i_2j_2}$, while $y_{i_1j_1i_2j_2} = 1$ means that $O_{i_1j_1}$ is after $O_{i_2j_2}$."
   ]
  },
  {
   "cell_type": "markdown",
   "metadata": {},
   "source": [
    "### Mixed Integer Linear Programming Model\n",
    "\n",
    "Overall, we can formulate the job shop scheduling problem as the following **mixed integer linear programming** model.\n",
    "\n",
    "$$\n",
    "\\begin{aligned}\n",
    "\\min \\hspace{140pt} z & \\\\\n",
    "\\text{subject to:} \\hspace{120pt} z - x_{ij} & \\geq t_{ij}, \\;\\; i = 1, \\dots, N, \\;\\; j = 1, \\dots, L_{i}-1, \\\\\n",
    "x_{i,j+1} - x_{ij} & \\geq t_{ij}, \\;\\; i = 1, \\dots, N, \\;\\; j = 1, \\dots, L_{i}-1, \\\\\n",
    "M \\cdot y_{i_1j_1i_2j_2} + x_{i_2j_2} - x_{i_1j_1} & \\geq t_{i_1j_1}, \\;\\; \\text{$O_{i_1j_1}$ and $O_{i_2j_2}$ are on the same machine}, \\\\\n",
    "M \\cdot (1-y_{i_1j_1i_2j_2}) + x_{i_1j_1} - x_{i_2j_2} & \\geq t_{i_2j_2}, \\;\\; \\text{$O_{i_1j_1}$ and $O_{i_2j_2}$ are on the same machine}, \\\\\n",
    "x_{ij} & \\geq 0, \\;\\; i = 1, \\dots, N, \\;\\; j = 1, \\dots, L_{i}-1, \\\\\n",
    "y_{i_1j_1i_2j_2} & \\in \\{0, 1\\}, \\;\\; \\text{$O_{i_1j_1}$ and $O_{i_2j_2}$ are on the same machine}.\n",
    "\\end{aligned}\n",
    "$$"
   ]
  },
  {
   "cell_type": "markdown",
   "metadata": {},
   "source": [
    "## Solve Mixed Integer Linear Programming by Google OR-Tools\n",
    "\n",
    "---\n",
    "\n",
    "There are many existing software/libraries to solve mixed integer linear programming like the above one. Here, we introduce how to use the [Google OR-Tools](https://developers.google.com/optimization) to solve the problem."
   ]
  },
  {
   "cell_type": "markdown",
   "metadata": {},
   "source": [
    "### Preparation\n",
    "\n",
    "We install the OR-Tools library using `pip` and import the necessary modules for the problem solving."
   ]
  },
  {
   "cell_type": "code",
   "execution_count": 1,
   "metadata": {
    "colab": {
     "base_uri": "https://localhost:8080/"
    },
    "executionInfo": {
     "elapsed": 2992,
     "status": "ok",
     "timestamp": 1645524411254,
     "user": {
      "displayName": "Yi Mei",
      "photoUrl": "https://lh3.googleusercontent.com/a-/AOh14GhjbsloGGj8mKvkgwfMTyhu9iqFZUz599lVh7y-zA=s64",
      "userId": "14923329265121969261"
     },
     "user_tz": -780
    },
    "id": "465bhUC731Di",
    "outputId": "25fc4dc6-f68d-43c2-dd6a-e3c95746b4c8",
    "scrolled": true
   },
   "outputs": [
    {
     "name": "stdout",
     "output_type": "stream",
     "text": [
      "Collecting ortools\n",
      "  Downloading ortools-9.3.10497-cp39-cp39-macosx_12_0_arm64.whl (11.4 MB)\n",
      "\u001b[K     |████████████████████████████████| 11.4 MB 3.6 MB/s eta 0:00:01\n",
      "\u001b[?25hCollecting protobuf>=3.19.4\n",
      "  Downloading protobuf-3.19.4-py2.py3-none-any.whl (162 kB)\n",
      "\u001b[K     |████████████████████████████████| 162 kB 7.3 MB/s eta 0:00:01\n",
      "\u001b[?25hCollecting absl-py>=0.13\n",
      "  Downloading absl_py-1.0.0-py3-none-any.whl (126 kB)\n",
      "\u001b[K     |████████████████████████████████| 126 kB 9.0 MB/s eta 0:00:01\n",
      "\u001b[?25hRequirement already satisfied: numpy>=1.13.3 in /Users/yimei/miniforge3/lib/python3.9/site-packages (from ortools) (1.21.2)\n",
      "Requirement already satisfied: six in /Users/yimei/miniforge3/lib/python3.9/site-packages (from absl-py>=0.13->ortools) (1.16.0)\n",
      "Installing collected packages: protobuf, absl-py, ortools\n",
      "Successfully installed absl-py-1.0.0 ortools-9.3.10497 protobuf-3.19.4\n",
      "Note: you may need to restart the kernel to use updated packages.\n"
     ]
    }
   ],
   "source": [
    "pip install ortools"
   ]
  },
  {
   "cell_type": "code",
   "execution_count": 18,
   "metadata": {
    "executionInfo": {
     "elapsed": 21,
     "status": "ok",
     "timestamp": 1645524411254,
     "user": {
      "displayName": "Yi Mei",
      "photoUrl": "https://lh3.googleusercontent.com/a-/AOh14GhjbsloGGj8mKvkgwfMTyhu9iqFZUz599lVh7y-zA=s64",
      "userId": "14923329265121969261"
     },
     "user_tz": -780
    },
    "id": "GHV6qzhc322i"
   },
   "outputs": [],
   "source": [
    "import collections\n",
    "from ortools.sat.python import cp_model"
   ]
  },
  {
   "cell_type": "markdown",
   "metadata": {},
   "source": [
    "As preprocessing, we group the operations, specifically their $(i,j)$ index, for different machines to handle the resource constraint."
   ]
  },
  {
   "cell_type": "code",
   "execution_count": 23,
   "metadata": {},
   "outputs": [],
   "source": [
    "machine_operations = []\n",
    "for machine in machines:\n",
    "    machine_operations.append([])\n",
    "\n",
    "for i, job in enumerate(jobs):\n",
    "    for j, op in enumerate(job):\n",
    "        k = machines.index(op['machine'])\n",
    "        machine_operations[k].append((i,j))"
   ]
  },
  {
   "cell_type": "markdown",
   "metadata": {},
   "source": [
    "### Build the Linear Programming Model\n",
    "\n",
    "Below we declare the model for the problem."
   ]
  },
  {
   "cell_type": "code",
   "execution_count": 46,
   "metadata": {
    "executionInfo": {
     "elapsed": 17,
     "status": "ok",
     "timestamp": 1645524411255,
     "user": {
      "displayName": "Yi Mei",
      "photoUrl": "https://lh3.googleusercontent.com/a-/AOh14GhjbsloGGj8mKvkgwfMTyhu9iqFZUz599lVh7y-zA=s64",
      "userId": "14923329265121969261"
     },
     "user_tz": -780
    },
    "id": "x6nEw1fB4L8x"
   },
   "outputs": [],
   "source": [
    "model = cp_model.CpModel()\n",
    "horizon = sum(op['duration'] for job in jobs for op in job)"
   ]
  },
  {
   "cell_type": "markdown",
   "metadata": {},
   "source": [
    "Then, we define and add variables into the model."
   ]
  },
  {
   "cell_type": "code",
   "execution_count": 47,
   "metadata": {},
   "outputs": [],
   "source": [
    "# To define the range of the decision variables, we need the horizon, which is the sum of all the durations\n",
    "horizon = sum(op['duration'] for job in jobs for op in job)\n",
    "\n",
    "# Named tuple to store information about created variables.\n",
    "task_type = collections.namedtuple('task_type', 'start end interval')\n",
    "\n",
    "all_tasks = {}\n",
    "\n",
    "# Define the intervals of the operations on the machines, for the resource constraint\n",
    "machine_to_intervals = collections.defaultdict(list)\n",
    "\n",
    "for i, job in enumerate(jobs):\n",
    "    for j, op in enumerate(job):\n",
    "        k = machines.index(op['machine'])\n",
    "        duration = op['duration']\n",
    "        \n",
    "        suffix = '_%i_%i' % (i, j)\n",
    "        \n",
    "        # Define the start time variable\n",
    "        start_var = model.NewIntVar(0, horizon, 'start' + suffix)\n",
    "        \n",
    "        # Define the end time of the operation as auxiliary variable\n",
    "        end_var = model.NewIntVar(0, horizon, 'end' + suffix)\n",
    "        \n",
    "        # Define the interval of the operation as auxiliary variable\n",
    "        interval_var = model.NewIntervalVar(start_var, duration, end_var, 'interval' + suffix)\n",
    "        \n",
    "        # Add the interval variable to the corresponding machine\n",
    "        machine_to_intervals[k].append(interval_var)\n",
    "        \n",
    "        all_tasks[i, j] = task_type(start=start_var,\n",
    "                                    end=end_var,\n",
    "                                    interval=interval_var)"
   ]
  },
  {
   "cell_type": "markdown",
   "metadata": {},
   "source": [
    "Below we define and add the constraints into the model."
   ]
  },
  {
   "cell_type": "code",
   "execution_count": 48,
   "metadata": {},
   "outputs": [],
   "source": [
    "# The OR-Tools library provides a convenient function to add the No-Overlap constraint for interval variables\n",
    "for k in range(len(machines)):\n",
    "    model.AddNoOverlap(machine_to_intervals[k])\n",
    "\n",
    "# The precedence constraint of each job\n",
    "for i, job in enumerate(jobs):\n",
    "    for j in range(len(job)-1):\n",
    "        model.Add(all_tasks[i, j + 1].start >= all_tasks[i, j].end)"
   ]
  },
  {
   "cell_type": "markdown",
   "metadata": {},
   "source": [
    "The makespan objective function is defined as follows."
   ]
  },
  {
   "cell_type": "code",
   "execution_count": 49,
   "metadata": {},
   "outputs": [],
   "source": [
    "# The makespan objective function.\n",
    "obj_var = model.NewIntVar(0, horizon, 'makespan')\n",
    "model.AddMaxEquality(obj_var, [\n",
    "    all_tasks[i, len(job)-1].end\n",
    "    for i, job in enumerate(jobs)\n",
    "])\n",
    "model.Minimize(obj_var)"
   ]
  },
  {
   "cell_type": "markdown",
   "metadata": {},
   "source": [
    "### Solve the Model\n",
    "\n",
    "Now, we solve the model."
   ]
  },
  {
   "cell_type": "code",
   "execution_count": 50,
   "metadata": {},
   "outputs": [],
   "source": [
    "solver = cp_model.CpSolver()\n",
    "status = solver.Solve(model)"
   ]
  },
  {
   "cell_type": "markdown",
   "metadata": {},
   "source": [
    "### Display the Schedule\n",
    "\n",
    "Now, we use the following code to display the gantt chart of the obtained schedule. "
   ]
  },
  {
   "cell_type": "code",
   "execution_count": 51,
   "metadata": {},
   "outputs": [],
   "source": [
    "import pandas as pd\n",
    "import matplotlib.pyplot as plt\n",
    "import matplotlib as mpl\n",
    "\n",
    "# Plot gantt chart from schedule\n",
    "def gantt_chart(schedule):\n",
    "    schedule = pd.DataFrame(schedule)\n",
    "    \n",
    "    JOBS = sorted(list(schedule['Operation'].unique()))\n",
    "    MACHINES = sorted(list(schedule['Machine'].unique()))\n",
    "    makespan = schedule['Finish'].max()\n",
    "    \n",
    "    bar_style = {'alpha':1.0, 'lw':25, 'solid_capstyle':'butt'}\n",
    "    text_style = {'color':'white', 'weight':'bold', 'ha':'center', 'va':'center'}\n",
    "    colors = mpl.cm.Dark2.colors\n",
    "\n",
    "    schedule.sort_values(by=['Operation', 'Start'])\n",
    "    schedule.set_index(['Operation', 'Machine'], inplace=True)\n",
    "\n",
    "    fig, ax = plt.subplots(2,1, figsize=(12, 5+(len(JOBS)+len(MACHINES))/4))\n",
    "\n",
    "    for jdx, j in enumerate(JOBS, 1):\n",
    "        for mdx, m in enumerate(MACHINES, 1):\n",
    "            if (j,m) in schedule.index:\n",
    "                xs = schedule.loc[(j,m), 'Start']\n",
    "                xf = schedule.loc[(j,m), 'Finish']\n",
    "                ax[0].plot([xs, xf], [jdx]*2, c=colors[mdx%7], **bar_style)\n",
    "                ax[0].text((xs + xf)/2, jdx, m, **text_style)\n",
    "                ax[1].plot([xs, xf], [mdx]*2, c=colors[jdx%7], **bar_style)\n",
    "                ax[1].text((xs + xf)/2, mdx, j, **text_style)\n",
    "                \n",
    "    ax[0].set_title('Job Schedule')\n",
    "    ax[0].set_ylabel('Operation')\n",
    "    ax[1].set_title('Machine Schedule')\n",
    "    ax[1].set_ylabel('Machine')\n",
    "    \n",
    "    for idx, s in enumerate([JOBS, MACHINES]):\n",
    "        ax[idx].set_ylim(0.5, len(s) + 0.5)\n",
    "        ax[idx].set_yticks(range(1, 1 + len(s)))\n",
    "        ax[idx].set_yticklabels(s)\n",
    "        ax[idx].text(makespan, ax[idx].get_ylim()[0]-0.2, \"{0:0.1f}\".format(makespan), ha='center', va='top')\n",
    "        ax[idx].plot([makespan]*2, ax[idx].get_ylim(), 'r--')\n",
    "        ax[idx].set_xlabel('Time')\n",
    "        ax[idx].grid(True)\n",
    "        \n",
    "    fig.tight_layout()"
   ]
  },
  {
   "cell_type": "code",
   "execution_count": 52,
   "metadata": {},
   "outputs": [
    {
     "data": {
      "image/png": "[encoded data removed]",
      "text/plain": [
       "<Figure size 864x684 with 2 Axes>"
      ]
     },
     "metadata": {
      "needs_background": "light"
     },
     "output_type": "display_data"
    }
   ],
   "source": [
    "if status == cp_model.OPTIMAL or status == cp_model.FEASIBLE:\n",
    "    schedule = []\n",
    "    for i, job in enumerate(jobs):\n",
    "        for j, op in enumerate(job):\n",
    "            schedule.append(\n",
    "                {\n",
    "                    'Operation': op['name'],\n",
    "                    'Machine': op['machine'],\n",
    "                    'Start': solver.Value(all_tasks[i, j].start),\n",
    "                    'Duration': op['duration'],\n",
    "                    'Finish': solver.Value(all_tasks[i, j].end)\n",
    "                }\n",
    "            )\n",
    "\n",
    "    gantt_chart(schedule)    \n",
    "else:\n",
    "    print('No solution found.')"
   ]
  },
  {
   "cell_type": "markdown",
   "metadata": {},
   "source": [
    "---\n",
    "\n",
    "- More tutorials can be found [here](https://github.com/meiyi1986/tutorials).\n",
    "- [Yi Mei's homepage](https://meiyi1986.github.io/)"
   ]
  }
 ],
 "metadata": {
  "colab": {
   "authorship_tag": "ABX9TyMeJhjW6Pj0jBqaT2hJqUdO",
   "name": "ortools-jss.ipynb",
   "provenance": []
  },
  "kernelspec": {
   "display_name": "Python 3 (ipykernel)",
   "language": "python",
   "name": "python3"
  },
  "language_info": {
   "codemirror_mode": {
    "name": "ipython",
    "version": 3
   },
   "file_extension": ".py",
   "mimetype": "text/x-python",
   "name": "python",
   "nbconvert_exporter": "python",
   "pygments_lexer": "ipython3",
   "version": "3.9.6"
  }
 },
 "nbformat": 4,
 "nbformat_minor": 1
}
