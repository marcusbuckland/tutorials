{
 "cells": [
  {
   "cell_type": "markdown",
   "metadata": {},
   "source": [
    "# Greedy Heuristics: Traveling Salesman Problem\n",
    "\n",
    "---\n",
    "\n",
    "**Greedy heuristics** are very commonly used approaches for solving **combinatorial optimisation** problems.\n",
    "\n",
    "In this tutorial, we will introduce some common greedy heuristics to solve the **Traveling Salesman Problem (TSP)**, which is a well-known complex **combinatorial optimisation** problem with many applications in domains such as logistics, supply chain and electric engineering."
   ]
  },
  {
   "cell_type": "markdown",
   "metadata": {},
   "source": [
    "## Printed Circuit Board Drilling\n",
    "\n",
    "---\n",
    "\n",
    "Consider the Printed Circuit Board (PCB) drilling problem, where we need to drill holes in the printed circuit board. Usually, there are hundreds of holes to be drilled on the PCB, and we have to use a driller to drill the holes one by one. Specifically, starting from its initial position, the driller moves to the first hole and drill it, and move to the next, and so on.\n",
    "\n",
    "\n",
    "<img src=\"img/pcb-drilling.jpeg\" width=500 />\n",
    "\n",
    "This PCB driling problem can be seen as a TSP, which is to find the **shortest path** (in terms straight-line/Euclidean distance) to drill all the holes. An example containing 280 holes (the `a280.tsp` instance in the [TSPLIB](http://comopt.ifi.uni-heidelberg.de/software/TSPLIB95/tsp/) page) along with its optimal solution is shown below. Its total cost is 2579.\n",
    "\n",
    "<img src=\"img/tsp-a280-opt.png\" width=400 />"
   ]
  },
  {
   "cell_type": "markdown",
   "metadata": {},
   "source": [
    "## Traveling Salesman Problem\n",
    "\n",
    "---\n",
    "\n",
    "A formal definition of TSP is as follows. Given a set of nodes $\\{v_1, ..., v_n\\}$ and the cost $c(v_i,v_j)$ from each node $v_i$ to another node $v_j$ ($1 \\leq i \\neq j \\leq n$), the problem is to find a tour with the **minimal total cost** so that\n",
    "\n",
    "- The tour visits **each node exactly once**, and\n",
    "- The tour is a **cycle**.\n",
    "\n",
    "In other words, TSP is to find a **[Hamiltonian Cycle](https://en.wikipedia.org/wiki/Hamiltonian_path)** with the minimal total cost. TSP is known to be NP-complete, and no polynomial-time algorithm can solve it to optimality."
   ]
  },
  {
   "cell_type": "markdown",
   "metadata": {},
   "source": [
    "Below we give the code to read/load a `.tsp` file (available from the [TSPLIB](http://comopt.ifi.uni-heidelberg.de/software/TSPLIB95/tsp/) page), which contains a set of nodes with their [x, y] coordinates."
   ]
  },
  {
   "cell_type": "code",
   "execution_count": 1,
   "metadata": {},
   "outputs": [],
   "source": [
    "def load_data(file):\n",
    "\n",
    "    \"\"\"\n",
    "    Read a TSP instance from a .tsp file, and returns the coordinates of the points.\n",
    "\n",
    "    :param file: the .tsp file.\n",
    "    :return: coord\n",
    "    \"\"\"\n",
    "\n",
    "    f = open(file, \"r\")\n",
    "    \n",
    "    # Skip the first information rows until \"NODE_COORD_SECTION\" is seen\n",
    "    line = f.readline()\n",
    "    while not line.__contains__(\"NODE_COORD_SECTION\"):\n",
    "        line = f.readline()\n",
    "\n",
    "    # Read the coordinate section\n",
    "    coord = {}\n",
    "\n",
    "    line = f.readline()\n",
    "    while not line.__contains__(\"EOF\"):\n",
    "        line_elements = line.split()\n",
    "        id = int(line_elements[0])\n",
    "        x = float(line_elements[1])\n",
    "        y = float(line_elements[2])\n",
    "        coord[id] = [x, y]\n",
    "        line = f.readline()\n",
    "\n",
    "    f.close()\n",
    "\n",
    "    return coord"
   ]
  },
  {
   "cell_type": "markdown",
   "metadata": {},
   "source": [
    "Based on the coordinates of the nodes, we can calculate the **cost matrix**, which is defined as the **Euclidean distance matrix** (rounded to integers) as follows."
   ]
  },
  {
   "cell_type": "code",
   "execution_count": 2,
   "metadata": {},
   "outputs": [],
   "source": [
    "import numpy as np\n",
    "import math\n",
    "\n",
    "def euclidean_distance_matrix(coord):\n",
    "    \"\"\"\n",
    "    Calculate the Euclidean distance matrix based on the coordinates.\n",
    "    \"\"\"\n",
    "    \n",
    "    id_list = list(coord.keys())\n",
    "    \n",
    "    dist_mtx = np.zeros((max(id_list)+1, max(id_list)+1))\n",
    "    for id1 in coord.keys():\n",
    "        [x1, y1] = coord[id1]\n",
    "        for id2 in coord.keys():\n",
    "            if id1 == id2:\n",
    "                continue\n",
    "            \n",
    "            [x2, y2] = coord[id2]\n",
    "            dist = round(math.sqrt((x2 - x1) * (x2 - x1) + (y2 - y1) * (y2 - y1)))\n",
    "            dist_mtx[id1, id2] = dist\n",
    "    \n",
    "    return dist_mtx"
   ]
  },
  {
   "cell_type": "markdown",
   "metadata": {},
   "source": [
    "We can read the `a280.tsp` drilling problem instance and show the coordinates of the first 5 nodes below (there are 280 in total)."
   ]
  },
  {
   "cell_type": "code",
   "execution_count": 3,
   "metadata": {},
   "outputs": [
    {
     "name": "stdout",
     "output_type": "stream",
     "text": [
      "node 1: [x, y] = [288.0, 149.0]\n",
      "node 2: [x, y] = [288.0, 129.0]\n",
      "node 3: [x, y] = [270.0, 133.0]\n",
      "node 4: [x, y] = [256.0, 141.0]\n",
      "node 5: [x, y] = [256.0, 157.0]\n"
     ]
    }
   ],
   "source": [
    "coord = load_data(\"data/a280.tsp\")\n",
    "\n",
    "for count, id in enumerate(coord):\n",
    "    if count == 5:\n",
    "        break\n",
    "    print(f\"node {id}: [x, y] = {coord[id]}\") "
   ]
  },
  {
   "cell_type": "markdown",
   "metadata": {},
   "source": [
    "We then calculate the Euclidean distanc matrix from the coordinates and print the matrix below."
   ]
  },
  {
   "cell_type": "code",
   "execution_count": 4,
   "metadata": {
    "scrolled": false
   },
   "outputs": [
    {
     "name": "stdout",
     "output_type": "stream",
     "text": [
      "[[ 0.  0.  0. ...  0.  0.  0.]\n",
      " [ 0.  0. 20. ... 43. 34. 18.]\n",
      " [ 0. 20.  0. ... 36. 28.  9.]\n",
      " ...\n",
      " [ 0. 43. 36. ...  0.  9. 29.]\n",
      " [ 0. 34. 28. ...  9.  0. 20.]\n",
      " [ 0. 18.  9. ... 29. 20.  0.]]\n"
     ]
    }
   ],
   "source": [
    "cost_mtx = euclidean_distance_matrix(coord)\n",
    "\n",
    "print(cost_mtx)"
   ]
  },
  {
   "cell_type": "markdown",
   "metadata": {},
   "source": [
    "## Greedy Heuristics\n",
    "\n",
    "---\n",
    "\n",
    "The main idea of **greedy heuristics** is to construct the solution step by step. At each iteration, it selects the most **greedy** step. We introduce two common heuristics for TSP.\n",
    "\n",
    "1. **Nearest Neighbour Heuristic**\n",
    "2. **Insertion Heuristic**"
   ]
  },
  {
   "cell_type": "markdown",
   "metadata": {},
   "source": [
    "## Nearest Neighbour Heuristic\n",
    "\n",
    "---\n",
    "\n",
    "The nearest neighbour heuristic constructs a TSP tour as follows. \n",
    "\n",
    "1. Initially, it starts at an arbitrary node. \n",
    "2. At each step, it finds the **nearest neighbour** of the current node (the last node of the tour), and append it to the end of the tour. \n",
    "3. The heuristic repeats the step 2 above until all the nodes have been appended to the tour. Finally it inserts an edge from the last node of the tour to the start node to form a cycle."
   ]
  },
  {
   "cell_type": "markdown",
   "metadata": {},
   "source": [
    "Below shows the code of the nearest neighbour heuristic.\n",
    "\n",
    "> **NOTE**: Here the first node (id 1) is arbitrarily selected as the start node. Note that different start nodes may lead to different solutions."
   ]
  },
  {
   "cell_type": "code",
   "execution_count": 5,
   "metadata": {},
   "outputs": [],
   "source": [
    "def nearest_neighbour_tsp(node_ids, cost_mtx):\n",
    "    '''\n",
    "    The nearest neighbour heuristic to solve TSP.\n",
    "    '''    \n",
    "    \n",
    "    start_node = node_ids[0] # Arbitrarily select the first node as the start node\n",
    "    tour = [start_node] # The tour starts from the node\n",
    "    remaining_nodes = list(node_ids[1:]) # The remaining nodes to be added, initially exclude the first start node\n",
    "    \n",
    "    while len(remaining_nodes) > 0:\n",
    "        curr_node = tour[-1]\n",
    "        next_node = None\n",
    "        min_dist = float('inf')\n",
    "        \n",
    "        # Find the nearest neighbour from the remaining nodes with the min cost from curr_node\n",
    "        for node in remaining_nodes:\n",
    "            if cost_mtx[curr_node, node] < min_dist:\n",
    "                next_node = node\n",
    "                min_dist = cost_mtx[curr_node, node]\n",
    "\n",
    "        # Append the next node to the tour and remove it from the remaining nodes\n",
    "        tour.append(next_node)\n",
    "        remaining_nodes.remove(next_node)\n",
    "    \n",
    "    # Finally form a cycle\n",
    "    tour.append(start_node)\n",
    "    \n",
    "    return np.array(tour)"
   ]
  },
  {
   "cell_type": "markdown",
   "metadata": {},
   "source": [
    "Now we obtain a solution of the `a280.tsp` instance by the near neighbour heuristic as follows. We can see the obtained `nn_tour` starts and ends at node 1, and visits each node exactly ones."
   ]
  },
  {
   "cell_type": "code",
   "execution_count": 6,
   "metadata": {
    "scrolled": true
   },
   "outputs": [
    {
     "name": "stdout",
     "output_type": "stream",
     "text": [
      "[  1 280   2   3 279 278   4 277 276 275 274 273 272 271  16  17  18  19\n",
      "  20  21 128 127 126 125  30  31  32  29  28  27  26  22  25  23  24  14\n",
      "  13  12  11  10   8   7   9   6   5 260 259 258 257 254 253 208 207 210\n",
      " 209 252 255 256 249 248 247 244 241 240 239 238 231 232 233 234 235 236\n",
      " 237 246 245 243 242 250 251 230 229 228 227 226 225 224 223 222 219 218\n",
      " 215 214 211 212 213 216 217 220 221 203 202 200 144 143 142 141 140 139\n",
      " 138 137 136 135 134 270 269 268 267 266 265 264 263 262 261  15 133 132\n",
      " 131 130 129 154 155 153 156 152 151 177 176 181 180 179 178 150 149 148\n",
      " 147 146 145 199 198 197 194 195 196 201 193 192 191 190 189 188 187 185\n",
      " 184 183 182 161 162 163 164 165 166 167 168 169 101 100  99  98  93  94\n",
      "  95  96  97  92  91  90  89  81  80  79  76  75  74  73  72  71  70  67\n",
      "  66  65  64  63  62 118  61  60  43  42  41  40  39  38  37  36  35  34\n",
      "  33 124 123 122 121 120 119 157 158 159 160 175 174 173 106 105 104 103\n",
      " 102 170 171 172 107 108 109 110 111 112  88  83  82  84  85  86 116 115\n",
      " 114 113  87 117  59  44  45  46  47  48  49  50  51  52  53  54  55  56\n",
      "  57  58  68  69  77  78 186 204 205 206   1]\n"
     ]
    }
   ],
   "source": [
    "nn_tour = nearest_neighbour_tsp(list(coord.keys()), cost_mtx)\n",
    "\n",
    "print(nn_tour)"
   ]
  },
  {
   "cell_type": "markdown",
   "metadata": {},
   "source": [
    "### Worse-case Performance\n",
    "\n",
    "The tour cost obtained by the nearest neighbour heuristic has the following bound:\n",
    "\n",
    "$$\n",
    "\\frac{c(\\mathtt{NN})}{c(\\mathtt{OPT})} \\leq \\frac{1}{2}\\lceil \\log_2 n \\rceil + \\frac{1}{2}.\n",
    "$$\n",
    "\n",
    "The bound increases with the increase of the problem size. However, the practical performance of the nearest neighbour heuristic is often much better than the worst case.\n",
    "\n",
    "> **NOTE**: This is obtain from [here](https://ocw.mit.edu/courses/civil-and-environmental-engineering/1-203j-logistical-and-transportation-planning-methods-fall-2006/lecture-notes/lec16.pdf)."
   ]
  },
  {
   "cell_type": "markdown",
   "metadata": {},
   "source": [
    "### Computational Complexity\n",
    "\n",
    "The computational complexity of the nearest neighbour heuristic is $O(n^2)$, where $n$ is the number of nodes. \n",
    "\n",
    "We can see that the heuristic has $n-1$ steps of appending nodes. At each step, we need to make $R$ distance comparisons, where $R$ is the number of remaining nodes. Thus, the complexity is\n",
    "\n",
    "$$\n",
    "(n-1) + (n-2) + \\dots + 1 = O(n^2).\n",
    "$$"
   ]
  },
  {
   "cell_type": "markdown",
   "metadata": {},
   "source": [
    "## Insertion Heuristic\n",
    "\n",
    "---\n",
    "\n",
    "The **insertion heuristic** starts with a sub-tour that visits a subset of nodes. Then, at each step, it inserts a remaining node into a position of the sub-tour. The above step is repeated until all the nodes have been inserted into the tour.\n",
    "\n",
    "In the insertion heuristic, there are three important design issues.\n",
    "\n",
    "1. How to construct the **initial sub-tour**?\n",
    "2. How to **select the next remaining node** to be inserted?\n",
    "3. Where to **insert the next node**?\n",
    "\n",
    "### Initial Sub-tour \n",
    "\n",
    "An intuitive initial sub-tour consists of two nodes. For simplicity, we can select the edge $[a, b]$ with the largest distance, and set the initial sub-tour as $[a, b, a]$.\n",
    "\n",
    "### Select and Insert Next Remaining Node\n",
    "\n",
    "By following the greedy heuristic, we can select the next remaining node and its insertion position greedily. Specifically, we enumerate all the remaining node and all the possible insertion positions, and select the node and insertion position that leads to the **lowest increase** of the tour cost.\n",
    "\n",
    "> **NOTE**: This version is the so-called **Cheapest Insertion Heuristic**. There can be other types of insertion heuristics with different schemes for selecting and inserting the next node."
   ]
  },
  {
   "cell_type": "markdown",
   "metadata": {},
   "source": [
    "Below is the code of the insertion heuristic."
   ]
  },
  {
   "cell_type": "code",
   "execution_count": 7,
   "metadata": {},
   "outputs": [],
   "source": [
    "def insertion_heuristic_tsp(node_ids, cost_mtx):\n",
    "    '''\n",
    "    The insertion heuristic to solve TSP.\n",
    "    '''    \n",
    "    \n",
    "    # Find the longest edge (a, b)\n",
    "    (rows, columns) = np.where(cost_mtx == np.max(cost_mtx))\n",
    "    a, b = rows[0], columns[0]\n",
    "    \n",
    "    tour = [a, b, a]\n",
    "    \n",
    "    remaining_nodes = list(node_ids)\n",
    "    remaining_nodes.remove(a)\n",
    "    remaining_nodes.remove(b)\n",
    "    \n",
    "    while len(remaining_nodes) > 0:\n",
    "        next_node = None\n",
    "        next_idx = None\n",
    "        min_insert_cost = float('inf')\n",
    "        \n",
    "        # Find the node and insertion position with the least insertion cost\n",
    "        for node in remaining_nodes:\n",
    "            for i in range(1, len(tour)):\n",
    "                insert_cost = cost_mtx[tour[i-1], node] + cost_mtx[node, tour[i]] - cost_mtx[tour[i-1], tour[i]]\n",
    "                \n",
    "                if insert_cost < min_insert_cost:\n",
    "                    next_node = node\n",
    "                    next_idx = i\n",
    "                    min_insert_cost = insert_cost\n",
    "        \n",
    "        # Insert the next node and remove from the remaining nodes\n",
    "        tour.insert(next_idx, next_node)\n",
    "        remaining_nodes.remove(next_node)\n",
    "    \n",
    "    \n",
    "    return np.array(tour)       "
   ]
  },
  {
   "cell_type": "markdown",
   "metadata": {},
   "source": [
    "We apply the insertion heuristic to obtain a solution to the `a280` drilling problem as follows."
   ]
  },
  {
   "cell_type": "code",
   "execution_count": 8,
   "metadata": {
    "scrolled": true
   },
   "outputs": [
    {
     "name": "stdout",
     "output_type": "stream",
     "text": [
      "[  1   3   4   5   6   7   8  10   9  11  12  13  14  15  16 271 272 273\n",
      " 274 275 276 277 279 278 259 260 261 262 263 264 268 269 270 134 135 136\n",
      " 137 267 266 138 150 178 151 177 152 156 153 155 154 129 130 131 132 133\n",
      "  17  18  19  20  21 128 127 126  29  24  23  25  22  26  27  28  32  33\n",
      "  34  31  30 125 124 123 122 121 120 119 157 158 159 160 107 105 104 108\n",
      " 110 111 114 112  88 113  87 115 117 118  59  58  57  44  45  56  55  46\n",
      "  47  54  53  48  49  52  51  50  38  37  36  35  39  40  41  42  43  60\n",
      "  61 116  86  65  62  63  64  68  69  67  70  71  72  73  74  75  77  78\n",
      "  76  66  85  84  83  82 109  89  90  91  80  81  79  94  95  96  97  98\n",
      "  93  92  99 100 101 169 102 103 106 173 174 172 171 170 168 167 166 165\n",
      " 164 163 162 161 175 187 188 189 190 191 192 193 186 185 184 183 182 181\n",
      " 176 180 179 149 148 147 146 145 199 198 197 194 195 196 201 202 203 204\n",
      " 200 144 143 142 141 139 140 265 258 257 254 256 255 253 208 206 205 207\n",
      " 212 213 216 217 220 221 222 219 218 215 214 211 210 209 252 249 248 250\n",
      " 223 224 225 226 227 228 229 230 251 247 245 246 231 232 233 234 235 236\n",
      " 237 238 239 240 244 241 242 243 280   2   1]\n"
     ]
    }
   ],
   "source": [
    "ih_tour = insertion_heuristic_tsp(list(coord.keys()), cost_mtx)\n",
    "print(ih_tour)"
   ]
  },
  {
   "cell_type": "markdown",
   "metadata": {},
   "source": [
    "### Worse-case Performance\n",
    "\n",
    "The tour cost obtained by the cheapest insertion heuristic has the following bound:\n",
    "\n",
    "$$\n",
    "\\frac{c(\\mathtt{IH})}{c(\\mathtt{OPT})} < 2.\n",
    "$$\n",
    "\n",
    "In other words, the tour cost obtained by the cheapest insertion heuristic is less than twice as the optimal cost. This, of course, is a very loose bound. In practice, the performance is often much better than the worst case.\n",
    "\n",
    "> **NOTE**: This is obtain from [here](https://ocw.mit.edu/courses/civil-and-environmental-engineering/1-203j-logistical-and-transportation-planning-methods-fall-2006/lecture-notes/lec16.pdf)."
   ]
  },
  {
   "cell_type": "markdown",
   "metadata": {},
   "source": [
    "### Computational Complexity\n",
    "\n",
    "The computational complexity of the above implementation of insertion heuristic is $O(n^3)$.\n",
    "\n",
    "It has $n-2$ steps of inserting the nodes. At step $k$, there are $k+1$ nodes in the tour ($k+1$ possible insertion positions), and $n-k-1$ remaining nodes (e.g., at step $1$, there are $2$ nodes in the tour and $n-2$ remaining nodes). Thus, there are $(n-k-1)\\times (k+1)$ comparisons at step $k$. The total computational complexity is\n",
    "\n",
    "$$\n",
    "(n-2) \\times 2 + (n-3) \\times 3 + \\dots + (n-k) \\times k + \\dots + 1 \\times (n-1) = O(n^3).\n",
    "$$\n",
    "\n",
    "> **NOTE**: with careful programming, the complexity can be reduced to $O(n^2\\log n)$."
   ]
  },
  {
   "cell_type": "markdown",
   "metadata": {},
   "source": [
    "## Evaluation\n",
    "\n",
    "---\n",
    "\n",
    "To evaluate the solutions obtained by the greedy heuristics, we define methods for the following two purposes:\n",
    "\n",
    "1. **Calcuate the tour cost**: this is the ultimate goal of TSP, which is the minimise the tour cost.\n",
    "2. **Plot the tour**: this is to visualise the tour in the 2D plane, to help understand why the tour is good/bad."
   ]
  },
  {
   "cell_type": "markdown",
   "metadata": {},
   "source": [
    "### Calculate Tour Cost\n",
    "\n",
    "We define a method to **calculate the cost** of a tour (sum of all the edge costs in the tour) as follows."
   ]
  },
  {
   "cell_type": "code",
   "execution_count": 9,
   "metadata": {},
   "outputs": [],
   "source": [
    "def calc_tour_cost(tour, cost_mtx):\n",
    "    return sum([cost_mtx[tour[i], tour[i+1]] for i in range(len(tour)-1)])"
   ]
  },
  {
   "cell_type": "markdown",
   "metadata": {},
   "source": [
    "### Plot Tour\n",
    "\n",
    "We define the following method to plot the tour in a 2D plane, using the `matplotlib` library."
   ]
  },
  {
   "cell_type": "code",
   "execution_count": 10,
   "metadata": {},
   "outputs": [],
   "source": [
    "import matplotlib.pyplot as plt\n",
    "\n",
    "def plot_tour(tour, coord, title):\n",
    "    \"\"\"\n",
    "    Function for visualise a TSP tour on a 2D figure.\n",
    "\n",
    "    :param tour: The TSP tour, which is a list of nodes.\n",
    "    :param coord: Dictionary of {id: [x, y]} coordinates for each node.\n",
    "    :param title: Plot title.\n",
    "    \"\"\"\n",
    "    \n",
    "    px = [coord[id][0] for id in coord.keys()]\n",
    "    py = [coord[id][1] for id in coord.keys()]\n",
    "\n",
    "    # Set axis too slightly larger than the set of x and y\n",
    "    min_x, max_x, min_y, max_y = min(px), max(px), min(py), max(py)\n",
    "    center_x = (min_x + max_x) / 2\n",
    "    center_y = (min_y + max_y) / 2\n",
    "\n",
    "    width = (max(px) - min(px)) * 1.1\n",
    "    height = (max(py) - min(py)) * 1.1\n",
    "\n",
    "    min_x = center_x - width / 2\n",
    "    max_x = center_x + width / 2\n",
    "    min_y = center_y - height / 2\n",
    "    max_y = center_y + height / 2\n",
    "\n",
    "    plt.xlim(min_x, max_x)\n",
    "    plt.ylim(min_y, max_y)\n",
    "    \n",
    "    # Plot the [px, py] points\n",
    "    for [x, y] in coord.values():\n",
    "        plt.plot(x, y, 'co', markersize = 5)\n",
    "    \n",
    "    # Plot the tour\n",
    "    for i in range(0, len(tour)-1):\n",
    "        [x1, y1], [x2, y2] = coord[tour[i]], coord[tour[i + 1]]\n",
    "        plt.plot([x1, x2], [y1, y2], color = 'c')\n",
    "\n",
    "    plt.title(title)\n",
    "    plt.show()"
   ]
  },
  {
   "cell_type": "markdown",
   "metadata": {},
   "source": [
    "Now we calculate the cost of the `nn_tour` obtained by the nearest neighbour heuristic, and plot it."
   ]
  },
  {
   "cell_type": "code",
   "execution_count": 11,
   "metadata": {
    "scrolled": true
   },
   "outputs": [
    {
     "data": {
      "image/png": "[encoded data removed]",
      "text/plain": [
       "<Figure size 432x288 with 1 Axes>"
      ]
     },
     "metadata": {
      "needs_background": "light"
     },
     "output_type": "display_data"
    }
   ],
   "source": [
    "nn_tc = calc_tour_cost(nn_tour, cost_mtx)\n",
    "plot_tour(nn_tour, coord, \"nn tour cost = \" + str(nn_tc))"
   ]
  },
  {
   "cell_type": "markdown",
   "metadata": {},
   "source": [
    "We do the same for the insertion heuristic as follows."
   ]
  },
  {
   "cell_type": "code",
   "execution_count": 12,
   "metadata": {
    "scrolled": false
   },
   "outputs": [
    {
     "data": {
      "image/png": "[encoded data removed]",
      "text/plain": [
       "<Figure size 432x288 with 1 Axes>"
      ]
     },
     "metadata": {
      "needs_background": "light"
     },
     "output_type": "display_data"
    }
   ],
   "source": [
    "ih_tc = calc_tour_cost(ih_tour, cost_mtx)\n",
    "plot_tour(ih_tour, coord, \"ih tour cost = \" + str(ih_tc))"
   ]
  },
  {
   "cell_type": "markdown",
   "metadata": {},
   "source": [
    "We can see that the insertion heuristic can obtain better solution than the nearest neighbour heuristic (3066 vs 3157). We can also see that the `nn_tour` can have very long links, as some nodes could be missed in its region during the nearest neighbour heuristic, and have to be linked back from a very distant node. In contrast, the insertion heuristic can avoid such long links."
   ]
  },
  {
   "cell_type": "markdown",
   "metadata": {},
   "source": [
    "## Summary\n",
    "\n",
    "---\n",
    "\n",
    "In this tutorial, we introduced two greedy heuristics for TSP, i.e., the nearest neighbour heuristic and the insertion heuristic. Both heuristics construct a solution step by step, and make greedy decisions at each step.\n",
    "\n",
    "### Nearest Neighbour Heuristic vs Insertion Heuristic\n",
    "\n",
    "- The nearest neighbour heuristic tends to leave some nodes isolated, which causes long links and poor solution quality. The insertion heuristic can avoid such long links. As a result, the insertion heuristic tends to be better than the nearest neighbour heuristic, although we cannot guarantee it is always the case.\n",
    "- The nearest neighbour heuristic is faster than the insertion heuristic: complexity $O(n^2)$ vs $O(n^2\\log n)$.\n",
    "\n",
    "Both greedy heuristics are much worse than the optimal solution. To further improve the solution, we can use advanced solution optimisation methods such as local search, simulated annealing, tabu search, genetic algorithms, etc."
   ]
  },
  {
   "cell_type": "markdown",
   "metadata": {},
   "source": [
    "---\n",
    "\n",
    "- More tutorials can be found [here](https://github.com/meiyi1986/tutorials).\n",
    "- [Yi Mei's homepage](https://meiyi1986.github.io/)"
   ]
  }
 ],
 "metadata": {
  "colab": {
   "authorship_tag": "ABX9TyMeJhjW6Pj0jBqaT2hJqUdO",
   "name": "ortools-jss.ipynb",
   "provenance": []
  },
  "kernelspec": {
   "display_name": "Python 3 (ipykernel)",
   "language": "python",
   "name": "python3"
  },
  "language_info": {
   "codemirror_mode": {
    "name": "ipython",
    "version": 3
   },
   "file_extension": ".py",
   "mimetype": "text/x-python",
   "name": "python",
   "nbconvert_exporter": "python",
   "pygments_lexer": "ipython3",
   "version": "3.9.6"
  }
 },
 "nbformat": 4,
 "nbformat_minor": 1
}
