{
 "cells": [
  {
   "cell_type": "markdown",
   "metadata": {},
   "source": [
    "# Building a Bayesian Network\n",
    "\n",
    "---\n",
    "\n",
    "In this tutorial, we introduce how to build a **Bayesian (belief) network** based on domain knowledge of the problem.\n",
    "\n",
    "If we build the Bayesian network in different ways, the built network can have different graphs and sizes, which can greatly affect the memory requirement and inference efficience. To represent the size of the Bayesian network, we first introduce the **number of free parameters**."
   ]
  },
  {
   "cell_type": "markdown",
   "metadata": {},
   "source": [
    "## Number of Free Parameters <a name=\"freepara\"></a>\n",
    "\n",
    "---\n",
    "\n",
    "The size of a Bayesian network includes the size of the graph and the probability tables of each node. Obviously, the probability tables dominate the graph, thus we focus on the size of the probability tables.\n",
    "\n",
    "For the sake of convenience, we only consider **discrete** variables in the network, and the continuous variables will be discretised. Then, for each variable $X$ in the network, we have the following notations.\n",
    "\n",
    "- $\\Omega(X)$: the domain (set of possible values) of $X$\n",
    "- $|\\Omega(X)|$: the number of possible values of $X$\n",
    "- $parents(X)$: the parents (direct causes) of $X$ in the network\n",
    "\n",
    "For each variable $X$, the probability table contains the probabilities for $P(X\\ |\\ parents(X))$ for all possible $X$ values and $parent(X)$ values. Let's consider the following situations:\n",
    "\n",
    "1. $X$ does not have any parent. In this case, the table stores $P(X)$. There are $|\\Omega(X)|$ probabilities, each for a possible value of $X$. However, due to the [normalisation rule](https://github.com/meiyi1986/tutorials/blob/master/notebooks/reasoning-under-uncertainty-basics.ipynb), all the probabilities add up to 1. Thus, we need to store only $|\\Omega(X)|-1$ probabilities, and the last probability can be calculated by ($1-$the sum of the stored probabilities). Therefore, the probability table contains $|\\Omega(X)|-1$ rows/probabilities.\n",
    "2. $X$ has one parent $Y$. In this case, for each condition $y \\in \\Omega(Y)$, we need to store the conditional probabilities $P(X\\ |\\ Y = y)$. Again, we need to store $|\\Omega(X)|-1$ conditional probabilities for $P(X\\ |\\ Y = y)$, and can calculate the last conditional probability by the normalisation rule. Therefore, the probability table contains $(|\\Omega(X)|-1)*|\\Omega(Y)|$ rows/probabilities.\n",
    "3. $X$ has multiple parents $Y_1, \\dots, Y_m$. In this case, there are $|\\Omega(Y_1)|*\\dots * |\\Omega(Y_m)|$ possible conditions $[Y_1 = y_1, \\dots, Y_m = y_m]$. For each condition, we need to store $|\\Omega(X)|-1$ conditional probabilities for $P(X\\ |\\ Y_1 = y_1, \\dots, Y_m = y_m)$. Therefore, the probability table contains $(|\\Omega(X)|-1)*|\\Omega(Y_1)|*\\dots * |\\Omega(Y_m)|$ rows/probabilities.\n",
    "\n",
    "As shown in the above alarm network, all the variables are binary, i.e. $|\\Omega(X)| = 2$. Therefore, $B$ and $E$ have only 1 row in their probability tables, since they have no parent. $A$ has $1 \\times 2 \\times 2 = 4$ rows in its probability tables, since it has two binary parents $B$ and $E$, leading to four possible conditions.\n",
    "\n",
    "> **DEFINITION**: The **number of free parameters** of a Bayesian network is the number of probabilities we need to estimate (can NOT be derived/calculated) in the probability tables."
   ]
  },
  {
   "cell_type": "markdown",
   "metadata": {},
   "source": [
    "Consider a Bayesian network with the factorisation\n",
    "\n",
    "$$\n",
    "\\begin{aligned}\n",
    "& P(X_1, \\dots, X_n) \\\\\n",
    "& = P(X_1\\ |\\ parents(X_1)) \\dots * P(X_n\\ |\\ parents(X_n)),\n",
    "\\end{aligned}\n",
    "$$\n",
    "\n",
    "the number of free parameters is\n",
    "\n",
    "$$\n",
    "\\begin{aligned}\n",
    "P(X_1, \\dots, X_n) & = (|\\Omega(X_1)|-1)*\\prod_{Y \\in parents(X_1)}|\\Omega(Y)| \\\\\n",
    "& + (|\\Omega(X_2)|-1)*\\prod_{Y \\in parents(X_2)}|\\Omega(Y)| \\\\\n",
    "& + \\dots \\\\\n",
    "& + (|\\Omega(X_n)|-1)*\\prod_{Y \\in parents(X_n)}|\\Omega(Y)|. \\\\\n",
    "\\end{aligned}\n",
    "$$"
   ]
  },
  {
   "cell_type": "markdown",
   "metadata": {},
   "source": [
    "Let's calculate the number of free parameters of the following simple networks, assuming that all the variables are binary.\n",
    "\n",
    "<img src=\"img/cause-effect.png\" width=550></img>\n",
    "\n",
    "- **Direct cause**: $P(A)$ has 1 free parameter, $P(B\\ |\\ A)$ has 2 free parameters. The network has $1+2 = 3$ free parameters.\n",
    "- **Indirect cause**: $P(A)$ has 1 free parameter, $P(B\\ |\\ A)$ and $P(C\\ |\\ B)$ have 2 free parameters. The network has $1+2+2 = 5$ free parameters.\n",
    "- **Common cause**: $P(A)$ has 1 free parameter, $P(B\\ |\\ A)$ and $P(C\\ |\\ A)$ have 2 free parameters. The network has $1+2+2 = 5$ free parameters.\n",
    "- **Common effect**: $P(A)$ and $P(B)$ have 1 free parameter, $P(C\\ |\\ A, B)$ has $2\\times 2 = 4$ free parameters. The network has $1+1+4 = 6$ free parameters.\n",
    "\n",
    "> **NOTE**: We can see that the common effect dependency causes the most free parameters required for the network. Therefore, when building a Bayesian network, we should try to reduce the number of such dependencies to reduce the number of free parameters of the network."
   ]
  },
  {
   "cell_type": "markdown",
   "metadata": {},
   "source": [
    "## Building Bayesian Network  from Domain Knowledge<a name=\"building\"></a>\n",
    "\n",
    "---\n",
    "\n",
    "Building a Bayesian network mainly consists of the following three steps:\n",
    "\n",
    "1. Identify a set of **random variables** that describe the problem, using domain knowledge.\n",
    "2. Build the **directed acyclic graph**, i.e., the **directed links** between the random variables based on domain knowledge about the causal relationships between the variables.\n",
    "3. Build the **conditional probability table** for each variable, by estimating the necessary probabilities using domain knowledge or historical data.\n",
    "\n",
    "Here, we introduce the Pearl's network construction algorithm, which is a way to build the network based on **node ordering**."
   ]
  },
  {
   "cell_type": "markdown",
   "metadata": {},
   "source": [
    "```Python\n",
    "# Step 1: identify variables\n",
    "Identify the random variables that describe the world of reasoning\n",
    "# Step 2: build the graph, add the links\n",
    "Sort the random variables by some order\n",
    "Set bn = []\n",
    "for var in sorted_vars:\n",
    "    Find the minimum subset of variables in bn so that P(var | bn) = P(var | subset)\n",
    "    \n",
    "    Add var into bn\n",
    "    for bn_var in subset:\n",
    "        Add a direct link [bn_var, var]\n",
    "    # Step 3: estimate the conditional probability table\n",
    "    Estimate the conditional probabilities P(var | subset)\n",
    "```"
   ]
  },
  {
   "cell_type": "markdown",
   "metadata": {},
   "source": [
    "In this algorithm, the **node ordering** is critical to determine the number of links between the nodes, and thus the size of the conditional probability tables. \n",
    "\n",
    "We show how the links are added in to the network under different node orders, using the alarm network as an example.\n",
    "\n",
    "----------\n",
    "\n",
    "#### Order 1: $B \\rightarrow E \\rightarrow A \\rightarrow J \\rightarrow M$\n",
    "\n",
    "- **Step 1**: The node $B$ is added into the network. No edge is added, since there is only one node in the network.\n",
    "- **Step 2**: The node $E$ is added into the network. No edge from $B$ to $E$ is added, since $B$ and $E$ are <span style=\"color: blue;\">independent</span>.\n",
    "- **Step 3**: The node $A$ is added into the network. Two edges $[B, A]$ and $[E, A]$ are added. This is because $B$ and $E$ are both direct causes of $A$, and thus $A$ is <span style=\"color: red;\">dependent</span> on $B$ and $E$. \n",
    "- **Step 4**: The node $J$ is added into the network. The minimum subset $A \\subseteq \\{B, E, A\\}$ in the network is found to be the parent of $J$, since $J$ is <span style=\"color: blue;\">conditionally independent</span> from $B$ and $E$ given $A$, i.e., $P(J\\ |\\ B, E, A) = P(J\\ |\\ A)$. An edge $[A, J]$ is added into the network.\n",
    "- **Step 5**: The node $M$ is added into the network. The minimum subset $A \\subseteq \\{B, E, A, J\\}$ in the network is found to be the parent of $M$, since $M$ is <span style=\"color: blue;\">conditionally independent</span> from $B$, $E$ and $J$ given $A$, i.e., $P(M\\ |\\ B, E, A, J) = P(M\\ |\\ A)$. An edge $[A, M]$ is added into the network.\n",
    "\n",
    "The built network is shows as follows. The number of free parameters in this network is $1 + 1 + 4 + 2 + 2 = 10$.\n",
    "\n",
    "<img src=\"img/alarm-dag.png\" width=150></img>\n",
    "\n",
    "----------\n",
    "\n",
    "#### Order 2: $J \\rightarrow M \\rightarrow A \\rightarrow B \\rightarrow E$\n",
    "\n",
    "- **Step 1**: The node $J$ is added into the network. No edge is added, since there is only one node in the network.\n",
    "- **Step 2**: The node $M$ is added into the network. $M$ and $J$ are <span style=\"color: red;\">dependent</span> (_note that the common cause $A$ has not been given yet at this step_), i.e., $P(M\\ |\\ J) \\neq P(M)$. Therefore, an edge $[J, M]$ is added into the network.\n",
    "- **Step 3**: The node $A$ is added into the network. Two edges $[J, A]$ and $[M, A]$ are added, since $J$ and $M$ are both <span style=\"color: red;\">dependent</span> on $A$.\n",
    "- **Step 4**: The node $B$ is added into the network. The minimum subset $A \\subseteq \\{J, M, A\\}$ in the network is found to be the parent of $B$, since $B$ is <span style=\"color: blue;\">conditionally independent</span> from $J$ and $M$ given $A$, i.e., $P(B\\ |\\ J, M, A) = P(B\\ |\\ A)$. An edge $[A, B]$ is added into the network.\n",
    "- **Step 5**: The node $E$ is added into the network. The minimum subset $\\{A, B\\} \\subseteq \\{J, M, A, B\\}$ in the network is found to be the parent of $E$, since $E$ is <span style=\"color: blue;\">conditionally independent</span> from $J$ and $M$ given $A$ and $E$, i.e., $P(M\\ |\\ J, M, A, B) = P(M\\ |\\ A, B)$ (_note that $B$ and $E$ have the common effect $A$, thus when $A$ is given, $B$ and $E$ are <span style=\"color: red;\">conditionally dependent</span>_). Two edges $[A, E]$ and $[B, E]$ are added into the network.\n",
    "\n",
    "The built network is shows as follows. The number of free parameters in this network is $1 + 2 + 4 + 2 + 4 = 13$.\n",
    "\n",
    "<img src=\"img/alarm-dag2.png\" width=150></img>\n",
    "\n",
    "----------\n",
    "\n",
    "#### Order 3: $J \\rightarrow M \\rightarrow B \\rightarrow E \\rightarrow A$\n",
    "\n",
    "- **Step 1**: The node $J$ is added into the network. No edge is added, since there is only one node in the network.\n",
    "- **Step 2**: The node $M$ is added into the network. $M$ and $J$ are <span style=\"color: red;\">dependent</span> (note that the common cause $A$ is not given at this step), i.e., $P(M\\ |\\ J) \\neq P(M)$. Therefore, an edge $[J, M]$ is added into the network.\n",
    "- **Step 3**: The node $B$ is added into the network. Two edges $[J, B]$ and $[M, B]$ are added, since $J$ and $M$ are both <span style=\"color: red;\">dependent</span> on $B$ (through $A$, which has not been added yet).\n",
    "- **Step 4**: The node $E$ is added into the network. There is NO conditional independence found among $\\{J, M, B, E\\}$ without giving $A$. Therefore, three edges $[J, E]$, $[M, E]$, $[B, E]$ are added into the network.\n",
    "- **Step 5**: The node $A$ is added into the network. First, two edges Two edges $[J, A]$ and $[M, A]$ are added, since $J$ and $M$ are both <span style=\"color: red;\">dependent</span> on $A$. Then, another two edges $[B, A]$ and $[E, A]$ are also added, since $B$ and $E$ are both direct causes of $A$.\n",
    "\n",
    "The built network is shows as follows. The number of free parameters in this network is $1 + 2 + 4 + 8 + 16 = 31$.\n",
    "\n",
    "<img src=\"img/alarm-dag3.png\" width=200></img>\n",
    "\n",
    "---------"
   ]
  },
  {
   "cell_type": "markdown",
   "metadata": {},
   "source": [
    "We can see that different node orders can lead to greatly different graphs and numbers of free parameters. Therefore, we should find the **optimal node order** that leads to the most **compact** network (with the fewest free parameters).\n",
    "\n",
    "> **QUESTION**: How to find the optimal node order that leads to the most compact Bayesian network?\n",
    "\n",
    "The node order is mainly determined based on our **domain knowledge** about **cause and effect**. At first, we add the nodes with no cause (i.e., the root causes) into the ordered list. Then, at each step, we find the remaining nodes whose direct causes are all in the current ordered list (i.e., all their direct causes are given) and append them into the end of the ordered list. This way, we only need to add direct links from their direct causes to them.\n",
    "\n",
    "The pseucode of the node ordering is shown as follows."
   ]
  },
  {
   "cell_type": "markdown",
   "metadata": {},
   "source": [
    "```Python\n",
    "def node_ordering(all_nodes):\n",
    "    Set ordered_nodes = [], remaining_nodes = all_nodes\n",
    "    while remaining_nodes is not empty:\n",
    "        Select the nodes whose direct causes are all in ordered_nodes\n",
    "        Append the selected nodes into ordered_nodes\n",
    "        Remove the selected nodes from remaining_nodes\n",
    "    return ordered_nodes\n",
    "```"
   ]
  },
  {
   "cell_type": "markdown",
   "metadata": {},
   "source": [
    "For the alarm network, first we add two nodes $\\{B, E\\}$ into the ordered list, since they are the root causes, and have no direct cause. Then, we add $A$ into the ordered list, since it has two direct causes $B$ and $E$, both are already in the ordered list. Finally, we add $J$ and $M$ into the list, since their direct cause $A$ is already in the ordered list."
   ]
  },
  {
   "cell_type": "markdown",
   "metadata": {},
   "source": [
    "## Building Alarm Network through `pgmpy` <a name=\"pgmpy\"></a>\n",
    "\n",
    "---\n",
    "\n",
    "Here, we show how to build the alarm network through the Python [pgmpy](https://pgmpy.org) library. The alarm network is displayed again below.\n",
    "\n",
    "<img src=\"img/alarm-bn.png\" width=500></img>\n",
    "\n",
    "First, we install the library using `pip`."
   ]
  },
  {
   "cell_type": "code",
   "execution_count": 1,
   "metadata": {
    "id": "fYQb_1imtaRM"
   },
   "outputs": [
    {
     "name": "stdout",
     "output_type": "stream",
     "text": [
      "Requirement already satisfied: pgmpy in /Users/yimei/miniforge3/lib/python3.9/site-packages (0.1.17)\n",
      "Requirement already satisfied: torch in /Users/yimei/miniforge3/lib/python3.9/site-packages (from pgmpy) (1.11.0)\n",
      "Requirement already satisfied: statsmodels in /Users/yimei/miniforge3/lib/python3.9/site-packages (from pgmpy) (0.13.2)\n",
      "Requirement already satisfied: pyparsing in /Users/yimei/miniforge3/lib/python3.9/site-packages (from pgmpy) (3.0.6)\n",
      "Requirement already satisfied: networkx in /Users/yimei/miniforge3/lib/python3.9/site-packages (from pgmpy) (2.7.1)\n",
      "Requirement already satisfied: scipy in /Users/yimei/miniforge3/lib/python3.9/site-packages (from pgmpy) (1.8.0)\n",
      "Requirement already satisfied: scikit-learn in /Users/yimei/miniforge3/lib/python3.9/site-packages (from pgmpy) (1.0.2)\n",
      "Requirement already satisfied: tqdm in /Users/yimei/miniforge3/lib/python3.9/site-packages (from pgmpy) (4.62.1)\n",
      "Requirement already satisfied: pandas in /Users/yimei/miniforge3/lib/python3.9/site-packages (from pgmpy) (1.3.2)\n",
      "Requirement already satisfied: joblib in /Users/yimei/miniforge3/lib/python3.9/site-packages (from pgmpy) (1.1.0)\n",
      "Requirement already satisfied: numpy in /Users/yimei/miniforge3/lib/python3.9/site-packages (from pgmpy) (1.21.2)\n",
      "Requirement already satisfied: pytz>=2017.3 in /Users/yimei/miniforge3/lib/python3.9/site-packages (from pandas->pgmpy) (2021.1)\n",
      "Requirement already satisfied: python-dateutil>=2.7.3 in /Users/yimei/miniforge3/lib/python3.9/site-packages (from pandas->pgmpy) (2.8.2)\n",
      "Requirement already satisfied: six>=1.5 in /Users/yimei/miniforge3/lib/python3.9/site-packages (from python-dateutil>=2.7.3->pandas->pgmpy) (1.16.0)\n",
      "Requirement already satisfied: threadpoolctl>=2.0.0 in /Users/yimei/miniforge3/lib/python3.9/site-packages (from scikit-learn->pgmpy) (3.1.0)\n",
      "Requirement already satisfied: patsy>=0.5.2 in /Users/yimei/miniforge3/lib/python3.9/site-packages (from statsmodels->pgmpy) (0.5.2)\n",
      "Requirement already satisfied: packaging>=21.3 in /Users/yimei/miniforge3/lib/python3.9/site-packages (from statsmodels->pgmpy) (21.3)\n",
      "Requirement already satisfied: typing-extensions in /Users/yimei/miniforge3/lib/python3.9/site-packages (from torch->pgmpy) (4.1.1)\n",
      "Note: you may need to restart the kernel to use updated packages.\n"
     ]
    }
   ],
   "source": [
    "pip install pgmpy"
   ]
  },
  {
   "cell_type": "markdown",
   "metadata": {},
   "source": [
    "Then, we import the necessary modules for the Bayesian network as follows."
   ]
  },
  {
   "cell_type": "code",
   "execution_count": 2,
   "metadata": {
    "executionInfo": {
     "elapsed": 331,
     "status": "ok",
     "timestamp": 1645147874773,
     "user": {
      "displayName": "Yi Mei",
      "photoUrl": "https://lh3.googleusercontent.com/a-/AOh14GhjbsloGGj8mKvkgwfMTyhu9iqFZUz599lVh7y-zA=s64",
      "userId": "14923329265121969261"
     },
     "user_tz": -780
    },
    "id": "qFLJyY014YDo"
   },
   "outputs": [],
   "source": [
    "from pgmpy.models import BayesianNetwork\n",
    "from pgmpy.factors.discrete import TabularCPD"
   ]
  },
  {
   "cell_type": "markdown",
   "metadata": {},
   "source": [
    "Now, we build the alarm Bayesian network as follows.\n",
    "\n",
    "1. We define the network structure by specifying the four links.\n",
    "2. We define (estimate) the discrete conditional probability tables, represented as the `TabularCPD` class."
   ]
  },
  {
   "cell_type": "code",
   "execution_count": 3,
   "metadata": {
    "executionInfo": {
     "elapsed": 410,
     "status": "ok",
     "timestamp": 1645148217327,
     "user": {
      "displayName": "Yi Mei",
      "photoUrl": "https://lh3.googleusercontent.com/a-/AOh14GhjbsloGGj8mKvkgwfMTyhu9iqFZUz599lVh7y-zA=s64",
      "userId": "14923329265121969261"
     },
     "user_tz": -780
    },
    "id": "4JmRhyQ4PSHm"
   },
   "outputs": [],
   "source": [
    "# Define the network structure\n",
    "alarm_model = BayesianNetwork(\n",
    "    [\n",
    "        (\"Burglary\", \"Alarm\"),\n",
    "        (\"Earthquake\", \"Alarm\"),\n",
    "        (\"Alarm\", \"JohnCall\"),\n",
    "        (\"Alarm\", \"MaryCall\"),\n",
    "    ]\n",
    ")\n",
    "\n",
    "# Define the probability tables by TabularCPD\n",
    "cpd_burglary = TabularCPD(\n",
    "    variable=\"Burglary\", variable_card=2, values=[[0.999], [0.001]]\n",
    ")\n",
    "\n",
    "cpd_earthquake = TabularCPD(\n",
    "    variable=\"Earthquake\", variable_card=2, values=[[0.998], [0.002]]\n",
    ")\n",
    "\n",
    "cpd_alarm = TabularCPD(\n",
    "    variable=\"Alarm\",\n",
    "    variable_card=2,\n",
    "    values=[[0.999, 0.71, 0.06, 0.05], [0.001, 0.29, 0.94, 0.95]],\n",
    "    evidence=[\"Burglary\", \"Earthquake\"],\n",
    "    evidence_card=[2, 2],\n",
    ")\n",
    "\n",
    "cpd_johncall = TabularCPD(\n",
    "    variable=\"JohnCall\",\n",
    "    variable_card=2,\n",
    "    values=[[0.95, 0.1], [0.05, 0.9]],\n",
    "    evidence=[\"Alarm\"],\n",
    "    evidence_card=[2],\n",
    ")\n",
    "\n",
    "cpd_marycall = TabularCPD(\n",
    "    variable=\"MaryCall\",\n",
    "    variable_card=2,\n",
    "    values=[[0.99, 0.3], [0.01, 0.7]],\n",
    "    evidence=[\"Alarm\"],\n",
    "    evidence_card=[2],\n",
    ")\n",
    "\n",
    "# Associating the probability tables with the model structure\n",
    "alarm_model.add_cpds(\n",
    "    cpd_burglary, cpd_earthquake, cpd_alarm, cpd_johncall, cpd_marycall\n",
    ")"
   ]
  },
  {
   "cell_type": "markdown",
   "metadata": {},
   "source": [
    "We can view the nodes of the alarm network."
   ]
  },
  {
   "cell_type": "code",
   "execution_count": 4,
   "metadata": {},
   "outputs": [
    {
     "data": {
      "text/plain": [
       "NodeView(('Burglary', 'Alarm', 'Earthquake', 'JohnCall', 'MaryCall'))"
      ]
     },
     "execution_count": 4,
     "metadata": {},
     "output_type": "execute_result"
    }
   ],
   "source": [
    "# Viewing nodes of the model\n",
    "alarm_model.nodes()"
   ]
  },
  {
   "cell_type": "markdown",
   "metadata": {},
   "source": [
    "We can also view the edges of the alarm network."
   ]
  },
  {
   "cell_type": "code",
   "execution_count": 5,
   "metadata": {},
   "outputs": [
    {
     "data": {
      "text/plain": [
       "OutEdgeView([('Burglary', 'Alarm'), ('Alarm', 'JohnCall'), ('Alarm', 'MaryCall'), ('Earthquake', 'Alarm')])"
      ]
     },
     "execution_count": 5,
     "metadata": {},
     "output_type": "execute_result"
    }
   ],
   "source": [
    "# Viewing edges of the model\n",
    "alarm_model.edges()"
   ]
  },
  {
   "cell_type": "markdown",
   "metadata": {},
   "source": [
    "We can show the probability tables using the `print()` method. \n",
    "\n",
    "> **NOTE**: the `pgmpy` library stores ALL the probabilities (including the last probability). This requires a bit more memory, but can save time for calculating the last probability by normalisation rule.\n",
    "\n",
    "Let's print the probability tables for **Alarm** and **MaryCalls**. For each variable, the value (0) stands for `False`, while the value (1) is `True`."
   ]
  },
  {
   "cell_type": "code",
   "execution_count": 6,
   "metadata": {},
   "outputs": [
    {
     "name": "stdout",
     "output_type": "stream",
     "text": [
      "+------------+---------------+---------------+---------------+---------------+\n",
      "| Burglary   | Burglary(0)   | Burglary(0)   | Burglary(1)   | Burglary(1)   |\n",
      "+------------+---------------+---------------+---------------+---------------+\n",
      "| Earthquake | Earthquake(0) | Earthquake(1) | Earthquake(0) | Earthquake(1) |\n",
      "+------------+---------------+---------------+---------------+---------------+\n",
      "| Alarm(0)   | 0.999         | 0.71          | 0.06          | 0.05          |\n",
      "+------------+---------------+---------------+---------------+---------------+\n",
      "| Alarm(1)   | 0.001         | 0.29          | 0.94          | 0.95          |\n",
      "+------------+---------------+---------------+---------------+---------------+\n",
      "+-------------+----------+----------+\n",
      "| Alarm       | Alarm(0) | Alarm(1) |\n",
      "+-------------+----------+----------+\n",
      "| MaryCall(0) | 0.99     | 0.3      |\n",
      "+-------------+----------+----------+\n",
      "| MaryCall(1) | 0.01     | 0.7      |\n",
      "+-------------+----------+----------+\n"
     ]
    }
   ],
   "source": [
    "# Print the probability table of the Alarm node\n",
    "print(cpd_alarm)\n",
    "\n",
    "# Print the probability table of the MaryCalls node\n",
    "print(cpd_marycall)"
   ]
  },
  {
   "cell_type": "markdown",
   "metadata": {},
   "source": [
    "We can find all the **(conditional) independencies** between the nodes in the network."
   ]
  },
  {
   "cell_type": "code",
   "execution_count": 7,
   "metadata": {},
   "outputs": [
    {
     "data": {
      "text/plain": [
       "(Burglary ⟂ Earthquake)\n",
       "(Burglary ⟂ JohnCall, MaryCall | Alarm)\n",
       "(Burglary ⟂ MaryCall | JohnCall, Alarm)\n",
       "(Burglary ⟂ JohnCall | MaryCall, Alarm)\n",
       "(Burglary ⟂ JohnCall, MaryCall | Earthquake, Alarm)\n",
       "(Burglary ⟂ MaryCall | JohnCall, Earthquake, Alarm)\n",
       "(Burglary ⟂ JohnCall | Earthquake, MaryCall, Alarm)\n",
       "(JohnCall ⟂ Burglary, MaryCall, Earthquake | Alarm)\n",
       "(JohnCall ⟂ MaryCall, Earthquake | Burglary, Alarm)\n",
       "(JohnCall ⟂ Burglary, Earthquake | MaryCall, Alarm)\n",
       "(JohnCall ⟂ Burglary, MaryCall | Earthquake, Alarm)\n",
       "(JohnCall ⟂ Earthquake | Burglary, MaryCall, Alarm)\n",
       "(JohnCall ⟂ MaryCall | Burglary, Earthquake, Alarm)\n",
       "(JohnCall ⟂ Burglary | Earthquake, MaryCall, Alarm)\n",
       "(MaryCall ⟂ Burglary, JohnCall, Earthquake | Alarm)\n",
       "(MaryCall ⟂ JohnCall, Earthquake | Burglary, Alarm)\n",
       "(MaryCall ⟂ Burglary, Earthquake | JohnCall, Alarm)\n",
       "(MaryCall ⟂ Burglary, JohnCall | Earthquake, Alarm)\n",
       "(MaryCall ⟂ Earthquake | Burglary, JohnCall, Alarm)\n",
       "(MaryCall ⟂ JohnCall | Burglary, Earthquake, Alarm)\n",
       "(MaryCall ⟂ Burglary | JohnCall, Earthquake, Alarm)\n",
       "(Earthquake ⟂ Burglary)\n",
       "(Earthquake ⟂ JohnCall, MaryCall | Alarm)\n",
       "(Earthquake ⟂ JohnCall, MaryCall | Burglary, Alarm)\n",
       "(Earthquake ⟂ MaryCall | JohnCall, Alarm)\n",
       "(Earthquake ⟂ JohnCall | MaryCall, Alarm)\n",
       "(Earthquake ⟂ MaryCall | Burglary, JohnCall, Alarm)\n",
       "(Earthquake ⟂ JohnCall | Burglary, MaryCall, Alarm)"
      ]
     },
     "execution_count": 7,
     "metadata": {},
     "output_type": "execute_result"
    }
   ],
   "source": [
    "alarm_model.get_independencies()"
   ]
  },
  {
   "cell_type": "markdown",
   "metadata": {},
   "source": [
    "We can also find the **local (conditional) independencies of a specific node** in the network as follows."
   ]
  },
  {
   "cell_type": "code",
   "execution_count": 8,
   "metadata": {},
   "outputs": [
    {
     "data": {
      "text/plain": [
       "(JohnCall ⟂ Burglary, MaryCall, Earthquake | Alarm)"
      ]
     },
     "execution_count": 8,
     "metadata": {},
     "output_type": "execute_result"
    }
   ],
   "source": [
    "# Checking independcies of a node\n",
    "alarm_model.local_independencies(\"JohnCall\")"
   ]
  },
  {
   "cell_type": "markdown",
   "metadata": {},
   "source": [
    "---\n",
    "\n",
    "- More tutorials can be found [here](https://github.com/meiyi1986/tutorials).\n",
    "- [Yi Mei's homepage](https://meiyi1986.github.io/)"
   ]
  }
 ],
 "metadata": {
  "colab": {
   "authorship_tag": "ABX9TyMUhVpwLgftmeLtOZUU/BvG",
   "name": "murderer-bn.ipynb",
   "provenance": []
  },
  "kernelspec": {
   "display_name": "Python 3 (ipykernel)",
   "language": "python",
   "name": "python3"
  },
  "language_info": {
   "codemirror_mode": {
    "name": "ipython",
    "version": 3
   },
   "file_extension": ".py",
   "mimetype": "text/x-python",
   "name": "python",
   "nbconvert_exporter": "python",
   "pygments_lexer": "ipython3",
   "version": "3.9.6"
  },
  "widgets": {
   "application/vnd.jupyter.widget-state+json": {
    "0e1a5c69cfed4342892752d5b4131c2d": {
     "model_module": "@jupyter-widgets/controls",
     "model_module_version": "1.5.0",
     "model_name": "DescriptionStyleModel",
     "state": {
      "_model_module": "@jupyter-widgets/controls",
      "_model_module_version": "1.5.0",
      "_model_name": "DescriptionStyleModel",
      "_view_count": null,
      "_view_module": "@jupyter-widgets/base",
      "_view_module_version": "1.2.0",
      "_view_name": "StyleView",
      "description_width": ""
     }
    },
    "211ec25b1db34e999c1bc53329d42f44": {
     "model_module": "@jupyter-widgets/base",
     "model_module_version": "1.2.0",
     "model_name": "LayoutModel",
     "state": {
      "_model_module": "@jupyter-widgets/base",
      "_model_module_version": "1.2.0",
      "_model_name": "LayoutModel",
      "_view_count": null,
      "_view_module": "@jupyter-widgets/base",
      "_view_module_version": "1.2.0",
      "_view_name": "LayoutView",
      "align_content": null,
      "align_items": null,
      "align_self": null,
      "border": null,
      "bottom": null,
      "display": null,
      "flex": null,
      "flex_flow": null,
      "grid_area": null,
      "grid_auto_columns": null,
      "grid_auto_flow": null,
      "grid_auto_rows": null,
      "grid_column": null,
      "grid_gap": null,
      "grid_row": null,
      "grid_template_areas": null,
      "grid_template_columns": null,
      "grid_template_rows": null,
      "height": null,
      "justify_content": null,
      "justify_items": null,
      "left": null,
      "margin": null,
      "max_height": null,
      "max_width": null,
      "min_height": null,
      "min_width": null,
      "object_fit": null,
      "object_position": null,
      "order": null,
      "overflow": null,
      "overflow_x": null,
      "overflow_y": null,
      "padding": null,
      "right": null,
      "top": null,
      "visibility": null,
      "width": null
     }
    },
    "2e0959ce50f744d9ac8a801878f29c99": {
     "model_module": "@jupyter-widgets/controls",
     "model_module_version": "1.5.0",
     "model_name": "DescriptionStyleModel",
     "state": {
      "_model_module": "@jupyter-widgets/controls",
      "_model_module_version": "1.5.0",
      "_model_name": "DescriptionStyleModel",
      "_view_count": null,
      "_view_module": "@jupyter-widgets/base",
      "_view_module_version": "1.2.0",
      "_view_name": "StyleView",
      "description_width": ""
     }
    },
    "30dfd17e6f1f4bbd9cefdbbb92cb4958": {
     "model_module": "@jupyter-widgets/controls",
     "model_module_version": "1.5.0",
     "model_name": "DescriptionStyleModel",
     "state": {
      "_model_module": "@jupyter-widgets/controls",
      "_model_module_version": "1.5.0",
      "_model_name": "DescriptionStyleModel",
      "_view_count": null,
      "_view_module": "@jupyter-widgets/base",
      "_view_module_version": "1.2.0",
      "_view_name": "StyleView",
      "description_width": ""
     }
    },
    "3c120f9e3aeb46119d12f74ac1035992": {
     "model_module": "@jupyter-widgets/controls",
     "model_module_version": "1.5.0",
     "model_name": "FloatProgressModel",
     "state": {
      "_dom_classes": [],
      "_model_module": "@jupyter-widgets/controls",
      "_model_module_version": "1.5.0",
      "_model_name": "FloatProgressModel",
      "_view_count": null,
      "_view_module": "@jupyter-widgets/controls",
      "_view_module_version": "1.5.0",
      "_view_name": "ProgressView",
      "bar_style": "success",
      "description": "",
      "description_tooltip": null,
      "layout": "IPY_MODEL_6557561de25f435190bc75158f6b5064",
      "max": 2,
      "min": 0,
      "orientation": "horizontal",
      "style": "IPY_MODEL_44df7ae731d848d894bc5c1c6d1c1b19",
      "value": 2
     }
    },
    "44df7ae731d848d894bc5c1c6d1c1b19": {
     "model_module": "@jupyter-widgets/controls",
     "model_module_version": "1.5.0",
     "model_name": "ProgressStyleModel",
     "state": {
      "_model_module": "@jupyter-widgets/controls",
      "_model_module_version": "1.5.0",
      "_model_name": "ProgressStyleModel",
      "_view_count": null,
      "_view_module": "@jupyter-widgets/base",
      "_view_module_version": "1.2.0",
      "_view_name": "StyleView",
      "bar_color": null,
      "description_width": ""
     }
    },
    "4ed92c6ebfad491dbb7838cf9040f789": {
     "model_module": "@jupyter-widgets/controls",
     "model_module_version": "1.5.0",
     "model_name": "FloatProgressModel",
     "state": {
      "_dom_classes": [],
      "_model_module": "@jupyter-widgets/controls",
      "_model_module_version": "1.5.0",
      "_model_name": "FloatProgressModel",
      "_view_count": null,
      "_view_module": "@jupyter-widgets/controls",
      "_view_module_version": "1.5.0",
      "_view_name": "ProgressView",
      "bar_style": "success",
      "description": "",
      "description_tooltip": null,
      "layout": "IPY_MODEL_211ec25b1db34e999c1bc53329d42f44",
      "max": 2,
      "min": 0,
      "orientation": "horizontal",
      "style": "IPY_MODEL_d27706f35c334b51ad555598e9a261ef",
      "value": 2
     }
    },
    "4eeaa192b99849988659547ed6f8a17b": {
     "model_module": "@jupyter-widgets/controls",
     "model_module_version": "1.5.0",
     "model_name": "HBoxModel",
     "state": {
      "_dom_classes": [],
      "_model_module": "@jupyter-widgets/controls",
      "_model_module_version": "1.5.0",
      "_model_name": "HBoxModel",
      "_view_count": null,
      "_view_module": "@jupyter-widgets/controls",
      "_view_module_version": "1.5.0",
      "_view_name": "HBoxView",
      "box_style": "",
      "children": [
       "IPY_MODEL_ebbedb522c874b79a1095af4963bd976",
       "IPY_MODEL_3c120f9e3aeb46119d12f74ac1035992",
       "IPY_MODEL_5f75346373df4a13a6fb38f557b8d259"
      ],
      "layout": "IPY_MODEL_e0ba45aac28749c7a189293ca73dc51b"
     }
    },
    "50331471295a4a40934016b913fb515b": {
     "model_module": "@jupyter-widgets/base",
     "model_module_version": "1.2.0",
     "model_name": "LayoutModel",
     "state": {
      "_model_module": "@jupyter-widgets/base",
      "_model_module_version": "1.2.0",
      "_model_name": "LayoutModel",
      "_view_count": null,
      "_view_module": "@jupyter-widgets/base",
      "_view_module_version": "1.2.0",
      "_view_name": "LayoutView",
      "align_content": null,
      "align_items": null,
      "align_self": null,
      "border": null,
      "bottom": null,
      "display": null,
      "flex": null,
      "flex_flow": null,
      "grid_area": null,
      "grid_auto_columns": null,
      "grid_auto_flow": null,
      "grid_auto_rows": null,
      "grid_column": null,
      "grid_gap": null,
      "grid_row": null,
      "grid_template_areas": null,
      "grid_template_columns": null,
      "grid_template_rows": null,
      "height": null,
      "justify_content": null,
      "justify_items": null,
      "left": null,
      "margin": null,
      "max_height": null,
      "max_width": null,
      "min_height": null,
      "min_width": null,
      "object_fit": null,
      "object_position": null,
      "order": null,
      "overflow": null,
      "overflow_x": null,
      "overflow_y": null,
      "padding": null,
      "right": null,
      "top": null,
      "visibility": null,
      "width": null
     }
    },
    "53ce67001ef5424696addd3eaf8de144": {
     "model_module": "@jupyter-widgets/controls",
     "model_module_version": "1.5.0",
     "model_name": "HTMLModel",
     "state": {
      "_dom_classes": [],
      "_model_module": "@jupyter-widgets/controls",
      "_model_module_version": "1.5.0",
      "_model_name": "HTMLModel",
      "_view_count": null,
      "_view_module": "@jupyter-widgets/controls",
      "_view_module_version": "1.5.0",
      "_view_name": "HTMLView",
      "description": "",
      "description_tooltip": null,
      "layout": "IPY_MODEL_a39141612b074880aa5637c8cafeaefa",
      "placeholder": "​",
      "style": "IPY_MODEL_30dfd17e6f1f4bbd9cefdbbb92cb4958",
      "value": "Eliminating: Weapon: 100%"
     }
    },
    "5f75346373df4a13a6fb38f557b8d259": {
     "model_module": "@jupyter-widgets/controls",
     "model_module_version": "1.5.0",
     "model_name": "HTMLModel",
     "state": {
      "_dom_classes": [],
      "_model_module": "@jupyter-widgets/controls",
      "_model_module_version": "1.5.0",
      "_model_name": "HTMLModel",
      "_view_count": null,
      "_view_module": "@jupyter-widgets/controls",
      "_view_module_version": "1.5.0",
      "_view_name": "HTMLView",
      "description": "",
      "description_tooltip": null,
      "layout": "IPY_MODEL_7a797eefb0fd4a1787240a9fb24cd338",
      "placeholder": "​",
      "style": "IPY_MODEL_2e0959ce50f744d9ac8a801878f29c99",
      "value": " 2/2 [27:43&lt;00:00, 831.94s/it]"
     }
    },
    "6557561de25f435190bc75158f6b5064": {
     "model_module": "@jupyter-widgets/base",
     "model_module_version": "1.2.0",
     "model_name": "LayoutModel",
     "state": {
      "_model_module": "@jupyter-widgets/base",
      "_model_module_version": "1.2.0",
      "_model_name": "LayoutModel",
      "_view_count": null,
      "_view_module": "@jupyter-widgets/base",
      "_view_module_version": "1.2.0",
      "_view_name": "LayoutView",
      "align_content": null,
      "align_items": null,
      "align_self": null,
      "border": null,
      "bottom": null,
      "display": null,
      "flex": null,
      "flex_flow": null,
      "grid_area": null,
      "grid_auto_columns": null,
      "grid_auto_flow": null,
      "grid_auto_rows": null,
      "grid_column": null,
      "grid_gap": null,
      "grid_row": null,
      "grid_template_areas": null,
      "grid_template_columns": null,
      "grid_template_rows": null,
      "height": null,
      "justify_content": null,
      "justify_items": null,
      "left": null,
      "margin": null,
      "max_height": null,
      "max_width": null,
      "min_height": null,
      "min_width": null,
      "object_fit": null,
      "object_position": null,
      "order": null,
      "overflow": null,
      "overflow_x": null,
      "overflow_y": null,
      "padding": null,
      "right": null,
      "top": null,
      "visibility": null,
      "width": null
     }
    },
    "7a1a9a0fad754286bffa70151701f414": {
     "model_module": "@jupyter-widgets/base",
     "model_module_version": "1.2.0",
     "model_name": "LayoutModel",
     "state": {
      "_model_module": "@jupyter-widgets/base",
      "_model_module_version": "1.2.0",
      "_model_name": "LayoutModel",
      "_view_count": null,
      "_view_module": "@jupyter-widgets/base",
      "_view_module_version": "1.2.0",
      "_view_name": "LayoutView",
      "align_content": null,
      "align_items": null,
      "align_self": null,
      "border": null,
      "bottom": null,
      "display": null,
      "flex": null,
      "flex_flow": null,
      "grid_area": null,
      "grid_auto_columns": null,
      "grid_auto_flow": null,
      "grid_auto_rows": null,
      "grid_column": null,
      "grid_gap": null,
      "grid_row": null,
      "grid_template_areas": null,
      "grid_template_columns": null,
      "grid_template_rows": null,
      "height": null,
      "justify_content": null,
      "justify_items": null,
      "left": null,
      "margin": null,
      "max_height": null,
      "max_width": null,
      "min_height": null,
      "min_width": null,
      "object_fit": null,
      "object_position": null,
      "order": null,
      "overflow": null,
      "overflow_x": null,
      "overflow_y": null,
      "padding": null,
      "right": null,
      "top": null,
      "visibility": null,
      "width": null
     }
    },
    "7a797eefb0fd4a1787240a9fb24cd338": {
     "model_module": "@jupyter-widgets/base",
     "model_module_version": "1.2.0",
     "model_name": "LayoutModel",
     "state": {
      "_model_module": "@jupyter-widgets/base",
      "_model_module_version": "1.2.0",
      "_model_name": "LayoutModel",
      "_view_count": null,
      "_view_module": "@jupyter-widgets/base",
      "_view_module_version": "1.2.0",
      "_view_name": "LayoutView",
      "align_content": null,
      "align_items": null,
      "align_self": null,
      "border": null,
      "bottom": null,
      "display": null,
      "flex": null,
      "flex_flow": null,
      "grid_area": null,
      "grid_auto_columns": null,
      "grid_auto_flow": null,
      "grid_auto_rows": null,
      "grid_column": null,
      "grid_gap": null,
      "grid_row": null,
      "grid_template_areas": null,
      "grid_template_columns": null,
      "grid_template_rows": null,
      "height": null,
      "justify_content": null,
      "justify_items": null,
      "left": null,
      "margin": null,
      "max_height": null,
      "max_width": null,
      "min_height": null,
      "min_width": null,
      "object_fit": null,
      "object_position": null,
      "order": null,
      "overflow": null,
      "overflow_x": null,
      "overflow_y": null,
      "padding": null,
      "right": null,
      "top": null,
      "visibility": null,
      "width": null
     }
    },
    "865d602624a641b984c01a84e2a6bd49": {
     "model_module": "@jupyter-widgets/controls",
     "model_module_version": "1.5.0",
     "model_name": "HBoxModel",
     "state": {
      "_dom_classes": [],
      "_model_module": "@jupyter-widgets/controls",
      "_model_module_version": "1.5.0",
      "_model_name": "HBoxModel",
      "_view_count": null,
      "_view_module": "@jupyter-widgets/controls",
      "_view_module_version": "1.5.0",
      "_view_name": "HBoxView",
      "box_style": "",
      "children": [
       "IPY_MODEL_53ce67001ef5424696addd3eaf8de144",
       "IPY_MODEL_4ed92c6ebfad491dbb7838cf9040f789",
       "IPY_MODEL_fd119f513d5d4433a211898cec4e374b"
      ],
      "layout": "IPY_MODEL_87939cd8df4f4a45b553df2b37f4524b"
     }
    },
    "87939cd8df4f4a45b553df2b37f4524b": {
     "model_module": "@jupyter-widgets/base",
     "model_module_version": "1.2.0",
     "model_name": "LayoutModel",
     "state": {
      "_model_module": "@jupyter-widgets/base",
      "_model_module_version": "1.2.0",
      "_model_name": "LayoutModel",
      "_view_count": null,
      "_view_module": "@jupyter-widgets/base",
      "_view_module_version": "1.2.0",
      "_view_name": "LayoutView",
      "align_content": null,
      "align_items": null,
      "align_self": null,
      "border": null,
      "bottom": null,
      "display": null,
      "flex": null,
      "flex_flow": null,
      "grid_area": null,
      "grid_auto_columns": null,
      "grid_auto_flow": null,
      "grid_auto_rows": null,
      "grid_column": null,
      "grid_gap": null,
      "grid_row": null,
      "grid_template_areas": null,
      "grid_template_columns": null,
      "grid_template_rows": null,
      "height": null,
      "justify_content": null,
      "justify_items": null,
      "left": null,
      "margin": null,
      "max_height": null,
      "max_width": null,
      "min_height": null,
      "min_width": null,
      "object_fit": null,
      "object_position": null,
      "order": null,
      "overflow": null,
      "overflow_x": null,
      "overflow_y": null,
      "padding": null,
      "right": null,
      "top": null,
      "visibility": null,
      "width": null
     }
    },
    "8b33c262861e433286b8a3601aaa8391": {
     "model_module": "@jupyter-widgets/controls",
     "model_module_version": "1.5.0",
     "model_name": "DescriptionStyleModel",
     "state": {
      "_model_module": "@jupyter-widgets/controls",
      "_model_module_version": "1.5.0",
      "_model_name": "DescriptionStyleModel",
      "_view_count": null,
      "_view_module": "@jupyter-widgets/base",
      "_view_module_version": "1.2.0",
      "_view_name": "StyleView",
      "description_width": ""
     }
    },
    "a39141612b074880aa5637c8cafeaefa": {
     "model_module": "@jupyter-widgets/base",
     "model_module_version": "1.2.0",
     "model_name": "LayoutModel",
     "state": {
      "_model_module": "@jupyter-widgets/base",
      "_model_module_version": "1.2.0",
      "_model_name": "LayoutModel",
      "_view_count": null,
      "_view_module": "@jupyter-widgets/base",
      "_view_module_version": "1.2.0",
      "_view_name": "LayoutView",
      "align_content": null,
      "align_items": null,
      "align_self": null,
      "border": null,
      "bottom": null,
      "display": null,
      "flex": null,
      "flex_flow": null,
      "grid_area": null,
      "grid_auto_columns": null,
      "grid_auto_flow": null,
      "grid_auto_rows": null,
      "grid_column": null,
      "grid_gap": null,
      "grid_row": null,
      "grid_template_areas": null,
      "grid_template_columns": null,
      "grid_template_rows": null,
      "height": null,
      "justify_content": null,
      "justify_items": null,
      "left": null,
      "margin": null,
      "max_height": null,
      "max_width": null,
      "min_height": null,
      "min_width": null,
      "object_fit": null,
      "object_position": null,
      "order": null,
      "overflow": null,
      "overflow_x": null,
      "overflow_y": null,
      "padding": null,
      "right": null,
      "top": null,
      "visibility": null,
      "width": null
     }
    },
    "d27706f35c334b51ad555598e9a261ef": {
     "model_module": "@jupyter-widgets/controls",
     "model_module_version": "1.5.0",
     "model_name": "ProgressStyleModel",
     "state": {
      "_model_module": "@jupyter-widgets/controls",
      "_model_module_version": "1.5.0",
      "_model_name": "ProgressStyleModel",
      "_view_count": null,
      "_view_module": "@jupyter-widgets/base",
      "_view_module_version": "1.2.0",
      "_view_name": "StyleView",
      "bar_color": null,
      "description_width": ""
     }
    },
    "e0ba45aac28749c7a189293ca73dc51b": {
     "model_module": "@jupyter-widgets/base",
     "model_module_version": "1.2.0",
     "model_name": "LayoutModel",
     "state": {
      "_model_module": "@jupyter-widgets/base",
      "_model_module_version": "1.2.0",
      "_model_name": "LayoutModel",
      "_view_count": null,
      "_view_module": "@jupyter-widgets/base",
      "_view_module_version": "1.2.0",
      "_view_name": "LayoutView",
      "align_content": null,
      "align_items": null,
      "align_self": null,
      "border": null,
      "bottom": null,
      "display": null,
      "flex": null,
      "flex_flow": null,
      "grid_area": null,
      "grid_auto_columns": null,
      "grid_auto_flow": null,
      "grid_auto_rows": null,
      "grid_column": null,
      "grid_gap": null,
      "grid_row": null,
      "grid_template_areas": null,
      "grid_template_columns": null,
      "grid_template_rows": null,
      "height": null,
      "justify_content": null,
      "justify_items": null,
      "left": null,
      "margin": null,
      "max_height": null,
      "max_width": null,
      "min_height": null,
      "min_width": null,
      "object_fit": null,
      "object_position": null,
      "order": null,
      "overflow": null,
      "overflow_x": null,
      "overflow_y": null,
      "padding": null,
      "right": null,
      "top": null,
      "visibility": null,
      "width": null
     }
    },
    "ebbedb522c874b79a1095af4963bd976": {
     "model_module": "@jupyter-widgets/controls",
     "model_module_version": "1.5.0",
     "model_name": "HTMLModel",
     "state": {
      "_dom_classes": [],
      "_model_module": "@jupyter-widgets/controls",
      "_model_module_version": "1.5.0",
      "_model_name": "HTMLModel",
      "_view_count": null,
      "_view_module": "@jupyter-widgets/controls",
      "_view_module_version": "1.5.0",
      "_view_name": "HTMLView",
      "description": "",
      "description_tooltip": null,
      "layout": "IPY_MODEL_50331471295a4a40934016b913fb515b",
      "placeholder": "​",
      "style": "IPY_MODEL_8b33c262861e433286b8a3601aaa8391",
      "value": "Finding Elimination Order: : 100%"
     }
    },
    "fd119f513d5d4433a211898cec4e374b": {
     "model_module": "@jupyter-widgets/controls",
     "model_module_version": "1.5.0",
     "model_name": "HTMLModel",
     "state": {
      "_dom_classes": [],
      "_model_module": "@jupyter-widgets/controls",
      "_model_module_version": "1.5.0",
      "_model_name": "HTMLModel",
      "_view_count": null,
      "_view_module": "@jupyter-widgets/controls",
      "_view_module_version": "1.5.0",
      "_view_name": "HTMLView",
      "description": "",
      "description_tooltip": null,
      "layout": "IPY_MODEL_7a1a9a0fad754286bffa70151701f414",
      "placeholder": "​",
      "style": "IPY_MODEL_0e1a5c69cfed4342892752d5b4131c2d",
      "value": " 2/2 [00:00&lt;00:00, 37.07it/s]"
     }
    }
   }
  }
 },
 "nbformat": 4,
 "nbformat_minor": 1
}
