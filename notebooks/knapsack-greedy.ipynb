{
 "cells": [
  {
   "cell_type": "markdown",
   "metadata": {},
   "source": [
    "# Greedy Heuristics: Knapsack Problem\n",
    "\n",
    "---\n",
    "\n",
    "**Greedy heuristics** are very commonly used approaches for solving **combinatorial optimisation** problems. In this tutorial, we will introduce how to use greedy heuristics to solve the **knapsack problem**, which is a well-known complex **combinatorial optimisation** problem."
   ]
  },
  {
   "cell_type": "markdown",
   "metadata": {},
   "source": [
    "## Captain Jack Sparrow on Ghost Island\n",
    "\n",
    "---\n",
    "\n",
    "One day, Captain [Jack Sparrow](https://en.wikipedia.org/wiki/Jack_Sparrow) arrived a ghost island with a lot of treasure. However, he was found by a group of ghosts, and chased by them. He had to pick some of the following items to his ship and flee. \n",
    "\n",
    "| Item | Value | Weight |\n",
    "| ---- | ----- | ------ |\n",
    "| Crown | \\$10K |  7kg  |\n",
    "| Chest | \\$50K |  38kg  | \n",
    "| Diamond | \\$20K |  6kg  | \n",
    "| Gold coins | \\$7K |  10kg  | \n",
    "| Scepter | \\$25K |  20kg  | \n",
    "\n",
    "Jack can carry at most 50kg. **Which items should he pick?**\n",
    "\n",
    "<img src=\"img/knapsack.png\" width=600 />"
   ]
  },
  {
   "cell_type": "markdown",
   "metadata": {},
   "source": [
    "This is a **knapsack problem**. Given a set of **items**, each with a **value** and a **weight**, and a knapsack with a limited **capacity**, the problem is to select a **subset of items** so that \n",
    "\n",
    "1. **The total value of the selected items is maximised**, and \n",
    "2. **The total weight of the selected items cannot exceed the capacity**.\n",
    "\n",
    "The above problem can be coded as follows."
   ]
  },
  {
   "cell_type": "code",
   "execution_count": 1,
   "metadata": {
    "scrolled": true
   },
   "outputs": [],
   "source": [
    "items = [\n",
    "    {'name': 'crown', 'value': 10, 'weight': 7},\n",
    "    {'name': 'chest', 'value': 50, 'weight': 38},\n",
    "    {'name': 'diamond', 'value': 20,'weight': 6},\n",
    "    {'name': 'gold coins', 'value': 7, 'weight': 10},\n",
    "    {'name': 'scepter', 'value': 25, 'weight': 20}\n",
    "]\n",
    "\n",
    "capacity = 50"
   ]
  },
  {
   "cell_type": "markdown",
   "metadata": {},
   "source": [
    "## Greedy Heuristics\n",
    "\n",
    "---\n",
    "\n",
    "The main idea of **greedy heuristics** is to construct the solution step by step. At each iteration, it selects the most **greedy** step.\n",
    "\n",
    "For the knapsack problem, the greedy heuristics construct the solution by selecting one item at a time. We can sort the items in some order, and select the sorted items one by one, until the knapsack is full. For example, we can select the most valuable item, and then the second valuable one, and so on. *Note that different greedy heuristics sort the items in different ways.*\n",
    "\n",
    "The framework of greedy heuristics for the knapsack problem can be written as follows."
   ]
  },
  {
   "cell_type": "code",
   "execution_count": 2,
   "metadata": {},
   "outputs": [],
   "source": [
    "def greedy_knapsack(sorted_items, capacity):\n",
    "    '''\n",
    "    The greedy algorithm for the knapsack problem.\n",
    "    It takes the sorted items, selects the items one by one until the knapsack is full.\n",
    "    '''\n",
    "    selected = []\n",
    "    remaining_capacity = capacity\n",
    "    for item in sorted_items:\n",
    "        if item['weight'] <= remaining_capacity:\n",
    "            selected.append(item)\n",
    "            remaining_capacity -= item['weight']\n",
    "            \n",
    "    return selected"
   ]
  },
  {
   "cell_type": "markdown",
   "metadata": {},
   "source": [
    "### Most Valuable First\n",
    "\n",
    "The **Most Value First (MVF)** greedy heuristic selects the most valuable item first. \n",
    "\n",
    "It **sorts the items in the decreasing order of their value**, and then selects the sorted items one by one until the knapsack is full.\n",
    "\n",
    "Let's use the MVF greedy heuristic to find a solution for Captain Jack Sparrow."
   ]
  },
  {
   "cell_type": "code",
   "execution_count": 3,
   "metadata": {},
   "outputs": [],
   "source": [
    "mvf_items = sorted(items, key=lambda x: x['value'], reverse=True)\n",
    "mvf_selected = greedy_knapsack(mvf_items, capacity)"
   ]
  },
  {
   "cell_type": "markdown",
   "metadata": {},
   "source": [
    "We print the obtained solution as follows."
   ]
  },
  {
   "cell_type": "code",
   "execution_count": 4,
   "metadata": {},
   "outputs": [],
   "source": [
    "def print_solution(sel_items, method_name):\n",
    "    selected_names = [item['name'] for item in sel_items]\n",
    "    selected_value = sum([item['value'] for item in sel_items])\n",
    "    selected_weight = sum([item['weight'] for item in sel_items])\n",
    "\n",
    "    print(f'{method_name} selected items: {selected_names}')\n",
    "    print(f'{method_name} selected value: {selected_value}, weight: {selected_weight}/{capacity}.')"
   ]
  },
  {
   "cell_type": "code",
   "execution_count": 5,
   "metadata": {},
   "outputs": [
    {
     "name": "stdout",
     "output_type": "stream",
     "text": [
      "Most Value First selected items: ['chest', 'diamond']\n",
      "Most Value First selected value: 70, weight: 44/50.\n"
     ]
    }
   ],
   "source": [
    "print_solution(mvf_selected, \"Most Value First\")"
   ]
  },
  {
   "cell_type": "markdown",
   "metadata": {},
   "source": [
    "### Smallest Weight First\n",
    "\n",
    "The **Smallest Weight First (SWF)** greedy heuristic selects the item with the smallest weight first, so that the knapsack can potentially hold the most remaining items after the selection. \n",
    "\n",
    "It **sorts the items in the increasing order of their weight**, and then selects the sorted items one by one until the knapsack is full.\n",
    "\n",
    "Let's see how the SWF greedy heuristic works for Captain Jack Sparrow."
   ]
  },
  {
   "cell_type": "code",
   "execution_count": 6,
   "metadata": {},
   "outputs": [
    {
     "name": "stdout",
     "output_type": "stream",
     "text": [
      "Smallest Weight First selected items: ['diamond', 'crown', 'gold coins', 'scepter']\n",
      "Smallest Weight First selected value: 62, weight: 43/50.\n"
     ]
    }
   ],
   "source": [
    "swf_items = sorted(items, key=lambda x: x['weight'], reverse=False)\n",
    "swf_selected = greedy_knapsack(swf_items, capacity)\n",
    "\n",
    "print_solution(swf_selected, \"Smallest Weight First\")"
   ]
  },
  {
   "cell_type": "markdown",
   "metadata": {},
   "source": [
    "### Efficiency First\n",
    "\n",
    "The Efficiency First (EF) greedy heuristic is a combination of the above two heuristics. It selects the most efficient item (i.e., the one with the largest value per weight) first.\n",
    "\n",
    "It **sorts the items in the decreasing order of their value/weight**, and then selects the sorted items one by one until the knapsack is full.\n",
    "\n",
    "Let's see how the EF greedy heuristic works for Captain Jack Sparrow."
   ]
  },
  {
   "cell_type": "code",
   "execution_count": 7,
   "metadata": {},
   "outputs": [
    {
     "name": "stdout",
     "output_type": "stream",
     "text": [
      "Efficiency First selected items: ['diamond', 'crown', 'scepter', 'gold coins']\n",
      "Efficiency First selected value: 62, weight: 43/50.\n"
     ]
    }
   ],
   "source": [
    "ef_items = sorted(items, key=lambda x: x['value'] / x['weight'], reverse=True)\n",
    "ef_selected = greedy_knapsack(ef_items, capacity)\n",
    "\n",
    "print_solution(ef_selected, \"Efficiency First\")"
   ]
  },
  {
   "cell_type": "markdown",
   "metadata": {},
   "source": [
    "We can see that the **Most Valuable First** greedy heuristic works the best for Captain Jack Sparrow, with the total value of 70, while the other heuristics obtained the total value of only 62. The main reason is that the SWF and EF heuristics left the heaviest chest to the end, but failed to select it.\n",
    "\n",
    "> **NOTE**: If we can select a part of an item, e.g., 25% of item 2 and 58% of item 3, then the **Efficiency First** heuristic can guarantee to obtain the optimal solution."
   ]
  },
  {
   "cell_type": "markdown",
   "metadata": {},
   "source": [
    "## Larger Instances\n",
    "\n",
    "---\n",
    "\n",
    "Let's try the greedy heuristics on larger instances. Here we load a knapsack instance `data/100_1000.knapsack` with 100 items and capacity of 995. The data format is as follows.\n",
    "\n",
    "| No. of Items | Capacity |\n",
    "| ------------ | -------- | \n",
    "| value_1 | weight_1 |\n",
    "| value_2 | weight_2 |\n",
    "| ...     | ...      |\n",
    "| value_n | weight_n |\n",
    "\n",
    "First, we define the method to load the data instance."
   ]
  },
  {
   "cell_type": "code",
   "execution_count": 8,
   "metadata": {},
   "outputs": [],
   "source": [
    "import pandas as pd\n",
    "\n",
    "df = pd.read_csv(\"data/100_1000.knapsack\", header=None, sep=\" \")\n",
    "\n",
    "capacity = df.iloc[0][1]\n",
    "item_data = df.iloc[1:]\n",
    "\n",
    "items = []\n",
    "\n",
    "for i in item_data.index:\n",
    "    items.append({'name': i, 'value': item_data[0][i], 'weight': item_data[1][i]})"
   ]
  },
  {
   "cell_type": "markdown",
   "metadata": {},
   "source": [
    "Then, we apply the three greedy heuristics to this instance and compare their obtained solutions."
   ]
  },
  {
   "cell_type": "code",
   "execution_count": 9,
   "metadata": {},
   "outputs": [
    {
     "name": "stdout",
     "output_type": "stream",
     "text": [
      "Most Value First selected items: [43, 11]\n",
      "Most Value First selected value: 1041, weight: 981/995.\n"
     ]
    }
   ],
   "source": [
    "mvf_items = sorted(items, key=lambda x: x['value'], reverse=True)\n",
    "mvf_selected = greedy_knapsack(mvf_items, capacity)\n",
    "\n",
    "print_solution(mvf_selected, \"Most Value First\")"
   ]
  },
  {
   "cell_type": "code",
   "execution_count": 10,
   "metadata": {},
   "outputs": [
    {
     "name": "stdout",
     "output_type": "stream",
     "text": [
      "Smallest Weight First selected items: [11, 49, 7, 54, 38, 24, 83, 61, 14, 33, 39, 36, 13]\n",
      "Smallest Weight First selected value: 862, weight: 965/995.\n"
     ]
    }
   ],
   "source": [
    "swf_items = sorted(items, key=lambda x: x['weight'], reverse=False)\n",
    "swf_selected = greedy_knapsack(swf_items, capacity)\n",
    "\n",
    "print_solution(swf_selected, \"Smallest Weight First\")"
   ]
  },
  {
   "cell_type": "code",
   "execution_count": 11,
   "metadata": {},
   "outputs": [
    {
     "name": "stdout",
     "output_type": "stream",
     "text": [
      "Efficiency First selected items: [38, 24, 54, 33, 71, 57, 85, 28, 7, 11]\n",
      "Efficiency First selected value: 1487, weight: 983/995.\n"
     ]
    }
   ],
   "source": [
    "ef_items = sorted(items, key=lambda x: x['value'] / x['weight'], reverse=True)\n",
    "ef_selected = greedy_knapsack(ef_items, capacity)\n",
    "\n",
    "print_solution(ef_selected, \"Efficiency First\")"
   ]
  },
  {
   "cell_type": "markdown",
   "metadata": {},
   "source": [
    "## Summary\n",
    "\n",
    "---\n",
    "\n",
    "The greedy algorithms for knapsack problem is based on the **item sorting heuristic**. We can define the sorting heuristic in different ways.\n",
    "\n",
    "No single greedy algorithm can guarantee to be better than others. For example, the Most Valuable First heuristics worked for Captain Jack Sparrow. However, for the large instance (and many real-world cases), the Efficiency First heuristic performs very well. Overall, no greedy heuristic can guarantee to find the optimal solution for knapsack problem. \n",
    "\n",
    "> **NOTE**: The knapsack problem is known to be NP-hard, which means there is no polynomial-time algorithm that can solve it to optimality.\n",
    "\n",
    "The **advantages** of greedy heuristics are:\n",
    "\n",
    "- Fast speed\n",
    "- Solution quality is OK\n",
    "\n",
    "The **disadvantages** of greedy heuristics are:\n",
    "\n",
    "- Cannot guarantee optimality\n",
    "- Sometimes the solution quality can be poor\n",
    "\n",
    "There are more advanced techniques to find better solutions than greedy heuristics, including\n",
    "\n",
    "- Dynamic Programming\n",
    "- [Branch and Bound](https://github.com/meiyi1986/tutorials/blob/master/notebooks/knapsack-branch-bound.ipynb)\n",
    "- Local Search\n",
    "- Genetic Algorithms"
   ]
  },
  {
   "cell_type": "markdown",
   "metadata": {},
   "source": [
    "---\n",
    "\n",
    "- More tutorials can be found [here](https://github.com/meiyi1986/tutorials).\n",
    "- [Yi Mei's homepage](https://meiyi1986.github.io/)"
   ]
  }
 ],
 "metadata": {
  "colab": {
   "authorship_tag": "ABX9TyMeJhjW6Pj0jBqaT2hJqUdO",
   "name": "ortools-jss.ipynb",
   "provenance": []
  },
  "kernelspec": {
   "display_name": "Python 3 (ipykernel)",
   "language": "python",
   "name": "python3"
  },
  "language_info": {
   "codemirror_mode": {
    "name": "ipython",
    "version": 3
   },
   "file_extension": ".py",
   "mimetype": "text/x-python",
   "name": "python",
   "nbconvert_exporter": "python",
   "pygments_lexer": "ipython3",
   "version": "3.9.6"
  }
 },
 "nbformat": 4,
 "nbformat_minor": 1
}
