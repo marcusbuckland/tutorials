{
 "cells": [
  {
   "cell_type": "markdown",
   "metadata": {},
   "source": [
    "# Knapsack Problem: Greedy Algorithms\n",
    "\n",
    "---\n",
    "\n",
    "This tutorial introduces the **knapsack problem**, a well known **combinatorial optimisation** problem, and how to solve it by simple **greedy algorithms**."
   ]
  },
  {
   "cell_type": "markdown",
   "metadata": {},
   "source": [
    "## Captain Jack Sparrow on Ghost Island\n",
    "\n",
    "---\n",
    "\n",
    "One day, Captain [Jack Sparrow](https://en.wikipedia.org/wiki/Jack_Sparrow) arrived a ghost island with a lot of treasure. However, he was found by a group of ghosts, and chased by them. He had to pick some of the following items to his ship and flee. \n",
    "\n",
    "| Item | Value | Weight |\n",
    "| ---- | ----- | ------ |\n",
    "| Crown | \\$10K |  7kg  |\n",
    "| Chest | \\$50K |  38kg  | \n",
    "| Diamond | \\$20K |  6kg  | \n",
    "| Gold coins | \\$7K |  10kg  | \n",
    "| Scepter | \\$25K |  20kg  | \n",
    "\n",
    "Jack can carry at most 50kg. **Which items should he pick?**\n",
    "\n",
    "<img src=\"img/knapsack.png\" width=600 />"
   ]
  },
  {
   "cell_type": "markdown",
   "metadata": {},
   "source": [
    "This is a **knapsack problem**. Given a set of **items**, each with a **value** and a **weight**, and a knapsack with a limited **capacity**, the problem is to select a **subset of items** so that \n",
    "\n",
    "1. **The total value of the selected items is maximised**, and \n",
    "2. **The total weight of the selected items cannot exceed the capacity**.\n",
    "\n",
    "The above problem can be coded as follows."
   ]
  },
  {
   "cell_type": "code",
   "execution_count": 9,
   "metadata": {
    "scrolled": true
   },
   "outputs": [],
   "source": [
    "items = [\n",
    "    {\n",
    "        'name': 'crown',\n",
    "        'value': 10,\n",
    "        'weight': 7\n",
    "    },\n",
    "    {\n",
    "        'name': 'chest',\n",
    "        'value': 50,\n",
    "        'weight': 38\n",
    "    },\n",
    "    {\n",
    "        'name': 'diamond',\n",
    "        'value': 20,\n",
    "        'weight': 6\n",
    "    },\n",
    "    {\n",
    "        'name': 'gold coins',\n",
    "        'value': 7,\n",
    "        'weight': 10\n",
    "    },\n",
    "    {\n",
    "        'name': 'scepter',\n",
    "        'value': 25,\n",
    "        'weight': 20\n",
    "    }\n",
    "]\n",
    "\n",
    "capacity = 50"
   ]
  },
  {
   "cell_type": "markdown",
   "metadata": {},
   "source": [
    "## Greedy Algorithms\n",
    "\n",
    "---\n",
    "\n",
    "We can select the items one by one following some order, until no item can be selected. For example, we can pick the most valuable item, and then the second valuable one, and so on. At each step, we select the next item greedily based on some criterion. Therefore, such kind of algorithms are called **greedy algorithms**.\n",
    "\n",
    "The greedy algorithm for the knapsack problem can be written as follows."
   ]
  },
  {
   "cell_type": "code",
   "execution_count": 8,
   "metadata": {},
   "outputs": [],
   "source": [
    "def greedy_knapsack(sorted_items, capacity):\n",
    "    '''\n",
    "    The greedy algorithm for the knapsack problem.\n",
    "    It takes the sorted items, selects the items one by one until the knapsack is full.\n",
    "    '''\n",
    "    selected = []\n",
    "    remaining_capacity = capacity\n",
    "    for item in sorted_items:\n",
    "        if item['weight'] <= remaining_capacity:\n",
    "            selected.append(item)\n",
    "            remaining_capacity -= item['weight']\n",
    "            \n",
    "    return selected"
   ]
  },
  {
   "cell_type": "markdown",
   "metadata": {},
   "source": [
    "### Most Valuable First\n",
    "\n",
    "The **Most Value First (MVF)** greedy heuristic selects the most valuable item first. \n",
    "\n",
    "It **sorts the items in the decreasing order of their value**, and then selects the sorted items one by one until the knapsack is full.\n",
    "\n",
    "Let's use the MVF greedy heuristic to find a solution for Captain Jack Sparrow."
   ]
  },
  {
   "cell_type": "code",
   "execution_count": 21,
   "metadata": {},
   "outputs": [
    {
     "name": "stdout",
     "output_type": "stream",
     "text": [
      "Most Value First selected items: ['chest', 'diamond']\n",
      "Most Value First selected value: 70, weight: 44/50.\n"
     ]
    }
   ],
   "source": [
    "mvf_items = sorted(items, key=lambda x: x['value'], reverse=True)\n",
    "mvf_selected = greedy_knapsack(mvf_items, capacity)\n",
    "\n",
    "selected_names = [item['name'] for item in mvf_selected]\n",
    "selected_value = sum([item['value'] for item in mvf_selected])\n",
    "selected_weight = sum([item['weight'] for item in mvf_selected])\n",
    "\n",
    "print(f'Most Value First selected items: {selected_names}')\n",
    "print(f'Most Value First selected value: {selected_value}, weight: {selected_weight}/{capacity}.')"
   ]
  },
  {
   "cell_type": "markdown",
   "metadata": {},
   "source": [
    "### Smallest Weight First\n",
    "\n",
    "The **Smallest Weight First (SWF)** greedy heuristic selects the item with the smallest weight first, so that the remaining capacity can potentially hold more items after the selection. \n",
    "\n",
    "It **sorts the items in the increasing order of their weight**, and then selects the sorted items one by one until the knapsack is full.\n",
    "\n",
    "Let's see how the SWF greedy heuristic works for Captain Jack Sparrow."
   ]
  },
  {
   "cell_type": "code",
   "execution_count": 25,
   "metadata": {},
   "outputs": [
    {
     "name": "stdout",
     "output_type": "stream",
     "text": [
      "Smallest Weight First selected items: ['diamond', 'crown', 'gold coins', 'scepter']\n",
      "Smallest Weight First selected value: 62, weight: 43/50.\n"
     ]
    }
   ],
   "source": [
    "swf_items = sorted(items, key=lambda x: x['weight'], reverse=False)\n",
    "swf_selected = greedy_knapsack(swf_items, capacity)\n",
    "\n",
    "selected_names = [item['name'] for item in swf_selected]\n",
    "selected_value = sum([item['value'] for item in swf_selected])\n",
    "selected_weight = sum([item['weight'] for item in swf_selected])\n",
    "\n",
    "print(f'Smallest Weight First selected items: {selected_names}')\n",
    "print(f'Smallest Weight First selected value: {selected_value}, weight: {selected_weight}/{capacity}.')"
   ]
  },
  {
   "cell_type": "markdown",
   "metadata": {},
   "source": [
    "### Efficiency First\n",
    "\n",
    "The Efficiency First (EF) greedy heuristic is a combination of the above two heuristics. It selects the most efficient item (i.e., the one with the largest value per weight) first.\n",
    "\n",
    "It **sorts the items in the decreasing order of their value/weight**, and then selects the sorted items one by one until the knapsack is full.\n",
    "\n",
    "Let's see how the EF greedy heuristic works for Captain Jack Sparrow."
   ]
  },
  {
   "cell_type": "code",
   "execution_count": 26,
   "metadata": {},
   "outputs": [
    {
     "name": "stdout",
     "output_type": "stream",
     "text": [
      "Efficiency First selected items: ['diamond', 'crown', 'scepter', 'gold coins']\n",
      "Efficiency First selected value: 62, weight: 43/50.\n"
     ]
    }
   ],
   "source": [
    "ef_items = sorted(items, key=lambda x: x['value'] / x['weight'], reverse=True)\n",
    "ef_selected = greedy_knapsack(ef_items, capacity)\n",
    "\n",
    "selected_names = [item['name'] for item in ef_selected]\n",
    "selected_value = sum([item['value'] for item in ef_selected])\n",
    "selected_weight = sum([item['weight'] for item in ef_selected])\n",
    "\n",
    "print(f'Efficiency First selected items: {selected_names}')\n",
    "print(f'Efficiency First selected value: {selected_value}, weight: {selected_weight}/{capacity}.')"
   ]
  },
  {
   "cell_type": "markdown",
   "metadata": {},
   "source": [
    "We can see that the **Most Valuable First** greedy heuristic works the best for Captain Jack Sparrow, with the total value of 70, while the other heuristics obtained the total value of only 62. The main reason is that the SWF and EF heuristics left the heaviest chest to the end, but failed to select it."
   ]
  },
  {
   "cell_type": "markdown",
   "metadata": {},
   "source": [
    "## Summary\n",
    "\n",
    "---\n",
    "\n",
    "The greedy algorithms for knapsack problem is based on the **item sorting heuristic**. We can define the sorting heuristic in different ways.\n",
    "\n",
    "No single greedy algorithm can guarantee to be better than others. Although the Most Valuable First heuristics worked for Captain Jack Sparrow, we cannot guarantee it is the best in all other cases. No greedy algorithm can guarantee to find the optimal solution for knapsack problem.\n",
    "\n",
    "> **NOTE**: The knapsack problem is known to be NP-hard, which means there is no polynomial-time algorithm that can solve it to optimality.\n",
    "\n",
    "To solve the knapsack problem better, we will introduce other algorithms including\n",
    "\n",
    "- Dynamic Programming\n",
    "- Branch and Bound\n",
    "- Local Search\n",
    "- Genetic Algorithms"
   ]
  },
  {
   "cell_type": "markdown",
   "metadata": {},
   "source": [
    "---\n",
    "\n",
    "- More tutorials can be found [here](https://github.com/meiyi1986/tutorials).\n",
    "- [Yi Mei's homepage](https://meiyi1986.github.io/)"
   ]
  }
 ],
 "metadata": {
  "colab": {
   "authorship_tag": "ABX9TyMeJhjW6Pj0jBqaT2hJqUdO",
   "name": "ortools-jss.ipynb",
   "provenance": []
  },
  "kernelspec": {
   "display_name": "Python 3 (ipykernel)",
   "language": "python",
   "name": "python3"
  },
  "language_info": {
   "codemirror_mode": {
    "name": "ipython",
    "version": 3
   },
   "file_extension": ".py",
   "mimetype": "text/x-python",
   "name": "python",
   "nbconvert_exporter": "python",
   "pygments_lexer": "ipython3",
   "version": "3.9.6"
  }
 },
 "nbformat": 4,
 "nbformat_minor": 1
}
