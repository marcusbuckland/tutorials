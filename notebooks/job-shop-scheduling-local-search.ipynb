{
 "cells": [
  {
   "cell_type": "markdown",
   "id": "5ca8bc9c",
   "metadata": {
    "id": "5ca8bc9c"
   },
   "source": [
    "# Job Shop Scheduling: Local Search\n",
    "\n",
    "In the previous [tutorial](https://github.com/meiyi1986/tutorials/blob/master/notebooks/job-shop-scheduling-state-space-search.ipynb) on Job Shop Scheduling by State Space Search, we have introduced the basics of **job shop scheduling** and an AI planning **state space search** algorithm to find the best schedule with the minimal makespan.\n",
    "\n",
    "The state space search algorithm searches all the possible goal states (schedules) exhaustively. Although the exhaustive search can guarantee optimality, its **computation complexity grows exponentially with the increase of the problem size**. Therefore, it is usually not possible to enumerate all the possible solutions / goal states to find the optimal solution.\n",
    "\n",
    "> **NOTE**: The computational complexity of the state space exhaustive search is $O(N^{NM})$, where $N$ is the number of jobs and $M$ is the number of machines. The job shop scheduling problem is known as NP-hard, which means there is no exact method that can find the optimal schedule in polynomial time.\n",
    "\n",
    "As the problem size increases, it is impossible to enumerate all the possible solutions. In this tutorial, we introduce how to use **local search** methods to search **ONLY a part** of the solution space, to find **good enough** solutions within **a reasonable time**. "
   ]
  },
  {
   "cell_type": "markdown",
   "id": "934923cf",
   "metadata": {},
   "source": [
    "## Job Shop Scheduling\n",
    "\n",
    "---\n",
    "\n",
    "The job shop scheduling problem is described as follows. Given a set of $N$ jobs and $M$ machines, each job $i$ has a sequence of operations to be processed in order. Operation $j$ of job $i$ has a processing time $t_{ij}$ and needs to be processed by machine $m_{ij}$.\n",
    "\n",
    "The problem is to design a schedule, i.e., the start time $x_{ij}$ of each operation on its machine, so that the objective function (e.g., makespan and tardiness) of the schedule is minimised, and the following contraints are satisfied.\n",
    "\n",
    "1. **Resource Constraint**: each machine can process at most one operation at a time.\n",
    "2. **Precedence Constraint**: each operation cannot start processing until its precedent operation in the same job has been completed. The first operation of a job can be started at time 0 (the job is already at the shop floor).\n",
    "\n",
    "An example of the job shop scheduling is shown as two matrices below, where element $[i,j]$ corresponds to $t_{ij}$ and $m_{ij}$, respectively.\n",
    "\n",
    "- Operation processing time $t_{ij}$:\n",
    "\n",
    "| t_ij | 0 | 1 | 2 |\n",
    "| --- |---|---|---|\n",
    "| 0 | 30 | 30 | 10 |\n",
    "| 1 | 60 | 15 | 10 | \n",
    "\n",
    "- Operation machine $m_{ij}$:\n",
    "\n",
    "| m_ij | 0 | 1 | 2 |\n",
    "| --- |---|---|---|\n",
    "| 0 | 0 | 1 | 2 |\n",
    "| 1 | 0 | 1 | 2 | \n",
    "\n",
    "An example schedule is shown as a matrix of $x_{ij}$, such as\n",
    "\n",
    "| x_ij | 0 | 1 | 2 |\n",
    "| --- |---|---|---|\n",
    "| 0 | 0 | 30 | 60 |\n",
    "| 1 | 30 | 90 | 105 | \n",
    "\n",
    "<img src=\"img/simple-schedule.png\" width=600 />"
   ]
  },
  {
   "cell_type": "markdown",
   "id": "9f16b9c2",
   "metadata": {},
   "source": [
    "## Solution Representation\n",
    "\n",
    "---\n",
    "\n",
    "The solution representation is very important to determine the search space and how effective the search will be. There have been many different representation schemes for job shop scheduling. Here, we adopt a common representation called the **preference list-based** representation.\n",
    "\n",
    "> **NOTe**: more representations can be found in this [paper](https://www.sciencedirect.com/science/article/pii/0360835296000472).\n",
    "\n",
    "In the **preference list-based** representation, a scheduling solution is represented as a set of preference lists, each for one machine. The preference list of a machine is a permutation of operations, indicating the order of operations the machine will process if they are ready.\n",
    "\n",
    "The preference list-based representation is an **encoding** of the schedules, and it requires a **decoding** scheme to obtain the corresponding schedule, i.e., the start times $x_{ij}$.\n",
    "\n",
    "For example, the schedule shown above can be represented as follows under the preference list-based representation."
   ]
  },
  {
   "cell_type": "code",
   "execution_count": 1,
   "id": "19df029c",
   "metadata": {},
   "outputs": [],
   "source": [
    "pref_lists = [[(0,0), (1,0)],\n",
    "              [(0,1), (1,1)],\n",
    "              [(0,2), (1,2)]]"
   ]
  },
  {
   "cell_type": "markdown",
   "id": "5224c4ec",
   "metadata": {},
   "source": [
    "### Decoding\n",
    "\n",
    "The decoding is very similar to the [state space search](https://github.com/meiyi1986/tutorials/blob/master/notebooks/job-shop-scheduling-state-space-search.ipynb). \n",
    "\n",
    "1. In the **initial state**, the schedule is empty, all machines are idle at time 0 and the first operation of each job is ready at time 0. All other operations are not ready to be processed.\n",
    "2. At each state, we find the **next actions** `Process(op, machine, t)` as follows.\n",
    "    1. `op` must be ready at time `t`, and `machine` must be idle at time `t`. \n",
    "    2. `t` is the earliest time to start processing `op` on `machine`.\n",
    "    3. The index of `op` among the uncompleted operations in the preference list of `machine` must be minimum. That is, we first check the first uncompleted operation in the preference lists. If no operation is ready, then we check the second, until we find at least one ready uncompleted operation."
   ]
  },
  {
   "cell_type": "markdown",
   "id": "942027d4",
   "metadata": {},
   "source": [
    "The code of the decoding of a solution under the preference list-based representation is as follows."
   ]
  },
  {
   "cell_type": "code",
   "execution_count": 2,
   "id": "1367a625",
   "metadata": {},
   "outputs": [],
   "source": [
    "import numpy as np\n",
    "import copy\n",
    "\n",
    "def preference_list_decoding(pref_lists, t_mtx, m_mtx):\n",
    "    num_jobs, num_machines = t_mtx.shape # Get the number of jobs and number of machines\n",
    "    num_ops = num_jobs * num_machines # Total number of operations\n",
    "    x_mtx = np.zeros([num_jobs, num_machines]) # Initialise the schedule, starting time of each operation\n",
    "    \n",
    "    machine_idle_time = np.zeros(num_machines) # Each machine is initially idle at time 0\n",
    "    op_ready_time = [(0, 0) for i in range(num_jobs)] # For each job, the first operation 0 is ready at time 0\n",
    "    \n",
    "    rem_ops = copy.deepcopy(pref_lists) # The operations remaining uncompleted\n",
    "    num_completed_ops = 0 # Number of completed operations, stop when reaching N * M\n",
    "    \n",
    "    while num_completed_ops < num_ops:\n",
    "        # Find the next actions: the ready operations with the minimum index in rem_ops\n",
    "        next_actions = []\n",
    "        for l in range(num_jobs): # l is the current index of preference list to be checked\n",
    "            for k in range(num_machines):\n",
    "                if l >= len(rem_ops[k]):\n",
    "                    continue\n",
    "                \n",
    "                (i, j) = rem_ops[k][l]\n",
    "                if op_ready_time[i][0] == j:\n",
    "                    next_actions.append((k, l))\n",
    "\n",
    "            if len(next_actions) > 0:\n",
    "                break\n",
    "        \n",
    "        # Apply the next action for each machine k\n",
    "        for (k, l) in next_actions:\n",
    "            (i, j) = rem_ops[k][l] # Get the operation to be processed\n",
    "            # Calculate the action time\n",
    "            action_t = op_ready_time[i][1]\n",
    "            if machine_idle_time[k] > action_t:\n",
    "                action_t = machine_idle_time[k]\n",
    "            \n",
    "            x_mtx[i, j] = action_t\n",
    "            rem_ops[k].pop(l)\n",
    "            num_completed_ops = num_completed_ops + 1\n",
    "            \n",
    "            finish_time = action_t + t_mtx[i, j]\n",
    "            if j < num_machines - 1:\n",
    "                op_ready_time[i] = (j+1, finish_time)\n",
    "            machine_idle_time[k] = finish_time\n",
    "    \n",
    "    return x_mtx"
   ]
  },
  {
   "cell_type": "markdown",
   "id": "36920ed9",
   "metadata": {},
   "source": [
    "We apply this decoding to the above simple example. Given the $t_{ij}$ and $m_{ij}$ matrices and the solution as preference lists, we can obtain the corresponding $x_{ij}$ matrix."
   ]
  },
  {
   "cell_type": "code",
   "execution_count": 3,
   "id": "46e9a655",
   "metadata": {},
   "outputs": [
    {
     "name": "stdout",
     "output_type": "stream",
     "text": [
      "[[  0.  30.  60.]\n",
      " [ 30.  90. 105.]]\n"
     ]
    }
   ],
   "source": [
    "t_mtx = np.array([[30, 30, 10],\n",
    "                  [60, 15, 10]])\n",
    "\n",
    "m_mtx = np.array([[0, 1, 2],\n",
    "                  [0, 1, 2]])\n",
    "\n",
    "pref_lists = [[(0,0), (1,0)],\n",
    "              [(0,1), (1,1)],\n",
    "              [(0,2), (1,2)]]\n",
    "\n",
    "x_mtx = preference_list_decoding(pref_lists, t_mtx, m_mtx)\n",
    "\n",
    "print(x_mtx)"
   ]
  },
  {
   "cell_type": "markdown",
   "id": "2c45568f",
   "metadata": {},
   "source": [
    "## Evaluation\n",
    "\n",
    "---\n",
    "\n",
    "The solution evaluation depends on the objective function. Here, we consider **minimising makespan**. Given a $x_{ij}$ matrix, we can calculate the makespan based on $x_{ij}$ and the processing time $t_{ij}$ as follows."
   ]
  },
  {
   "cell_type": "code",
   "execution_count": 4,
   "id": "124149b1",
   "metadata": {},
   "outputs": [],
   "source": [
    "def makespan(x_mtx, t_mtx):\n",
    "    return max([x_mtx[i, -1] + t_mtx[i, -1] for i in range(len(x_mtx))])"
   ]
  },
  {
   "cell_type": "markdown",
   "id": "0cfa1874",
   "metadata": {},
   "source": [
    "Thus, the evaluation of a preference list-based solution is as follows."
   ]
  },
  {
   "cell_type": "code",
   "execution_count": 5,
   "id": "eb18a9ad",
   "metadata": {},
   "outputs": [],
   "source": [
    "def evaluate(pref_lists, t_mtx, m_mtx):\n",
    "    x_mtx = preference_list_decoding(pref_lists, t_mtx, m_mtx)\n",
    "    return makespan(x_mtx, t_mtx), x_mtx"
   ]
  },
  {
   "cell_type": "markdown",
   "id": "ff90c315",
   "metadata": {},
   "source": [
    "## Local Search\n",
    "\n",
    "---\n",
    "\n",
    "### Framework\n",
    "\n",
    "Here, we consider a simple hill-climbing local search algorithm, whose framework is given as follows."
   ]
  },
  {
   "cell_type": "code",
   "execution_count": 6,
   "id": "cdab052e",
   "metadata": {},
   "outputs": [],
   "source": [
    "import time\n",
    "\n",
    "def local_search_jss(t_mtx, m_mtx, initialisation, nb_selection, seed):\n",
    "    '''\n",
    "    The local search framework for solving job shop scheduling.\n",
    "    :param t_mtx, m_mtx: The processing time and machine matrices of the problem.\n",
    "    :param initialisation: The initialisation method.\n",
    "    :param nb_selection: The neighbour selection method.\n",
    "    :param seed: the random seed, if the local search is a stochastic search.\n",
    "    :return: The final solution and the log, which stores the elapsed time and best obj so far after each iteration.\n",
    "    '''\n",
    "    \n",
    "    log = {'time': [], 'obj': []} # The log [elapse_time, best_obj]\n",
    "    start = time.time()\n",
    "    \n",
    "    sol, sol_x_mtx, sol_obj = initialisation(t_mtx, m_mtx, seed)\n",
    "    \n",
    "    improved = True\n",
    "    while improved:\n",
    "        improved = False\n",
    "\n",
    "        nb, nb_x_mtx, nb_obj = nb_selection(sol, sol_x_mtx, sol_obj, t_mtx, m_mtx, seed)\n",
    "        \n",
    "        if sol_obj - nb_obj > 0.0000000001:\n",
    "            sol, sol_x_mtx, sol_obj = nb, nb_x_mtx, nb_obj\n",
    "            improved = True\n",
    "\n",
    "        end = time.time()\n",
    "        log['time'].append(end-start)\n",
    "        log['obj'].append(sol_obj)\n",
    "\n",
    "    return sol, sol_x_mtx, sol_obj, log"
   ]
  },
  {
   "cell_type": "markdown",
   "id": "cb541fea",
   "metadata": {},
   "source": [
    "### Initialisation\n",
    "\n",
    "We can randomly initialise the preference lists by randomly shuffling the lists."
   ]
  },
  {
   "cell_type": "code",
   "execution_count": 7,
   "id": "7ed6327c",
   "metadata": {},
   "outputs": [],
   "source": [
    "def random_pref_lists(t_mtx, m_mtx, seed):\n",
    "    num_jobs, num_machines = t_mtx.shape\n",
    "    \n",
    "    pref_lists = [[] for k in range(num_machines)]\n",
    "    for i in range(num_jobs):\n",
    "        for j in range(num_machines):\n",
    "            pref_lists[m_mtx[i,j]].append((i,j))\n",
    "    \n",
    "    np.random.seed(seed)\n",
    "    for pl in pref_lists:\n",
    "        np.random.shuffle(pl)\n",
    "    \n",
    "    obj, x_mtx = evaluate(pref_lists, t_mtx, m_mtx)\n",
    "    \n",
    "    return pref_lists, x_mtx, obj"
   ]
  },
  {
   "cell_type": "markdown",
   "id": "676b12fd",
   "metadata": {},
   "source": [
    "### Neighbour Selection\n",
    "\n",
    "Under the preference list-based representation, we can **define the neighbourhood** based on the **operation swap** operator, i.e., to swap the operations at position $i$ and position $j$ in the preference list of machine $k$. The neighbourhood is defined as the set of solutions that can be applied by applying the operation swap operator with all possible $(i, j, k)$ parameters. The neighbourhood size is $O(N^2M)$, where $N$ is the number of jobs and $M$ is the number of machines.\n",
    "\n",
    "The operation swap operator is shown as follows."
   ]
  },
  {
   "cell_type": "code",
   "execution_count": 8,
   "id": "80d1fe05",
   "metadata": {},
   "outputs": [],
   "source": [
    "def op_swap(pref_lists, i, j, k):\n",
    "    tmp = pref_lists[k][i]\n",
    "    pref_lists[k][i] = pref_lists[k][j]\n",
    "    pref_lists[k][j] = tmp"
   ]
  },
  {
   "cell_type": "markdown",
   "id": "c50b215c",
   "metadata": {},
   "source": [
    "We use the **best improvement** neighbor selection, i.e., select the best neighbour in the neighbourhood. The best improvement operation swap neighbour selection is shown below."
   ]
  },
  {
   "cell_type": "code",
   "execution_count": 9,
   "id": "82d0aac1",
   "metadata": {},
   "outputs": [],
   "source": [
    "def op_swap_best_improvement(sol, sol_x_mtx, sol_obj, t_mtx, m_mtx, seed):\n",
    "    num_jobs, num_machines = t_mtx.shape\n",
    "    \n",
    "    best_nb, best_nb_x_mtx, best_nb_obj = sol, sol_x_mtx, sol_obj\n",
    "    \n",
    "    for k in range(num_machines):\n",
    "        for i in range(num_jobs-1):\n",
    "            for j in range(i+1, num_jobs):\n",
    "                nb = copy.deepcopy(sol)\n",
    "                op_swap(nb, i, j, k)\n",
    "                nb_obj, nb_x_mtx = evaluate(nb, t_mtx, m_mtx)\n",
    "                \n",
    "                if nb_obj < best_nb_obj:\n",
    "                    best_nb, best_nb_x_mtx, best_nb_obj = nb, nb_x_mtx, nb_obj\n",
    "    \n",
    "    return best_nb, best_nb_x_mtx, best_nb_obj"
   ]
  },
  {
   "cell_type": "markdown",
   "id": "018a8c87",
   "metadata": {},
   "source": [
    "## Case Study: Taillard JSP Instance\n",
    "\n",
    "---\n",
    "\n",
    "Here, we test the local search on a `data/15_15_1.jsp` Taillard JSP instance. It has 15 jobs and 15 machines. First, we load the data, i.e., the $t_{ij}$ and $m_{ij}$ matrices, as follows."
   ]
  },
  {
   "cell_type": "code",
   "execution_count": 10,
   "id": "8fc458c4",
   "metadata": {},
   "outputs": [],
   "source": [
    "def load_data(file):\n",
    "\n",
    "    \"\"\"\n",
    "    Read a JSP instance from a .jsp file, and returns the t_mtx and m_mtx.\n",
    "    :param file: the .jsp file.\n",
    "    :return: t_mtx and m_mtx\n",
    "    \"\"\"\n",
    "\n",
    "    f = open(file, \"r\")\n",
    "    \n",
    "    f.readline() # Skip the head row\n",
    "    \n",
    "    num_jobs = f.readline().lstrip().split()[0] # Read the first element, number of jobs\n",
    "    num_jobs = int(num_jobs)\n",
    "    \n",
    "    # Skip until the time matrix\n",
    "    line = f.readline()\n",
    "    while not line.__contains__(\"Times\"):\n",
    "        line = f.readline()\n",
    "\n",
    "    # Read the time matrix\n",
    "    t_mtx = []\n",
    "    \n",
    "    for i in range(num_jobs):\n",
    "        line = f.readline().lstrip().rstrip()\n",
    "        row = [float(e) for e in line.split()]\n",
    "        t_mtx.append(row)\n",
    "        \n",
    "    f.readline() # Skip the line \"Machines\"\n",
    "\n",
    "    # Read the machine matrix\n",
    "    m_mtx = []\n",
    "    \n",
    "    for i in range(num_jobs):\n",
    "        line = f.readline().lstrip().rstrip()\n",
    "        row = [int(e) for e in line.split()]\n",
    "        m_mtx.append(row)\n",
    "\n",
    "    f.close()\n",
    "\n",
    "    return np.array(t_mtx), np.array(m_mtx)-1"
   ]
  },
  {
   "cell_type": "code",
   "execution_count": 11,
   "id": "276047fd",
   "metadata": {
    "scrolled": false
   },
   "outputs": [
    {
     "name": "stdout",
     "output_type": "stream",
     "text": [
      "[[94. 66. 10. 53. 26. 15. 65. 82. 10. 27. 93. 92. 96. 70. 83.]\n",
      " [74. 31. 88. 51. 57. 78.  8.  7. 91. 79. 18. 51. 18. 99. 33.]\n",
      " [ 4. 82. 40. 86. 50. 54. 21.  6. 54. 68. 82. 20. 39. 35. 68.]\n",
      " [73. 23. 30. 30. 53. 94. 58. 93. 32. 91. 30. 56. 27. 92.  9.]\n",
      " [78. 23. 21. 60. 36. 29. 95. 99. 79. 76. 93. 42. 52. 42. 96.]\n",
      " [29. 61. 88. 70. 16. 31. 65. 83. 78. 26. 50. 87. 62. 14. 30.]\n",
      " [18. 75. 20.  4. 91. 68. 19. 54. 85. 73. 43. 24. 37. 87. 66.]\n",
      " [32. 52.  9. 49. 61. 35. 99. 62.  6. 62.  7. 80.  3. 57.  7.]\n",
      " [85. 30. 96. 91. 13. 87. 82. 83. 78. 56. 85.  8. 66. 88. 15.]\n",
      " [ 5. 59. 30. 60. 41. 17. 66. 89. 78. 88. 69. 45. 82.  6. 13.]\n",
      " [90. 27.  1.  8. 91. 80. 89. 49. 32. 28. 90. 93.  6. 35. 73.]\n",
      " [47. 43. 75.  8. 51.  3. 84. 34. 28. 60. 69. 45. 67. 58. 87.]\n",
      " [65. 62. 97. 20. 31. 33. 33. 77. 50. 80. 48. 90. 75. 96. 44.]\n",
      " [28. 21. 51. 75. 17. 89. 59. 56. 63. 18. 17. 30. 16.  7. 35.]\n",
      " [57. 16. 42. 34. 37. 26. 68. 73.  5.  8. 12. 87. 83. 20. 97.]]\n",
      "[[ 6 12  4  7  3  2 10 11  8 14  9 13  5  0  1]\n",
      " [ 4  5  7 14 13  8 11  9  6 10  0  3 12  1  2]\n",
      " [ 1  8  9 12  6 11 13  5  0  2  7 10  4  3 14]\n",
      " [ 5  2  9  6 10  0 13  4  7 14 11  8 12  1  3]\n",
      " [ 7  8  6 10  4  9  2 14 12  5  1 13 11  0  3]\n",
      " [ 5  3 12 13 11  4 14  7  2  1 10  0  9  6  8]\n",
      " [12  3  7  8 14  6  1 11  4  5  2 10  0 13  9]\n",
      " [11  5  0  7 12 13 14  1  2  8  4  3  9  6 10]\n",
      " [10 11  6 14  0  1  2  5 12  4  8  7  9 13  3]\n",
      " [ 6 11  9  2  8  0 13  3 10  7  1 12 14  4  5]\n",
      " [ 4  7 13  0  5 12  6  8 14 10  3  1 11  9  2]\n",
      " [ 2 14  0 12  6 10  7  5  8  9 13  1  3 11  4]\n",
      " [ 5  8 10  2  3  6  9  0 13  4  1 11 12  7 14]\n",
      " [ 8 14  4 13  5  6  9  1 12  7 11 10  3  2  0]\n",
      " [10  8 12  6  4  1 13 14 11  0  7  3  2  9  5]]\n"
     ]
    }
   ],
   "source": [
    "t_mtx, m_mtx = load_data(\"data/15_15_1.jsp\")\n",
    "\n",
    "print(t_mtx)\n",
    "print(m_mtx)"
   ]
  },
  {
   "cell_type": "markdown",
   "id": "5c917b6c",
   "metadata": {},
   "source": [
    "Then, we use local search to find the solution (here we arbitrarily set the random seed to 1)."
   ]
  },
  {
   "cell_type": "code",
   "execution_count": 12,
   "id": "95803f53",
   "metadata": {},
   "outputs": [],
   "source": [
    "ls_sol, ls_x_mtx, ls_obj, ls_log = local_search_jss(t_mtx, \n",
    "                                                    m_mtx, \n",
    "                                                    random_pref_lists, \n",
    "                                                    op_swap_best_improvement, \n",
    "                                                    1)"
   ]
  },
  {
   "cell_type": "markdown",
   "id": "04ddfc65",
   "metadata": {},
   "source": [
    "## Display the Schedule\n",
    "\n",
    "---\n",
    "\n",
    "Here we display the Gantt chart of the schedule obtained by the local search as follows."
   ]
  },
  {
   "cell_type": "code",
   "execution_count": 13,
   "id": "8276f237",
   "metadata": {},
   "outputs": [],
   "source": [
    "import matplotlib.pyplot as plt\n",
    "import matplotlib as mpl\n",
    "\n",
    "def gantt_chart(x_mtx, t_mtx, m_mtx):\n",
    "    num_jobs, num_machines = x_mtx.shape\n",
    "\n",
    "    makespan = max(x_mtx[:,-1] + t_mtx[:,-1])\n",
    "\n",
    "    # Declaring a figure \"gnt\"\n",
    "    fig, gnt = plt.subplots(figsize=(10+(num_jobs+num_machines)/4, 5))\n",
    "\n",
    "    # Setting Y-axis limits\n",
    "    gnt.set_ylim(0, 10 * num_machines + 10)\n",
    "\n",
    "    # Setting X-axis limits\n",
    "    gnt.set_xlim(0, makespan * 1.05)\n",
    "\n",
    "    # Setting labels for x-axis and y-axis\n",
    "    gnt.set_xlabel('Time')\n",
    "    gnt.set_ylabel('Machine')\n",
    "\n",
    "    # Setting ticks on y-axis\n",
    "    gnt.set_yticks([10 * k + 5 for k in range(num_machines)])\n",
    "    # Labelling tickes of y-axis\n",
    "    gnt.set_yticklabels(list(range(num_machines)))\n",
    "\n",
    "    # Setting graph attribute\n",
    "    gnt.grid(True)\n",
    "\n",
    "    colors = mpl.cm.Dark2.colors\n",
    "\n",
    "    for i in range(num_jobs):\n",
    "        for j in range(num_machines):\n",
    "            k = m_mtx[i,j]\n",
    "            gnt.broken_barh([(x_mtx[i,j], t_mtx[i,j])], (10 * k, 9), facecolors = colors[i%7])\n",
    "\n",
    "    gnt.text(makespan, gnt.get_ylim()[0]-2, \"{0:0.1f}\".format(makespan), ha='center', va='top')\n",
    "    gnt.plot([makespan]*2, gnt.get_ylim(), 'r--')\n",
    "\n",
    "    plt.show()"
   ]
  },
  {
   "cell_type": "code",
   "execution_count": 14,
   "id": "b1de7557",
   "metadata": {
    "scrolled": false
   },
   "outputs": [
    {
     "data": {
      "image/png": "[encoded data removed]",
      "text/plain": [
       "<Figure size 1260x360 with 1 Axes>"
      ]
     },
     "metadata": {
      "needs_background": "light"
     },
     "output_type": "display_data"
    }
   ],
   "source": [
    "gantt_chart(ls_x_mtx, t_mtx, m_mtx)"
   ]
  },
  {
   "cell_type": "markdown",
   "id": "0f378a49",
   "metadata": {},
   "source": [
    "## Convergence Curve\n",
    "\n",
    "---\n",
    "\n",
    "We then plot the convergence curve of the local search process as follows. We can see that the local search is a bit slow, it takes about 35 seconds to complete."
   ]
  },
  {
   "cell_type": "code",
   "execution_count": 15,
   "id": "54aece9d",
   "metadata": {},
   "outputs": [],
   "source": [
    "def plot_convergence_curves(logs, names, title):\n",
    "    fig, ax = plt.subplots()\n",
    "    curves = []\n",
    "    \n",
    "    for log in logs:\n",
    "        curve, = plt.plot(log['time'], log['obj'])\n",
    "        curves.append(curve)\n",
    "    \n",
    "    plt.legend(curves, names)\n",
    "    \n",
    "    ax.set_xlabel(\"time (second)\")\n",
    "    ax.set_ylabel(\"obj\")\n",
    "    \n",
    "    plt.title(title)\n",
    "    plt.show()"
   ]
  },
  {
   "cell_type": "code",
   "execution_count": 16,
   "id": "70d6934b",
   "metadata": {},
   "outputs": [
    {
     "data": {
      "image/png": "[encoded data removed]",
      "text/plain": [
       "<Figure size 432x288 with 1 Axes>"
      ]
     },
     "metadata": {
      "needs_background": "light"
     },
     "output_type": "display_data"
    }
   ],
   "source": [
    "plot_convergence_curves([ls_log], ['local search'], '15_15_1.jsp')"
   ]
  },
  {
   "cell_type": "markdown",
   "id": "dec4cbf5",
   "metadata": {},
   "source": [
    "---\n",
    "\n",
    "- More tutorials can be found [here](https://github.com/meiyi1986/tutorials).\n",
    "- [Yi Mei's homepage](https://meiyi1986.github.io/)"
   ]
  }
 ],
 "metadata": {
  "colab": {
   "name": "job-shop-scheduling-solution-optimisation.ipynb",
   "provenance": []
  },
  "kernelspec": {
   "display_name": "Python 3 (ipykernel)",
   "language": "python",
   "name": "python3"
  },
  "language_info": {
   "codemirror_mode": {
    "name": "ipython",
    "version": 3
   },
   "file_extension": ".py",
   "mimetype": "text/x-python",
   "name": "python",
   "nbconvert_exporter": "python",
   "pygments_lexer": "ipython3",
   "version": "3.9.6"
  }
 },
 "nbformat": 4,
 "nbformat_minor": 5
}
