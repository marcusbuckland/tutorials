{
 "cells": [
  {
   "cell_type": "markdown",
   "id": "5ca8bc9c",
   "metadata": {
    "id": "5ca8bc9c"
   },
   "source": [
    "# Dynamic Job Shop Scheduling: Dispatching Rule\n",
    "\n",
    "The **job shop scheduling** problem is a classic AI planning, scheduling and combinatorial optimisation problem. It has many real-world applications in Industry 4.0, such as intelligent supply chain management, manufacturing and cloud computing.\n",
    "\n",
    "In a previous [tutorial](https://github.com/meiyi1986/tutorials/blob/master/job-shop-scheduling-state-space-search.ipynb), we have introduced how to solve job shop scheduling by **state space search** in AI planning. The state space search enumerates all the goal states (complete schedules) to find the best schedule with the minimal makespan.\n",
    "\n",
    "In most real-world applications, the job shop scheduling problem is **dynamic**. That is, the information for finding the best schedule is not fully known in advance. Some unexpected events can occur in real time when the schedule is being executed. For example, in car manufacturing, we can make a production plan for the coming week (Monday to Friday) based on the orders received by Sunday. However, we might receive new unexpected orders on Tuesday. **Dynamic job shop scheduling** is to find the best schedule over time under dynamic envionment with unexpected/unpredicted events occur in real time.\n",
    "\n",
    "In this tutorial, we will introduce how to solve dynamic job shop scheduling by the **dispatching rule** heuristic."
   ]
  },
  {
   "cell_type": "markdown",
   "id": "b09d24f8",
   "metadata": {},
   "source": [
    "## Dynamic Car Manufacturing\n",
    "\n",
    "Consider the following dynamic car manufacturing scheduling problem. The job shop receives **jobs** to build cars. Each job consists of a **sequence** of three **operations**:\n",
    "\n",
    "1. **Add Engine**: This is to add the engine to the car by an **Engine Hoist**;\n",
    "2. **Add Wheels**: This is to add the wheels to the car by a **Wheel Station**;\n",
    "3. **Inspect**: After the car has been built, it has to be inspected by an **Inspector**.\n",
    "\n",
    "<img src=\"img/car-manufacturing.png\" width=400 />\n",
    "\n",
    "At the beginning of the scheduling horizon (i.e., time 0), we have received the following 2 jobs (assuming their arrival time to be 0). \n",
    "\n",
    "| Job | Arrival |Operation | Machine |  Duration | \n",
    "| --- | ------- | ------- |  --------- | ------ |\n",
    "| 1   |  0      | `add_engine_1` | `engine_hoist` | 30 |\n",
    "|     |         | `add_wheels_1` | `wheel_station` | 30 |\n",
    "|     |         | `inspect_1` |    `inspector` | 10 |  |\n",
    "| 2   |   0     | `add_engine_2` | `engine_hoist` | 60 |\n",
    "|     |         | `add_wheels_2` | `wheel_station` | 15 |\n",
    "|     |         | `inspect_2` |    `inspector` | 10 |\n",
    "\n",
    "We have found the following best schedule to process these two jobs with a makespan of 115.\n",
    "\n",
    "<img src=\"img/schedule1.png\" width=600 />\n",
    "\n",
    "Now we start executing the schedule. However, at time 20, we receive a new job as follows. The dynamic job shop scheduling aims to insert the newly arrived job into the existing schedule in the best way (and **in real time**).\n",
    "\n",
    "| Job | Arrival |Operation | Machine |  Duration | \n",
    "| --- | ------- | ------- |  --------- | ------ |\n",
    "| 3   |    20   | `add_engine_3` | `engine_hoist` | 20 |\n",
    "|     |         | `add_wheels_3` | `wheel_station` | 30 |\n",
    "|     |         | `inspect_3` |    `inspector` | 10 | \n",
    "\n",
    "We represent this dynamic job shop scheduling problem with a dynamic job arrivals as follows."
   ]
  },
  {
   "cell_type": "code",
   "execution_count": 4,
   "id": "b47f5494",
   "metadata": {},
   "outputs": [],
   "source": [
    "machines = ['engine_hoist', 'wheel_station', 'inspector']\n",
    "\n",
    "job_1 = {\n",
    "    'arrival': 0,\n",
    "    'operations': [\n",
    "        {'name': 'add_engine_1', 'machine': 'engine_hoist', 'duration': 30, 'next': 'add_wheels_1'},\n",
    "        {'name': 'add_wheels_1', 'machine': 'wheel_station', 'duration': 30, 'next': 'inspect_1'},\n",
    "        {'name': 'inspect_1', 'machine': 'inspector', 'duration': 10, 'next': None}\n",
    "    ]\n",
    "}\n",
    "\n",
    "job_2 = {\n",
    "    'arrival': 0,\n",
    "    'operations': [\n",
    "        {'name': 'add_engine_2', 'machine': 'engine_hoist', 'duration': 60, 'next': 'add_wheels_2'},\n",
    "        {'name': 'add_wheels_2', 'machine': 'wheel_station', 'duration': 15, 'next': 'inspect_2'},\n",
    "        {'name': 'inspect_2', 'machine': 'inspector', 'duration': 10, 'next': None}\n",
    "    ]\n",
    "}\n",
    "    \n",
    "\n",
    "job_3 = {\n",
    "    'arrival': 20,\n",
    "    'operations': [\n",
    "        {'name': 'add_engine_3', 'machine': 'engine_hoist', 'duration': 20, 'next': 'add_wheels_3'},\n",
    "        {'name': 'add_wheels_3', 'machine': 'wheel_station', 'duration': 30, 'next': 'inspect_3'},\n",
    "        {'name': 'inspect_3', 'machine': 'inspector', 'duration': 10, 'next': None}\n",
    "    ]\n",
    "}\n",
    "\n",
    "jobs = [job_1, job_2, job_3]"
   ]
  },
  {
   "cell_type": "markdown",
   "id": "a096f561",
   "metadata": {},
   "source": [
    "## Real-Time Rescheduling\n",
    "\n",
    "\n",
    "\n",
    "When job 3 arrives at time 20, we can see that `add_engine_1` is already being processed by `engine_hoist`, thus cannot be changed. However, all the other operations are not started yet. Therefore, we can **re-schedule** all the other operations in the existing schedule except `add_engine_1` along with the newly arrived job.\n",
    "\n",
    "An intuitive and fast way is to directly append the new job to the end of the existing schedule. In this case, we obtain an updated schedule with a makespan of 150.\n",
    "\n",
    "<img src=\"img/schedule3.png\" width=730 />\n",
    "\n",
    "However, the best new schedule has a makespan of 135.\n",
    "\n",
    "<img src=\"img/rescheduling.png\" width=730 />\n",
    "\n",
    "> **QUESTION**: How to find the best new schedule in real time?\n",
    "\n",
    "Exhaustive search such as the [state space search](https://github.com/meiyi1986/tutorials/blob/master/job-shop-scheduling-state-space-search.ipynb) can guarantee to find the best schedule. However, their computational complexity is often too high, and cannot respond to the dynamic environment efficiently.\n",
    "\n",
    "> **NOTE**: As shown in the previous [tutorial](https://github.com/meiyi1986/tutorials/blob/master/job-shop-scheduling-state-space-search.ipynb), the complexity of the state space search is $O(N^{NM})$, where $N$ is the number of jobs and $M$ is the number of machines. If there are 5 jobs and 5 machines, the complexity will be up to $5^{5\\times 5} \\approx 3 \\times 10^{17}$.\n",
    "\n",
    "<!-- On the other hand, in the dynamic environment, we need to make decisions in a very short time. In this case, we need to decide the next operation for `engine_hoist` before it becomes idle again at time 30. The state space search is often too slow to respond for dynamic job shop scheduling. -->\n",
    "\n",
    "To address issue, we can use **dispatching rule**, which can **make decisions in real time**."
   ]
  },
  {
   "cell_type": "markdown",
   "id": "4716777c",
   "metadata": {},
   "source": [
    "## Dispatching Rule <a name='rule'></a>\n",
    "\n",
    "In contrast with the state space search that expands all the applicable actions at each state, dispatching rule expands **only one** action at each state. As shown in the following car manufacturing state space, dispatching rule selects one branch (highlighted in blue boxes) at each state and finally reach a single goal state (a leaf node in the search tree).\n",
    "\n",
    "<img src=\"img/jss-rule-search.png\" width=600 />\n",
    "\n",
    "A dispatching rule selects the single action from the applicable actions based on the following two steps.\n",
    "\n",
    "1. Select the **earliest** applicable action (with the smallest start time).\n",
    "2. If there are multiple earliest applicable actions, then select an action based on the predefined **priority function**. Specifically, for each earliest applicable actions, a priority value in the current state is calculated by the priority function. Then, the action with the **highest priority** is selected."
   ]
  },
  {
   "cell_type": "markdown",
   "id": "64edeff9",
   "metadata": {},
   "source": [
    "The pseudo code of the dispatching rule heuristic is described as follows."
   ]
  },
  {
   "cell_type": "markdown",
   "id": "bc5041c0",
   "metadata": {},
   "source": [
    "```python\n",
    "Create an initial state\n",
    "# Initialise the fringe with the initial state\n",
    "fringe = [initial_state]\n",
    "\n",
    "# Search process, the fringe will become empty after the first and only goal state is reached\n",
    "while fringe is not empty:\n",
    "    # Select the first and only state in the fringe\n",
    "    state = fringe[0]\n",
    "    \n",
    "    if state is a goal state:\n",
    "        return schedule of state\n",
    "    \n",
    "    Find the applicable actions at state\n",
    "    \n",
    "    # Select the earliest action with the highest priority\n",
    "    best_action = None, earliest_time = float('inf'), best_priority = -float('inf')\n",
    "    for action in applicable_actions:\n",
    "        if action.time < earliest_time:\n",
    "            best_action = action, earliest_time = action.time, best_priority = priority(action, state)\n",
    "        elif action.time == earliest_time:  \n",
    "            p = priority(action, state)\n",
    "            if p > best_priority:\n",
    "                best_action = action, best_priority = p\n",
    "    \n",
    "    Apply best_action to state to create next_state\n",
    "    Add next_state into fringe\n",
    "\n",
    "    remove state from fringe\n",
    "```"
   ]
  },
  {
   "cell_type": "markdown",
   "id": "ed0744e6",
   "metadata": {},
   "source": [
    "Below are some examples of commonly used dispatching rules.\n",
    "\n",
    "- **First-Come-First-Serve (FCFS)**: it processes the operation that comes to the machine (becomes ready) first. The priority function can be defined as the negative ready time of the processed operation, i.e., `priority(action, state) = - state.operation_ready_time[action.operation]`.\n",
    "- **Shortest-Processing-Time (SPT)**: it processes the shortest operation with the smallest processing time first. The priority function can be defined as the negative processing time, i.e., `priority(action, state) = - action.operation.duration`."
   ]
  },
  {
   "cell_type": "markdown",
   "id": "31641de5",
   "metadata": {},
   "source": [
    "When solving dynamic job shop scheduling by dispatching rule, we first create the initial state as follows. Different from the static job shop scheduling, the first operation of each job is **ready at the job arrival time** rather than 0."
   ]
  },
  {
   "cell_type": "code",
   "execution_count": 9,
   "id": "4ad825fc",
   "metadata": {},
   "outputs": [],
   "source": [
    "def create_init_state(machines, jobs):\n",
    "    init_state = {\n",
    "        \"machine_idle_time\": {},\n",
    "        \"operation_ready_time\": {},\n",
    "        \"schedule\": {},\n",
    "        \"completed\": [] # no operation is completed initially\n",
    "    }\n",
    "\n",
    "    # Initially, the idle time of all the machines are 0.\n",
    "    for m in machines:\n",
    "        init_state[\"machine_idle_time\"][m] = 0\n",
    "\n",
    "    # Initially, only the first operation of each job is ready at the job arrival time\n",
    "    for job in jobs:\n",
    "        first_op = job['operations'][0]\n",
    "        init_state[\"operation_ready_time\"][first_op[\"name\"]] = job['arrival']\n",
    "\n",
    "    # Initially, the machine schedules are empty\n",
    "    for m in machines:\n",
    "        init_state[\"schedule\"][m] = []\n",
    "    \n",
    "    return init_state"
   ]
  },
  {
   "cell_type": "markdown",
   "id": "02a20adf",
   "metadata": {},
   "source": [
    "Then, we implement the dispatching rule search algorithm as follows, where `priority` is the priority function used by the dispatching rule."
   ]
  },
  {
   "cell_type": "code",
   "execution_count": 34,
   "id": "0b35855f",
   "metadata": {},
   "outputs": [],
   "source": [
    "def dispatching_rule_search(machines, jobs, priority):\n",
    "    # Create the operation dictionary for state space search\n",
    "    operations = {}\n",
    "    for job in jobs:\n",
    "        for op in job['operations']:\n",
    "            operations[op['name']] = op\n",
    "\n",
    "    # Create the initial state\n",
    "    state = create_init_state(machines, jobs)\n",
    "\n",
    "    # Search until reaching a goal state\n",
    "    while len(state[\"completed\"]) < len(operations):\n",
    "        # Find the best action by a dispatching rule (priority function).\n",
    "        # First, find the earliest applicable action.\n",
    "        # Then, if there are multiple exist, select the one with the highest priority.\n",
    "        \n",
    "        best_action = None\n",
    "        earliest_time = float('inf')\n",
    "        best_priority = -float('inf')\n",
    "        for opname in state[\"operation_ready_time\"].keys():\n",
    "            op = operations[opname]\n",
    "            machine = op['machine']        \n",
    "            time = state[\"operation_ready_time\"][opname]\n",
    "            if time < state[\"machine_idle_time\"][machine]:\n",
    "                time = state[\"machine_idle_time\"][machine]\n",
    "            \n",
    "            if time < earliest_time:\n",
    "                best_action = (op, time)\n",
    "                earliest_time = time\n",
    "                best_priority = priority(best_action, state)\n",
    "            elif time == earliest_time:\n",
    "                p = priority((op, time), state)\n",
    "                if p > best_priority:\n",
    "                    best_action = (op, time)\n",
    "                    best_priority = p\n",
    "\n",
    "        # Apply the best action to the state        \n",
    "        op = best_action[0] # action operation\n",
    "        machine = op['machine'] # action machine\n",
    "        time = best_action[1] # action start time\n",
    "        finish_time = time + op['duration'] # action finish time\n",
    "\n",
    "        # Apply the action to the current state, create the next state\n",
    "        state[\"schedule\"][machine].append(best_action) # add action to corresponding machine schedule sequence\n",
    "        state[\"completed\"].append(op['name']) # add operation name to completed\n",
    "        state[\"operation_ready_time\"].pop(op['name']) # delete completed operation name from ready time\n",
    "        state[\"machine_idle_time\"][machine] = finish_time # machine will become idle after completion\n",
    "\n",
    "        # If the operation is not the last operation of the job, then its next operation becomes ready\n",
    "        if op['next'] != None:\n",
    "            next_op = operations[op['next']]\n",
    "            state[\"operation_ready_time\"][next_op['name']] = finish_time\n",
    "    \n",
    "    return state[\"schedule\"]"
   ]
  },
  {
   "cell_type": "markdown",
   "id": "efd6c90c",
   "metadata": {},
   "source": [
    "Now, we can generate a schedule by the **shortest processing time (SPT)** rule."
   ]
  },
  {
   "cell_type": "code",
   "execution_count": 39,
   "id": "4730b093",
   "metadata": {},
   "outputs": [],
   "source": [
    "# Define the priority function of the SPT rule: priority = - duration\n",
    "spt_rule = lambda action, state: -action[0]['duration']\n",
    "# Generate a schedule by the SPT rule\n",
    "spt_schedule = dispatching_rule_search(machines, jobs, spt_rule)"
   ]
  },
  {
   "cell_type": "markdown",
   "id": "3a282735",
   "metadata": {},
   "source": [
    "For displaying the schedule, we copy the functions to plot the gantt chart of schedule from the previous [tutorial](https://github.com/meiyi1986/tutorials/blob/master/job-shop-scheduling-state-space-search.ipynb)."
   ]
  },
  {
   "cell_type": "code",
   "execution_count": 36,
   "id": "072b75e9",
   "metadata": {},
   "outputs": [],
   "source": [
    "import pandas as pd\n",
    "import matplotlib.pyplot as plt\n",
    "import matplotlib as mpl\n",
    "\n",
    "# Convert schedule into DataFrame\n",
    "def schedule_data_frame(schedule):\n",
    "    schedule_dict = []\n",
    "    for machine_schedule in schedule.values():\n",
    "        for action in machine_schedule:\n",
    "            a_dict = {\n",
    "                'Operation': action[0]['name'],\n",
    "                'Machine': action[0]['machine'],\n",
    "                'Start': action[1],\n",
    "                'Duration': action[0]['duration'],\n",
    "                'Finish': action[1] + action[0]['duration']\n",
    "            }\n",
    "            schedule_dict.append(a_dict)\n",
    "    \n",
    "    return pd.DataFrame(schedule_dict)\n",
    "\n",
    "# Plot gantt chart from schedule\n",
    "def gantt_chart(schedule):\n",
    "    schedule = schedule_data_frame(schedule)\n",
    "    \n",
    "    JOBS = sorted(list(schedule['Operation'].unique()))\n",
    "    MACHINES = sorted(list(schedule['Machine'].unique()))\n",
    "    makespan = schedule['Finish'].max()\n",
    "    \n",
    "    bar_style = {'alpha':1.0, 'lw':25, 'solid_capstyle':'butt'}\n",
    "    text_style = {'color':'white', 'weight':'bold', 'ha':'center', 'va':'center'}\n",
    "    colors = mpl.cm.Dark2.colors\n",
    "\n",
    "    schedule.sort_values(by=['Operation', 'Start'])\n",
    "    schedule.set_index(['Operation', 'Machine'], inplace=True)\n",
    "\n",
    "    fig, ax = plt.subplots(2,1, figsize=(12, 5+(len(JOBS)+len(MACHINES))/4))\n",
    "\n",
    "    for jdx, j in enumerate(JOBS, 1):\n",
    "        for mdx, m in enumerate(MACHINES, 1):\n",
    "            if (j,m) in schedule.index:\n",
    "                xs = schedule.loc[(j,m), 'Start']\n",
    "                xf = schedule.loc[(j,m), 'Finish']\n",
    "                ax[0].plot([xs, xf], [jdx]*2, c=colors[mdx%7], **bar_style)\n",
    "                ax[0].text((xs + xf)/2, jdx, m, **text_style)\n",
    "                ax[1].plot([xs, xf], [mdx]*2, c=colors[jdx%7], **bar_style)\n",
    "                ax[1].text((xs + xf)/2, mdx, j, **text_style)\n",
    "                \n",
    "    ax[0].set_title('Job Schedule')\n",
    "    ax[0].set_ylabel('Operation')\n",
    "    ax[1].set_title('Machine Schedule')\n",
    "    ax[1].set_ylabel('Machine')\n",
    "    \n",
    "    for idx, s in enumerate([JOBS, MACHINES]):\n",
    "        ax[idx].set_ylim(0.5, len(s) + 0.5)\n",
    "        ax[idx].set_yticks(range(1, 1 + len(s)))\n",
    "        ax[idx].set_yticklabels(s)\n",
    "        ax[idx].text(makespan, ax[idx].get_ylim()[0]-0.2, \"{0:0.1f}\".format(makespan), ha='center', va='top')\n",
    "        ax[idx].plot([makespan]*2, ax[idx].get_ylim(), 'r--')\n",
    "        ax[idx].set_xlabel('Time')\n",
    "        ax[idx].grid(True)\n",
    "        \n",
    "    fig.tight_layout()"
   ]
  },
  {
   "cell_type": "markdown",
   "id": "42b303de",
   "metadata": {},
   "source": [
    "We plot the gantt chart of the schedule obtained by the SPT rule as follows. We can see its makespan is 135."
   ]
  },
  {
   "cell_type": "code",
   "execution_count": 37,
   "id": "4656b713",
   "metadata": {},
   "outputs": [
    {
     "data": {
      "image/png": "[encoded data removed]",
      "text/plain": [
       "<Figure size 864x576 with 2 Axes>"
      ]
     },
     "metadata": {
      "needs_background": "light"
     },
     "output_type": "display_data"
    }
   ],
   "source": [
    "gantt_chart(spt_schedule)"
   ]
  },
  {
   "cell_type": "markdown",
   "id": "07990805",
   "metadata": {},
   "source": [
    "Below we show the gantt chart of the schedule obtained by the **First Come First Serve (FCFS)** rule, whose priority function is `- operation ready time`. "
   ]
  },
  {
   "cell_type": "code",
   "execution_count": 40,
   "id": "45c1a27e",
   "metadata": {},
   "outputs": [
    {
     "ename": "NameError",
     "evalue": "name 'heuristic_search_dispatching_rule' is not defined",
     "output_type": "error",
     "traceback": [
      "\u001b[0;31m---------------------------------------------------------------------------\u001b[0m",
      "\u001b[0;31mNameError\u001b[0m                                 Traceback (most recent call last)",
      "Input \u001b[0;32mIn [40]\u001b[0m, in \u001b[0;36m<cell line: 3>\u001b[0;34m()\u001b[0m\n\u001b[1;32m      1\u001b[0m fcfs_rule \u001b[38;5;241m=\u001b[39m \u001b[38;5;28;01mlambda\u001b[39;00m action, state: \u001b[38;5;241m-\u001b[39mstate[\u001b[38;5;124m'\u001b[39m\u001b[38;5;124moperation_ready_time\u001b[39m\u001b[38;5;124m'\u001b[39m][action[\u001b[38;5;241m0\u001b[39m][\u001b[38;5;124m'\u001b[39m\u001b[38;5;124mname\u001b[39m\u001b[38;5;124m'\u001b[39m]]\n\u001b[0;32m----> 3\u001b[0m fcfs_schedule \u001b[38;5;241m=\u001b[39m \u001b[43mheuristic_search_dispatching_rule\u001b[49m(job_shop, fcfs_rule)\n\u001b[1;32m      4\u001b[0m visualise(fcfs_schedule)\n",
      "\u001b[0;31mNameError\u001b[0m: name 'heuristic_search_dispatching_rule' is not defined"
     ]
    }
   ],
   "source": [
    "fcfs_rule = lambda action, state: -state['operation_ready_time'][action[0]['name']]\n",
    "fcfs_schedule = dispatching_rule_search(machines, jobs, fcfs_rule)\n",
    "gant(fcfs_schedule)"
   ]
  },
  {
   "cell_type": "markdown",
   "id": "ef7bbdd4",
   "metadata": {},
   "source": [
    "In comparison, we can see that the Shortest Processing Time rule processes `job_3` before `job_2`, since its first operation `add_engine_3` is shorter than `add_engine_2` when the `engine_hoist` machine becomes ready at time 30. However, the First Come First Serve rule processes `add_engine_2` before `add_engine_3` at time 30, since `job_2` arrives earlier than `job_3`. The long `add_engine_2` causes delay of the subsequent operations, and ultimately leads to larger makespan of the schedule.\n",
    "\n",
    "--------"
   ]
  },
  {
   "cell_type": "markdown",
   "id": "a1fe2165",
   "metadata": {},
   "source": [
    "### Computational Complexity\n",
    "\n",
    "Assume that there are $N$ jobs and $M$ machines. Each job has $M$ operations, each to be processed by a different machine. There are $NM$ operations in total.\n",
    "\n",
    "At each state, there can be at most $N$ applicable actions, as each job can have an operation ready. Therefore, it takes $O(N)$ time to find the best action from the $N$ applicable actions. However, only one branch is expanded.\n",
    "\n",
    "Each action completes an operation. Thus, it takes $NM$ actions from the initial state to a goal state. In other words, the depth of the tree is $NM$.\n",
    "\n",
    "In summary, a dispatching rule generates a chain-like search tree where each node has only one branch expanded. The entire search process visits $NM$ states, where each state takes $O(N)$ time to find the expanded branch. Therefore, the overall complexity of the dispatching rule-based heuristic search is $O(N^2M)$.\n",
    "\n",
    "> Dispatching rule has a promising characteristic that it always expends an earliest action. Taking advantage of this characteristic, we can convert the above procedure into a much more efficient **discrete event simulation** procedure with priority queue. Then, for each state, we can obtain the earliest applicable actions in $O(1)$ time. In this case, we can find the best branch in $O(E)$ time, where $E$ is the number of earliest applicable action, which is usually much smaller than $N$. We can see that the **discrete event simulation** can greatly reduce the computational complexity to $O(NME) \\ll O(N^2M)$."
   ]
  },
  {
   "cell_type": "markdown",
   "id": "dec4cbf5",
   "metadata": {},
   "source": [
    "- More tutorials can be found [here](https://github.com/meiyi1986/tutorials).\n",
    "- [Yi Mei's homepage](https://meiyi1986.github.io/)"
   ]
  }
 ],
 "metadata": {
  "colab": {
   "name": "job-shop-scheduling-solution-optimisation.ipynb",
   "provenance": []
  },
  "kernelspec": {
   "display_name": "Python 3 (ipykernel)",
   "language": "python",
   "name": "python3"
  },
  "language_info": {
   "codemirror_mode": {
    "name": "ipython",
    "version": 3
   },
   "file_extension": ".py",
   "mimetype": "text/x-python",
   "name": "python",
   "nbconvert_exporter": "python",
   "pygments_lexer": "ipython3",
   "version": "3.9.6"
  }
 },
 "nbformat": 4,
 "nbformat_minor": 5
}
